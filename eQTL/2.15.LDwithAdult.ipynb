{
 "cells": [
  {
   "cell_type": "code",
   "execution_count": 2,
   "metadata": {},
   "outputs": [
    {
     "name": "stderr",
     "output_type": "stream",
     "text": [
      "Warning message:\n",
      "“\u001b[1m\u001b[22mThe `size` argument of `element_line()` is deprecated as of ggplot2 3.4.0.\n",
      "\u001b[36mℹ\u001b[39m Please use the `linewidth` argument instead.”\n",
      "Warning message:\n",
      "“\u001b[1m\u001b[22mThe `size` argument of `element_rect()` is deprecated as of ggplot2 3.4.0.\n",
      "\u001b[36mℹ\u001b[39m Please use the `linewidth` argument instead.”\n",
      "This is a new update to coloc.\n",
      "\n"
     ]
    }
   ],
   "source": [
    "setwd(\"/projects/PPC/analysis/ppc_eqtls\")\n",
    "\n",
    "source(\"scripts/packages.R\"  )\n",
    "source(\"scripts/functions.R\" )\n",
    "source(\"scripts/input_data.R\")\n",
    "\n",
    "library(coloc)\n",
    "\n",
    "set.seed(5366)"
   ]
  },
  {
   "cell_type": "markdown",
   "metadata": {},
   "source": [
    "# Run LD between PPC and Islet & Pancreas eQTLs"
   ]
  },
  {
   "cell_type": "code",
   "execution_count": 3,
   "metadata": {},
   "outputs": [
    {
     "name": "stdout",
     "output_type": "stream",
     "text": [
      "Loading objects:\n",
      "  egene_list\n"
     ]
    },
    {
     "data": {
      "text/html": [
       "<style>\n",
       ".list-inline {list-style: none; margin:0; padding: 0}\n",
       ".list-inline>li {display: inline-block}\n",
       ".list-inline>li:not(:last-child)::after {content: \"\\00b7\"; padding: 0 .5ex}\n",
       "</style>\n",
       "<ol class=list-inline><li>'gene'</li><li>'isoform'</li></ol>\n"
      ],
      "text/latex": [
       "\\begin{enumerate*}\n",
       "\\item 'gene'\n",
       "\\item 'isoform'\n",
       "\\end{enumerate*}\n"
      ],
      "text/markdown": [
       "1. 'gene'\n",
       "2. 'isoform'\n",
       "\n",
       "\n"
      ],
      "text/plain": [
       "[1] \"gene\"    \"isoform\""
      ]
     },
     "metadata": {},
     "output_type": "display_data"
    },
    {
     "name": "stdout",
     "output_type": "stream",
     "text": [
      "Loading objects:\n",
      "  gt1_list\n"
     ]
    },
    {
     "data": {
      "text/html": [
       "<style>\n",
       ".list-inline {list-style: none; margin:0; padding: 0}\n",
       ".list-inline>li {display: inline-block}\n",
       ".list-inline>li:not(:last-child)::after {content: \"\\00b7\"; padding: 0 .5ex}\n",
       "</style>\n",
       "<ol class=list-inline><li>'gene'</li><li>'isoform'</li></ol>\n"
      ],
      "text/latex": [
       "\\begin{enumerate*}\n",
       "\\item 'gene'\n",
       "\\item 'isoform'\n",
       "\\end{enumerate*}\n"
      ],
      "text/markdown": [
       "1. 'gene'\n",
       "2. 'isoform'\n",
       "\n",
       "\n"
      ],
      "text/plain": [
       "[1] \"gene\"    \"isoform\""
      ]
     },
     "metadata": {},
     "output_type": "display_data"
    },
    {
     "name": "stdout",
     "output_type": "stream",
     "text": [
      "Loading objects:\n",
      "  finemap_dir\n"
     ]
    },
    {
     "data": {
      "text/html": [
       "<style>\n",
       ".list-inline {list-style: none; margin:0; padding: 0}\n",
       ".list-inline>li {display: inline-block}\n",
       ".list-inline>li:not(:last-child)::after {content: \"\\00b7\"; padding: 0 .5ex}\n",
       "</style>\n",
       "<ol class=list-inline><li>'gene'</li><li>'isoform'</li></ol>\n"
      ],
      "text/latex": [
       "\\begin{enumerate*}\n",
       "\\item 'gene'\n",
       "\\item 'isoform'\n",
       "\\end{enumerate*}\n"
      ],
      "text/markdown": [
       "1. 'gene'\n",
       "2. 'isoform'\n",
       "\n",
       "\n"
      ],
      "text/plain": [
       "[1] \"gene\"    \"isoform\""
      ]
     },
     "metadata": {},
     "output_type": "display_data"
    }
   ],
   "source": [
    "load(\"manuscript/robj/egene_list.robj\", verbose = T)\n",
    "names(egene_list)\n",
    "\n",
    "load(\"manuscript/robj/gt1_list.robj\", verbose = T)\n",
    "names(gt1_list)\n",
    "\n",
    "load(\"manuscript/robj/finemap_dir.robj\", verbose = T)\n",
    "names(finemap_dir)\n",
    "\n",
    "gt1_list[[\"gene\"]][[\"Islets\"]]$snp = gt1_list[[\"gene\"]][[\"Islets\"]]$id\n",
    "gt1_list[[\"gene\"]][[\"iPSC-PPC\"]]$snp = gt1_list[[\"gene\"]][[\"iPSC-PPC\"]]$id"
   ]
  },
  {
   "cell_type": "code",
   "execution_count": 4,
   "metadata": {},
   "outputs": [],
   "source": [
    "geneinfo = fread(\"/reference/private/Gencode.v34lift37/gene_info.txt\", data.table = F)  %>% \n",
    "    mutate(transcript_id = gene_id) %>% select(gene_id, transcript_id, chrom, start, end)\n",
    "\n",
    "isofinfo = fread(\"/reference/private/Gencode.v34lift37/isoform_info.txt\", data.table = F) %>% \n",
    "    select(gene_id, transcript_id, chrom, start, end)\n",
    "\n",
    "geneinfo = rbind(geneinfo, isofinfo) %>% mutate(transcript_id = simplify_id(transcript_id))"
   ]
  },
  {
   "cell_type": "markdown",
   "metadata": {},
   "source": [
    "# old"
   ]
  },
  {
   "cell_type": "code",
   "execution_count": 8,
   "metadata": {},
   "outputs": [],
   "source": [
    "# analysis = \"isoform\"\n",
    "# tissue = \"Pancreas\"\n",
    "# taskid = 100"
   ]
  },
  {
   "cell_type": "code",
   "execution_count": 7,
   "metadata": {},
   "outputs": [],
   "source": [
    "# out = data.frame(snp = unique(all_cred[all_cred$qtl_id == qtlid,]$snp))\n",
    "\n",
    "# for (Tiss in c(\"iPSC-PPC\", \"Islets\", \"Pancreas\"))\n",
    "# {\n",
    "#     out[,Tiss] = unlist(lapply(out$snp, function(x)\n",
    "#     {\n",
    "#         t = ld[ld$Var1 == x,]\n",
    "        \n",
    "#         if (nrow(t) == 0)\n",
    "#         {\n",
    "#             return(NA)\n",
    "#         } else\n",
    "#         {\n",
    "#             t = ld[ld$Var1 == x & ld$Var2 %in% all_cred[all_cred$tiss == \"iPSC-PPC\" & all_cred$qtl_id != qtlid,]$snp ,]\n",
    "#             return(max(t$value))\n",
    "#         }\n",
    "#     }))\n",
    "# }\n",
    "\n",
    "# colnames(out)[which(colnames(out) == \"iPSC-PPC\")] = \"iPSC_PPC\"\n",
    "                                                   \n",
    "# fwrite(out, paste0(outfile, \".ld.sum\"), row.names = F, sep = \"\\t\")\n",
    "\n",
    "# message(paste(\"Saved:\", paste0(outfile, \".ld.sum\")))"
   ]
  },
  {
   "cell_type": "markdown",
   "metadata": {},
   "source": [
    "# Plink per chromosome per tissue"
   ]
  },
  {
   "cell_type": "code",
   "execution_count": 6,
   "metadata": {},
   "outputs": [],
   "source": [
    "# snp_per_chr = as.data.frame(rbindlist(lapply(names(gt1_list[[\"gene\"]]), function(n)\n",
    "# {\n",
    "#     out = rbind(gt1_list[[\"gene\"]][[n]] %>% select(snp), gt1_list[[\"isoform\"]][[n]] %>% select(snp))\n",
    "#     out$snp = gsub(\"chr\", \"\", gsub(\"VAR_\", \"\", out$snp))\n",
    "#     out$chr = unlist(lapply(out$snp, function(x) { unlist(strsplit(x, \"_\"))[1] }))\n",
    "#     out$tiss = n\n",
    "#     out = out %>% filter(chr != \"null\")\n",
    "#     return(out)\n",
    "# })))\n",
    "\n",
    "# table(snp_per_chr$chr, snp_per_chr$tiss)"
   ]
  },
  {
   "cell_type": "code",
   "execution_count": 5,
   "metadata": {},
   "outputs": [],
   "source": [
    "# for (c in c(1:22)[1:9])\n",
    "# {\n",
    "#     for (Tiss1 in c(\"iPSC-PPC\", \"Islets\", \"Pancreas\"))\n",
    "#     {\n",
    "#         for (Tiss2 in c(\"iPSC-PPC\", \"Islets\", \"Pancreas\"))\n",
    "#         {\n",
    "#             # Get snps in chromosome in tissue 1\n",
    "#             snps1 = unique(snp_per_chr[snp_per_chr$chr == c & snp_per_chr$tiss == Tiss1,]$snp)\n",
    "            \n",
    "#             # Get snps in chromosome in tissue 2\n",
    "#             snps2 = unique(snp_per_chr[snp_per_chr$chr == c & snp_per_chr$tiss == Tiss2,]$snp)\n",
    "            \n",
    "#             # write snps input\n",
    "#             snps = unique(c(snps1, snps2))\n",
    "#             snpfile = paste(\"pipeline/17.eQTLFuncEnr/ld_all/input\", paste(Tiss1, Tiss2, paste0(\"chr\", c), \"txt\", sep = \".\"), sep = \"/\")\n",
    "#             writeLines(snps, snpfile, sep = \"\\n\")\n",
    "\n",
    "#             # run plink\n",
    "#             outfile = paste(\"pipeline/17.eQTLFuncEnr/ld_all/out\", paste(Tiss1, Tiss2, paste0(\"chr\", c), sep = \".\"), sep = \"/\")\n",
    "\n",
    "#             cmd = paste(\"plink\", \"--memory 15000 --threads 4\", \"--vcf\", paste0(\"~/references/1kg/vcf/\", paste0(\"chr\", c), \".vcf.gz\"), \n",
    "#                   \"--extract\", snpfile, \"--keep-allele-order\", \"--r2\", \"square\", \"--make-bed\", \"--out\", outfile)\n",
    "\n",
    "#             qsub_cmd = paste(\"echo\", paste0(\"\\\"\", cmd, \"\\\"\" ), \"|\", \"qsub -N\", paste(Tiss1, Tiss2, c, sep = \"_\"),\n",
    "#                              \"-pe smp 4\", \"-V -cwd\", \"-o\", paste(\"logs\", paste(Tiss1, Tiss2, c, \"out\", sep = \".\"), sep = \"/\"),\n",
    "#                              \"-l hostname=\\\"fl-n-1-17|fl-n-1-13|fl-n-1-9\\\"\", \n",
    "#                              \"-e\", paste(\"logs\", paste(Tiss1, Tiss2, c, \"err\", sep = \".\"), sep = \"/\"))\n",
    "#             system(qsub_cmd)\n",
    "#             message(qsub_cmd)\n",
    "#         }   \n",
    "#     }  \n",
    "# }\n"
   ]
  },
  {
   "cell_type": "markdown",
   "metadata": {},
   "source": [
    "# Summarize pairwise"
   ]
  },
  {
   "cell_type": "code",
   "execution_count": 147,
   "metadata": {},
   "outputs": [],
   "source": [
    "save(gt1_list, file = \"manuscript/robj/gt1_list.robj\")"
   ]
  },
  {
   "cell_type": "code",
   "execution_count": 462,
   "metadata": {},
   "outputs": [
    {
     "name": "stderr",
     "output_type": "stream",
     "text": [
      "iPSC-PPC gene\n",
      "\n",
      "iPSC-PPC\n",
      "\n",
      "iPSC-PPC isoform\n",
      "\n",
      "iPSC-PPC\n",
      "\n",
      "Islets gene\n",
      "\n",
      "Islets\n",
      "\n",
      "Islets isoform\n",
      "\n",
      "Pancreas gene\n",
      "\n",
      "Pancreas\n",
      "\n",
      "Pancreas isoform\n",
      "\n"
     ]
    }
   ],
   "source": [
    "all_cred = as.data.frame(rbindlist(lapply(names(gt1_list[[\"gene\"]]), function(name)\n",
    "{\n",
    "    as.data.frame(rbindlist(lapply(c(\"gene\", \"isoform\"), function(analysis)\n",
    "    {\n",
    "        message(paste(name, analysis))\n",
    "        if (name == \"Pancreas\" & analysis == \"isoform\")\n",
    "        {\n",
    "            out = gt1_list[[analysis]][[name]] %>% select(snp, qtl_id, transcript_id, gene_id) %>% distinct() %>%\n",
    "                    mutate(snp = gsub(\"chr\", \"\", gsub(\"VAR_\", \"\", snp)), \n",
    "                           chr = unlist(lapply(snp, function(x) { unlist(strsplit(x, \"_\"))[1] }))) %>% \n",
    "                    mutate(tiss = name, phenotype = analysis) \n",
    "            out$gene_id = unlist(lapply(out$transcript_id, function(x) { simplify_id(unlist(strsplit(x, \":\"))[5]) }))\n",
    "            return(out)\n",
    "        } else if (name == \"Islets\" & analysis == \"isoform\")\n",
    "        {\n",
    "            out = gt1_list[[analysis]][[name]] %>% select(snp, qtl_id, transcript_id, gene_id) %>% distinct() %>%\n",
    "                    mutate(snp = gsub(\"chr\", \"\", gsub(\"VAR_\", \"\", snp)), \n",
    "                           chr = unlist(lapply(snp, function(x) { unlist(strsplit(x, \"_\"))[1] }))) %>% \n",
    "                    mutate(tiss = name, phenotype = analysis) \n",
    "            out$gene_id = simplify_id(out$transcript_id)\n",
    "            return(out)\n",
    "        } else\n",
    "        {\n",
    "            message(name)\n",
    "            out = gt1_list[[analysis]][[name]] %>% select(snp, qtl_id, transcript_id, gene_id) %>% distinct() %>%\n",
    "                    mutate(snp = gsub(\"chr\", \"\", gsub(\"VAR_\", \"\", snp)), \n",
    "                           chr = unlist(lapply(snp, function(x) { unlist(strsplit(x, \"_\"))[1] }))) %>% \n",
    "                    mutate(tiss = name, phenotype = analysis) \n",
    "            \n",
    "            if (name == \"iPSC-PPC\" & analysis == \"isoform\")\n",
    "            {\n",
    "                out$gene_id = suppressMessages(mapvalues(out$transcript_id, from = geneinfo$transcript_id, to = simplify_id(geneinfo$gene_id)))\n",
    "            }\n",
    "            return(out)\n",
    "        }\n",
    "    })))\n",
    "})))\n",
    "\n",
    "fwrite(all_cred, \"pipeline/17.eQTLFuncEnr/ld_all/summary/all_cred_sets_gt1.txt\", row.names = F, sep = \"\\t\")"
   ]
  },
  {
   "cell_type": "markdown",
   "metadata": {},
   "source": [
    "## Combine LD output"
   ]
  },
  {
   "cell_type": "code",
   "execution_count": 11,
   "metadata": {},
   "outputs": [],
   "source": [
    "# files = list.files(\"pipeline/17.eQTLFuncEnr/ld_all/out\")\n",
    "# pairs = as.data.frame(rbindlist(lapply(files, function(f)\n",
    "# {\n",
    "#     tiss1 = unlist(strsplit(f, \"[.]\"))[1]\n",
    "#     tiss2 = unlist(strsplit(f, \"[.]\"))[2]\n",
    "#     chr = unlist(strsplit(f, \"[.]\"))[3]\n",
    "#     data.frame(tiss1 = tiss1, tiss2 = tiss2, chr = chr)\n",
    "# }))) %>% distinct()\n",
    "\n",
    "# tiss1 = \"iPSC-PPC\"\n",
    "# tiss2 = \"iPSC-PPC\"\n",
    "# chr = 22"
   ]
  },
  {
   "cell_type": "code",
   "execution_count": 10,
   "metadata": {},
   "outputs": [],
   "source": [
    "# ld = fread(paste(\"pipeline/17.eQTLFuncEnr/ld_all/out\", paste(tiss1, tiss2, paste0(\"chr\", chr), \"ld\", sep = \".\"), sep = \"/\"), data.table = F)\n",
    "# bim = fread(paste(\"pipeline/17.eQTLFuncEnr/ld_all/out\", paste(tiss1, tiss2, paste0(\"chr\", chr), \"bim\", sep = \".\"), sep = \"/\"), data.table = F)\n",
    "\n",
    "# rownames(ld) = bim$V2\n",
    "# colnames(ld) = bim$V2\n",
    "\n",
    "# a = suppressWarnings(melt(as.matrix(ld))) %>% filter(value > 0.6) %>% mutate(Var1 = as.vector(Var1), Var2 = as.vector(Var2)) \n",
    "# a$pos1 = as.numeric(unlist(lapply(a$Var1, function(x) { unlist(strsplit(x, \"_\"))[2] })))\n",
    "# a$pos2 = as.numeric(unlist(lapply(a$Var2, function(x) { unlist(strsplit(x, \"_\"))[2] })))\n",
    "# a$dist = abs(a$pos2 - a$pos1)\n",
    "# summary(a$dist)\n",
    "\n"
   ]
  },
  {
   "cell_type": "code",
   "execution_count": 9,
   "metadata": {},
   "outputs": [],
   "source": [
    "# for (row in c(1:nrow(pairs)))\n",
    "# {\n",
    "#     tiss1 = pairs[row,]$tiss1\n",
    "#     tiss2 = pairs[row,]$tiss2\n",
    "#     chr = pairs[row,]$chr\n",
    "    \n",
    "# #     kb = \"200000\"\n",
    "# #     r2 = 0.6\n",
    "#     r2 = 0.1\n",
    "#     kb = 500000\n",
    "    \n",
    "#     if (tiss1 == \"Pancreas\")\n",
    "#     {\n",
    "#         cmd = paste0(\"\\\"\", paste(\"Rscript scripts/17.eQTLFuncEnr/combine_ld.R --tiss1\", paste0(\"\\\"\", tiss1, \"\\\"\"), \"--tiss2\", paste0(\"\\\"\", tiss2, \"\\\"\"), \n",
    "#                 \"--chr\", gsub(\"chr\", \"\", chr), \"--r2\", r2, \"--kb\",  kb), \"\\\"\")\n",
    "    \n",
    "#         qsub = paste(\"echo\", cmd, \"|\", \"qsub -N\", paste(tiss1, tiss2, gsub(\"chr\", \"\", chr), sep = \".\"), \n",
    "#                      \"-o\", \"logs/LD_filter.out\", \"-e\", \"logs/LD_filter.err\", \"-V -cwd\", \"-pe smp 4\")\n",
    "#         message(qsub)\n",
    "#     #     system(qsub)\n",
    "#     }\n",
    "    \n",
    "    \n",
    "# }"
   ]
  },
  {
   "cell_type": "code",
   "execution_count": 12,
   "metadata": {},
   "outputs": [],
   "source": [
    "# r2 = 0.1\n",
    "# kb = 500000\n",
    "\n",
    "# files = list.files(\"pipeline/17.eQTLFuncEnr/ld_all/out\")\n",
    "# # files = files[which(files %like% paste(r2, kb, \"filt\", sep = \"_\"))]\n",
    "# files = files[which(files %like% \"0.1\")]\n",
    "\n",
    "# ld_data = lapply(c(1:22), function(chr)\n",
    "# {\n",
    "#     message(chr)\n",
    "#     as.data.frame(rbindlist(lapply(files[which(files %like% paste0(\"chr\", chr, \"[.]\"))], function(f)\n",
    "#     {\n",
    "#         message(f)\n",
    "#         fread(paste(\"pipeline/17.eQTLFuncEnr/ld_all/out\", f, sep = \"/\"), data.table = F)\n",
    "#     }))) %>% distinct()\n",
    "# })\n",
    "\n",
    "# names(ld_data) = paste0(\"chr\", c(1:22))\n",
    "\n",
    "# outfile = paste(\"pipeline/17.eQTLFuncEnr/ld_all/summary\", paste(\"LD_data\", r2, kb, \"robj\", sep = \".\"), sep = \"/\")\n",
    "# save(ld_data, file = outfile)\n",
    "# message(paste(\"Saved:\", outfile))"
   ]
  },
  {
   "cell_type": "code",
   "execution_count": 13,
   "metadata": {},
   "outputs": [],
   "source": [
    "geneinfo = fread(\"/reference/private/Gencode.v34lift37/gene_info.txt\", data.table = F)  %>% \n",
    "    mutate(transcript_id = gene_id) %>% select(gene_id, transcript_id, chrom, start, end)\n",
    "\n",
    "isofinfo = fread(\"/reference/private/Gencode.v34lift37/isoform_info.txt\", data.table = F) %>% \n",
    "    select(gene_id, transcript_id, chrom, start, end)\n",
    "\n",
    "geneinfo = rbind(geneinfo, isofinfo) %>% mutate(transcript_id = simplify_id(transcript_id))"
   ]
  },
  {
   "cell_type": "code",
   "execution_count": 14,
   "metadata": {},
   "outputs": [
    {
     "name": "stdout",
     "output_type": "stream",
     "text": [
      "Loading objects:\n",
      "  egene_list\n"
     ]
    },
    {
     "data": {
      "text/html": [
       "<style>\n",
       ".list-inline {list-style: none; margin:0; padding: 0}\n",
       ".list-inline>li {display: inline-block}\n",
       ".list-inline>li:not(:last-child)::after {content: \"\\00b7\"; padding: 0 .5ex}\n",
       "</style>\n",
       "<ol class=list-inline><li>'gene'</li><li>'isoform'</li></ol>\n"
      ],
      "text/latex": [
       "\\begin{enumerate*}\n",
       "\\item 'gene'\n",
       "\\item 'isoform'\n",
       "\\end{enumerate*}\n"
      ],
      "text/markdown": [
       "1. 'gene'\n",
       "2. 'isoform'\n",
       "\n",
       "\n"
      ],
      "text/plain": [
       "[1] \"gene\"    \"isoform\""
      ]
     },
     "metadata": {},
     "output_type": "display_data"
    }
   ],
   "source": [
    "load(\"manuscript/robj/egene_list.robj\", verbose = T)\n",
    "names(egene_list)"
   ]
  },
  {
   "cell_type": "code",
   "execution_count": null,
   "metadata": {},
   "outputs": [],
   "source": [
    "length(unique(egene_list[[analysis]][[tiss]]$qtl_id))"
   ]
  },
  {
   "cell_type": "code",
   "execution_count": 15,
   "metadata": {},
   "outputs": [],
   "source": [
    "# r2 = 0.1\n",
    "# kb = \"500000\"\n",
    "# for (analysis in c(\"gene\", \"isoform\")[1])\n",
    "# {\n",
    "#     for (tiss in c(\"iPSC-PPC\", \"Pancreas\", \"Islets\")[1])\n",
    "#     {\n",
    "#         cmd = paste(\"qsub -N\", paste(analysis, tiss, sep = \".\"), \n",
    "#                     \"-V -cwd\", \"-t\", paste0(\"1-\", 10, \":1\"), \"-tc\", \"10\",\n",
    "# #                     \"-l hostname=\\\"fl-n-1-17|fl-n-1-3|fl-n-1-13\\\"\", \n",
    "#                     \"-pe smp 4\", \n",
    "#                     \"-o\", paste(\"logs\", paste(\"LD\", tiss, analysis, \"out\", sep = \".\"), sep = \"/\"),\n",
    "#                     \"-e\", paste(\"logs\", paste(\"LD\", tiss, analysis, \"err\", sep = \".\"), sep = \"/\"),\n",
    "#                     \"scripts/17.eQTLFuncEnr/ld_by_egene.sh\", analysis, tiss, r2, kb)\n",
    "        \n",
    "#         message(cmd)\n",
    "#         system(cmd)\n",
    "#     }\n",
    "# }\n"
   ]
  },
  {
   "cell_type": "code",
   "execution_count": 16,
   "metadata": {},
   "outputs": [],
   "source": [
    "# get_ld_results = function(qtlid, analysis, tiss1)\n",
    "# {\n",
    "#     genes2test = get_genes2test(qtlid, analysis, tiss1)\n",
    "#     names(genes2test)\n",
    "    \n",
    "#     outlist = list()\n",
    "\n",
    "#     for (tiss2 in c(\"iPSC-PPC\", \"Islets\", \"Pancreas\"))\n",
    "#     {\n",
    "#         if (tiss2 %in% names(genes2test))\n",
    "#         {\n",
    "#             if (tiss2 == \"iPSC-PPC\")\n",
    "#             {\n",
    "#                 genes = all_cred %>% filter(tiss == \"iPSC-PPC\" & gene_id %in% genes2test[[\"iPSC-PPC\"]]) %>% pull(qtl_id)\n",
    "\n",
    "#             } else\n",
    "#             {\n",
    "#                 genes = paste(tiss2, genes2test[[tiss2]])\n",
    "#             }\n",
    "\n",
    "#             snps1 = all_cred %>% filter(qtl_id == qtlid)\n",
    "#             snps2 = all_cred %>% filter(qtl_id %in% genes)\n",
    "\n",
    "#             chr = paste0(\"chr\", unlist(strsplit(snps1$snp[1], \"_\"))[1])\n",
    "\n",
    "#             t = ld_data[[chr]] %>% filter(Var1 %in% snps1$snp & Var2 %in% snps2$snp)\n",
    "\n",
    "#             if (nrow(t))\n",
    "#             {\n",
    "#                 outlist[[tiss2]] = F\n",
    "#             } else\n",
    "#             {\n",
    "#                 outlist[[tiss2]] = T\n",
    "#             }\n",
    "#         } else\n",
    "#         {\n",
    "#             outlist[[tiss2]] = F\n",
    "#         }\n",
    "#     }\n",
    "    \n",
    "#     return(outlist)\n",
    "# }\n",
    "    "
   ]
  },
  {
   "cell_type": "code",
   "execution_count": 17,
   "metadata": {},
   "outputs": [],
   "source": [
    "# get_genes2test = function(qtlid, analysis, tissue)\n",
    "# {\n",
    "#     transcript = unlist(strsplit(qtlid, \" \"))[2]\n",
    "\n",
    "#     if (analysis == \"isoform\")\n",
    "#     {\n",
    "#         if (tissue == \"Islets\")\n",
    "#         {\n",
    "#             gene = simplify_id(transcript)\n",
    "#         } else if (tissue == \"Pancreas\")\n",
    "#         {\n",
    "#             gene = simplify_id(unlist(strsplit(transcript, \":\"))[5])\n",
    "#         } else\n",
    "#         {\n",
    "#             gene = transcript\n",
    "#         }\n",
    "#     } else\n",
    "#     {\n",
    "#         gene = transcript\n",
    "#     }\n",
    "    \n",
    "#     message(paste(\"gene:\", gene))\n",
    "\n",
    "#     chr       = geneinfo[geneinfo$transcript_id == gene,]$chrom\n",
    "#     start_pos = geneinfo[geneinfo$transcript_id == gene,]$start\n",
    "#     end_pos   = geneinfo[geneinfo$transcript_id == gene,]$end\n",
    "    \n",
    "#     message(paste(chr, start_pos, end_pos))\n",
    "\n",
    "#     genes2test = geneinfo[geneinfo$chrom == chr & geneinfo$start >= (start_pos - 1e6) & geneinfo$end <= (end_pos + 1e6),]\n",
    "\n",
    "#     # Get genes in each tissue\n",
    "#     tiss2test = list()\n",
    "\n",
    "#     for (g in simplify_id(genes2test$gene_id))\n",
    "#     { \n",
    "#         tiss2test[[\"Islets\"  ]] = c(tiss2test[[\"Islets\"  ]], egene_list[[analysis]][[\"Islets\"  ]] %>% filter(transcript_id %like% g) %>% pull(transcript_id)) \n",
    "#         tiss2test[[\"Pancreas\"]] = c(tiss2test[[\"Pancreas\"]], egene_list[[analysis]][[\"Pancreas\"]] %>% filter(transcript_id %like% g) %>% pull(transcript_id)) \n",
    "#         tiss2test[[\"iPSC-PPC\"]] = c(tiss2test[[\"iPSC-PPC\"]], egene_list[[analysis]][[\"iPSC-PPC\"]] %>% filter(gene_id %like% g) %>% pull(transcript_id)) \n",
    "#     }\n",
    "\n",
    "#     return(tiss2test)\n",
    "# }"
   ]
  },
  {
   "cell_type": "markdown",
   "metadata": {},
   "source": [
    "# Summarize results"
   ]
  },
  {
   "cell_type": "code",
   "execution_count": 18,
   "metadata": {},
   "outputs": [],
   "source": [
    "# files = list.files(\"pipeline/17.eQTLFuncEnr/ld_all/processed_0.6_150000\")\n",
    "# length(unique(files))"
   ]
  },
  {
   "cell_type": "code",
   "execution_count": 19,
   "metadata": {},
   "outputs": [],
   "source": [
    "# out = as.data.frame(rbindlist(lapply(files, function(x)\n",
    "# {\n",
    "#     tiss = unlist(strsplit(x, \"[.]\"))[1]\n",
    "#     analysis = unlist(strsplit(x, \"[.]\"))[2]\n",
    "#     if (tiss == \"Islets\" & analysis == \"isoform\")\n",
    "#     {\n",
    "#         qtlid = paste(\"Islets\", gsub(\"Islets.isoform.Islets-\", \"\", gsub(\".robj\", \"\", x)))\n",
    "        \n",
    "#     }  else if (tiss == \"Pancreas\" & analysis == \"isoform\")\n",
    "#     {\n",
    "#         qtlid = paste(\"Pancreas\", gsub(\"Pancreas.isoform.Pancreas-\", \"\", gsub(\".robj\", \"\", x)))\n",
    "#     } else\n",
    "#     {\n",
    "#        qtlid = gsub(\"-\", \" \", unlist(strsplit(x, \"[.]\"))[3]) \n",
    "#     }\n",
    "\n",
    "#     load(paste(\"pipeline/17.eQTLFuncEnr/ld_all/processed_0.6_150000\", x, sep = \"/\"))\n",
    "    \n",
    "#     data.frame(tissue = tiss, analysis = analysis, qtl_id = qtlid, in_ld_ppc = outlist[[\"iPSC-PPC\"]], in_ld_islet = outlist[[\"Islets\"]], in_ld_panc = outlist[[\"Pancreas\"]])\n",
    "# })))"
   ]
  },
  {
   "cell_type": "code",
   "execution_count": 20,
   "metadata": {},
   "outputs": [],
   "source": [
    "# a = egene_list[[\"gene\"]][[\"Islets\"]] %>% filter(ChrPheno == 23) %>% pull(qtl_id)\n",
    "# a = c(a, egene_list[[\"isoform\"]][[\"Islets\"]] %>% filter(ChrPheno == 23) %>% pull(qtl_id))\n",
    "# out = out %>% filter(!qtl_id %in% a)\n",
    "\n",
    "# out = out %>% filter(in_ld_islet != \"NA\")"
   ]
  },
  {
   "cell_type": "code",
   "execution_count": 21,
   "metadata": {},
   "outputs": [],
   "source": [
    "# fwrite(out, \"pipeline/17.eQTLFuncEnr/ld_all/summary/LD_results.0.6_150000.txt\", row.names = F, sep = \"\\t\")"
   ]
  },
  {
   "cell_type": "markdown",
   "metadata": {},
   "source": [
    "# Using Lead Putative Causal SNP"
   ]
  },
  {
   "cell_type": "code",
   "execution_count": 22,
   "metadata": {},
   "outputs": [
    {
     "name": "stdout",
     "output_type": "stream",
     "text": [
      "Loading objects:\n",
      "  gt1_list\n"
     ]
    },
    {
     "data": {
      "text/html": [
       "<style>\n",
       ".list-inline {list-style: none; margin:0; padding: 0}\n",
       ".list-inline>li {display: inline-block}\n",
       ".list-inline>li:not(:last-child)::after {content: \"\\00b7\"; padding: 0 .5ex}\n",
       "</style>\n",
       "<ol class=list-inline><li>'iPSC-PPC'</li><li>'Islets'</li><li>'Pancreas'</li></ol>\n"
      ],
      "text/latex": [
       "\\begin{enumerate*}\n",
       "\\item 'iPSC-PPC'\n",
       "\\item 'Islets'\n",
       "\\item 'Pancreas'\n",
       "\\end{enumerate*}\n"
      ],
      "text/markdown": [
       "1. 'iPSC-PPC'\n",
       "2. 'Islets'\n",
       "3. 'Pancreas'\n",
       "\n",
       "\n"
      ],
      "text/plain": [
       "[1] \"iPSC-PPC\" \"Islets\"   \"Pancreas\""
      ]
     },
     "metadata": {},
     "output_type": "display_data"
    },
    {
     "data": {
      "text/html": [
       "<style>\n",
       ".list-inline {list-style: none; margin:0; padding: 0}\n",
       ".list-inline>li {display: inline-block}\n",
       ".list-inline>li:not(:last-child)::after {content: \"\\00b7\"; padding: 0 .5ex}\n",
       "</style>\n",
       "<ol class=list-inline><li>'iPSC-PPC'</li><li>'Islets'</li><li>'Pancreas'</li></ol>\n"
      ],
      "text/latex": [
       "\\begin{enumerate*}\n",
       "\\item 'iPSC-PPC'\n",
       "\\item 'Islets'\n",
       "\\item 'Pancreas'\n",
       "\\end{enumerate*}\n"
      ],
      "text/markdown": [
       "1. 'iPSC-PPC'\n",
       "2. 'Islets'\n",
       "3. 'Pancreas'\n",
       "\n",
       "\n"
      ],
      "text/plain": [
       "[1] \"iPSC-PPC\" \"Islets\"   \"Pancreas\""
      ]
     },
     "metadata": {},
     "output_type": "display_data"
    }
   ],
   "source": [
    "load(\"manuscript/robj/gt1_list.robj\", verbose = T)\n",
    "\n",
    "names(gt1_list[[\"gene\"]])\n",
    "names(gt1_list[[\"isoform\"]])\n",
    "\n",
    "gt1_list[[1]][[2]]$snp = paste(\"VAR\", gt1_list[[1]][[2]]$snp, sep = \"_\")\n",
    "gt1_list[[2]][[2]]$snp = paste(\"VAR\", gt1_list[[2]][[2]]$snp, sep = \"_\")"
   ]
  },
  {
   "cell_type": "code",
   "execution_count": 23,
   "metadata": {},
   "outputs": [
    {
     "name": "stderr",
     "output_type": "stream",
     "text": [
      "gene iPSC-PPC 4433\n",
      "\n",
      "gene Islets 4208\n",
      "\n",
      "gene Pancreas 9426\n",
      "\n",
      "isoform iPSC-PPC 4232\n",
      "\n",
      "isoform Islets 5292\n",
      "\n",
      "isoform Pancreas 2249\n",
      "\n"
     ]
    }
   ],
   "source": [
    "for (pheno in names(gt1_list))\n",
    "{\n",
    "    for (tiss in names(gt1_list[[pheno]]))\n",
    "    {\n",
    "        message(paste(pheno, tiss, length(unique(gt1_list[[pheno]][[tiss]]$qtl_id) )))\n",
    "    }\n",
    "}"
   ]
  },
  {
   "cell_type": "code",
   "execution_count": 24,
   "metadata": {},
   "outputs": [
    {
     "data": {
      "text/plain": [
       "\n",
       " TRUE \n",
       "27384 "
      ]
     },
     "metadata": {},
     "output_type": "display_data"
    },
    {
     "data": {
      "text/plain": [
       "\n",
       " TRUE \n",
       "27384 "
      ]
     },
     "metadata": {},
     "output_type": "display_data"
    }
   ],
   "source": [
    "egenes_gt1 = unlist(lapply(names(gt1_list), function(pheno)\n",
    "{\n",
    "    unlist(lapply(names(gt1_list[[pheno]]), function(tiss)\n",
    "    {\n",
    "        gt1_list[[pheno]][[tiss]]$qtl_id\n",
    "    }))\n",
    "}))\n",
    "\n",
    "qtl2class = fread(\"pipeline/17.eQTLFuncEnr/ld_all/topsnp/qtl2class.txt\", data.table = F)\n",
    "table(qtl2class$has_gt1)\n",
    "qtl2class$has_gt1 = ifelse(qtl2class$eqtl_id %in% egenes_gt1, T, F)\n",
    "table(qtl2class$has_gt1)"
   ]
  },
  {
   "cell_type": "code",
   "execution_count": 492,
   "metadata": {},
   "outputs": [],
   "source": [
    "# load(\"manuscript/robj/99CredibleSet_list.robj\", verbose = T)"
   ]
  },
  {
   "cell_type": "code",
   "execution_count": 51,
   "metadata": {},
   "outputs": [
    {
     "name": "stdout",
     "output_type": "stream",
     "text": [
      "Loading objects:\n",
      "  egene_list\n"
     ]
    },
    {
     "data": {
      "text/html": [
       "<style>\n",
       ".list-inline {list-style: none; margin:0; padding: 0}\n",
       ".list-inline>li {display: inline-block}\n",
       ".list-inline>li:not(:last-child)::after {content: \"\\00b7\"; padding: 0 .5ex}\n",
       "</style>\n",
       "<ol class=list-inline><li>'0 ENSG00000004478'</li><li>'0 ENSG00000005882'</li><li>'0 ENSG00000006634'</li><li>'0 ENSG00000010803'</li><li>'0 ENSG00000015676'</li><li>'0 ENSG00000021645'</li></ol>\n"
      ],
      "text/latex": [
       "\\begin{enumerate*}\n",
       "\\item '0 ENSG00000004478'\n",
       "\\item '0 ENSG00000005882'\n",
       "\\item '0 ENSG00000006634'\n",
       "\\item '0 ENSG00000010803'\n",
       "\\item '0 ENSG00000015676'\n",
       "\\item '0 ENSG00000021645'\n",
       "\\end{enumerate*}\n"
      ],
      "text/markdown": [
       "1. '0 ENSG00000004478'\n",
       "2. '0 ENSG00000005882'\n",
       "3. '0 ENSG00000006634'\n",
       "4. '0 ENSG00000010803'\n",
       "5. '0 ENSG00000015676'\n",
       "6. '0 ENSG00000021645'\n",
       "\n",
       "\n"
      ],
      "text/plain": [
       "[1] \"0 ENSG00000004478\" \"0 ENSG00000005882\" \"0 ENSG00000006634\"\n",
       "[4] \"0 ENSG00000010803\" \"0 ENSG00000015676\" \"0 ENSG00000021645\""
      ]
     },
     "metadata": {},
     "output_type": "display_data"
    }
   ],
   "source": [
    "load(\"manuscript/robj/egene_list.robj\", verbose = T)\n",
    "\n",
    "all_egenes = unlist(lapply(names(egene_list), function(pheno) \n",
    "{\n",
    "    unlist(lapply(names(egene_list[[pheno]]), function(tiss)\n",
    "    {\n",
    "        egene_list[[pheno]][[tiss]]$qtl_id\n",
    "    }))\n",
    "}))\n",
    "\n",
    "head(all_egenes[which(!all_egenes %in% topsnp$qtl_id)])"
   ]
  },
  {
   "cell_type": "code",
   "execution_count": 399,
   "metadata": {},
   "outputs": [],
   "source": [
    "# ipscore_list = list()\n",
    "\n",
    "# for (i in c(1:22))\n",
    "# {\n",
    "#     message(i)\n",
    "#     ipscore_list[[paste0(\"chr\", i)]] = paste(\"VAR\", readLines(paste(\"/frazer01/home/jennifer/references/ipscore/rsid\", paste(paste0(\"chr\", i), \"snp\", sep = \".\"), sep = \"/\")), sep = \"_\")\n",
    "# }"
   ]
  },
  {
   "cell_type": "code",
   "execution_count": 13,
   "metadata": {},
   "outputs": [],
   "source": [
    "library(tidyr)"
   ]
  },
  {
   "cell_type": "code",
   "execution_count": 45,
   "metadata": {},
   "outputs": [
    {
     "name": "stderr",
     "output_type": "stream",
     "text": [
      "1\n",
      "\n",
      "2\n",
      "\n",
      "3\n",
      "\n",
      "4\n",
      "\n",
      "5\n",
      "\n",
      "6\n",
      "\n",
      "7\n",
      "\n",
      "8\n",
      "\n",
      "9\n",
      "\n",
      "10\n",
      "\n",
      "11\n",
      "\n",
      "12\n",
      "\n",
      "13\n",
      "\n",
      "14\n",
      "\n",
      "15\n",
      "\n",
      "16\n",
      "\n",
      "17\n",
      "\n",
      "18\n",
      "\n",
      "19\n",
      "\n",
      "20\n",
      "\n",
      "21\n",
      "\n",
      "22\n",
      "\n"
     ]
    }
   ],
   "source": [
    "rsid_list = list()\n",
    "\n",
    "for (i in c(1:22))\n",
    "{\n",
    "    message(i)\n",
    "    this = paste(\"VAR\", readLines(paste(\"/frazer01/home/jennifer/references/1kg/vcf\", paste(paste0(\"chr\", i), \"snp\", sep = \".\"), sep = \"/\")), sep = \"_\")\n",
    "    this = data.frame(snp = this)\n",
    "    this[,c(\"var\", \"chr\", \"pos\", \"ref\", \"alt\")] = str_split_fixed(this$snp, \"_\", 5)\n",
    "    this$chr_pos = paste(this$chr, this$pos, sep = \"_\")\n",
    "    rsid_list[[paste0(\"chr\", i)]] = this\n",
    "}"
   ]
  },
  {
   "cell_type": "code",
   "execution_count": 46,
   "metadata": {},
   "outputs": [
    {
     "name": "stderr",
     "output_type": "stream",
     "text": [
      "gene iPSC-PPC\n",
      "\n"
     ]
    },
    {
     "name": "stdout",
     "output_type": "stream",
     "text": [
      "\n",
      " FALSE   TRUE \n",
      " 18559 348724 \n"
     ]
    },
    {
     "name": "stderr",
     "output_type": "stream",
     "text": [
      "gene Islets\n",
      "\n"
     ]
    },
    {
     "name": "stdout",
     "output_type": "stream",
     "text": [
      "\n",
      " FALSE   TRUE \n",
      "  1853 233891 \n"
     ]
    },
    {
     "name": "stderr",
     "output_type": "stream",
     "text": [
      "gene Pancreas\n",
      "\n"
     ]
    },
    {
     "name": "stdout",
     "output_type": "stream",
     "text": [
      "\n",
      " FALSE   TRUE \n",
      " 13370 507276 \n"
     ]
    },
    {
     "name": "stderr",
     "output_type": "stream",
     "text": [
      "isoform iPSC-PPC\n",
      "\n"
     ]
    },
    {
     "name": "stdout",
     "output_type": "stream",
     "text": [
      "\n",
      " FALSE   TRUE \n",
      " 18089 309942 \n"
     ]
    },
    {
     "name": "stderr",
     "output_type": "stream",
     "text": [
      "isoform Islets\n",
      "\n"
     ]
    },
    {
     "name": "stdout",
     "output_type": "stream",
     "text": [
      "\n",
      " FALSE   TRUE \n",
      "  3086 348023 \n"
     ]
    },
    {
     "name": "stderr",
     "output_type": "stream",
     "text": [
      "isoform Pancreas\n",
      "\n"
     ]
    },
    {
     "name": "stdout",
     "output_type": "stream",
     "text": [
      "\n",
      "FALSE  TRUE \n",
      " 2431 88472 \n"
     ]
    }
   ],
   "source": [
    "ngt1_list = gt1_list\n",
    "\n",
    "for (pheno in names(ngt1_list))\n",
    "{\n",
    "    for (tiss in names(ngt1_list[[pheno]]))\n",
    "    {\n",
    "        if (tiss != \"Pancreas other\")\n",
    "        {\n",
    "            message(paste(pheno, tiss))\n",
    "            ngt1_list[[pheno]][[tiss]]$snp = gsub(\"chr\", \"VAR_\", ngt1_list[[pheno]][[tiss]]$snp)\n",
    "            ngt1_list[[pheno]][[tiss]][,c(\"var\", \"chr\", \"pos\", \"ref\", \"alt\")] = str_split_fixed(ngt1_list[[pheno]][[tiss]]$snp, \"_\", 5)\n",
    "            ngt1_list[[pheno]][[tiss]]$chr_pos = paste(ngt1_list[[pheno]][[tiss]]$chr, ngt1_list[[pheno]][[tiss]]$pos, sep = \"_\")\n",
    "            \n",
    "            ngt1_list[[pheno]][[tiss]] = as.data.frame(rbindlist(lapply(c(1:22), function(x)\n",
    "            {\n",
    "                this = ngt1_list[[pheno]][[tiss]] %>% filter(chr == x)\n",
    "                if (nrow(this) != 0)\n",
    "                {\n",
    "                    this$in_1kg = ifelse(this$chr_pos %in% rsid_list[[paste0(\"chr\", x)]]$chr_pos, T, F)\n",
    "                    this = merge(this, rsid_list[[paste0(\"chr\", x)]] %>% \n",
    "                                     select(chr_pos, snp, ref, alt) %>% \n",
    "                                     rename(snp_1kg = snp, ref_1kg = ref, alt_1kg = alt),\n",
    "                                 all.x = T, by = \"chr_pos\")\n",
    "                    return(this)\n",
    "                }\n",
    "            })))\n",
    "            print(table(ngt1_list[[pheno]][[tiss]]$in_1kg))\n",
    "        }\n",
    "    }\n",
    "}"
   ]
  },
  {
   "cell_type": "code",
   "execution_count": 47,
   "metadata": {},
   "outputs": [
    {
     "data": {
      "text/plain": [
       "\n",
       " TRUE \n",
       "27384 "
      ]
     },
     "metadata": {},
     "output_type": "display_data"
    },
    {
     "data": {
      "text/plain": [
       "\n",
       " TRUE \n",
       "27384 "
      ]
     },
     "metadata": {},
     "output_type": "display_data"
    }
   ],
   "source": [
    "egenes_gt1 = unlist(lapply(names(ngt1_list), function(pheno)\n",
    "{\n",
    "    unlist(lapply(names(ngt1_list[[pheno]]), function(tiss)\n",
    "    {\n",
    "        ngt1_list[[pheno]][[tiss]]$qtl_id\n",
    "    }))\n",
    "}))\n",
    "\n",
    "qtl2class = fread(\"pipeline/17.eQTLFuncEnr/ld_all/topsnp/qtl2class.txt\", data.table = F)\n",
    "table(qtl2class$has_gt1)\n",
    "qtl2class$has_gt1 = ifelse(qtl2class$eqtl_id %in% egenes_gt1, T, F)\n",
    "table(qtl2class$has_gt1)"
   ]
  },
  {
   "cell_type": "code",
   "execution_count": 481,
   "metadata": {},
   "outputs": [],
   "source": [
    "# library(stringr)\n",
    "# for (name in names(cred99_list)[1:6])\n",
    "# {\n",
    "#     cred99_list[[name]][c(\"var\", \"chr\", \"pos\", \"ref\", \"alt\")] <- str_split_fixed(cred99_list[[name]]$snp, '_', 5)\n",
    "#     cred99_list[[name]]$chr_pos = paste(cred99_list[[name]]$chr, cred99_list[[name]]$pos, sep = \"_\")\n",
    "#     cred99_list[[name]] = as.data.frame(rbindlist(lapply(c(1:22), function(x)\n",
    "#     {\n",
    "#         this = cred99_list[[name]] %>% filter(chr == x)\n",
    "#         this$in_1kg = ifelse(this$chr_pos %in% rsid_list[[paste0(\"chr\", x)]]$chr_pos, T, F)\n",
    "#         return(this)\n",
    "#     })))\n",
    "#     print(table(cred99_list[[name]]$in_1kg))\n",
    "# }"
   ]
  },
  {
   "cell_type": "code",
   "execution_count": 48,
   "metadata": {},
   "outputs": [],
   "source": [
    "for (pheno in names(ngt1_list))\n",
    "{\n",
    "    for (tiss in names(ngt1_list[[pheno]]))\n",
    "    {\n",
    "        this = ngt1_list[[pheno]][[tiss]]\n",
    "        this$allele_match = ifelse( (this$ref == this$ref_1kg & this$alt == this$alt_1kg) | \n",
    "                                    (this$ref == this$alt_1kg & this$alt == this$ref_1kg) , T, F)\n",
    "        ngt1_list[[pheno]][[tiss]] = this\n",
    "    }\n",
    "}"
   ]
  },
  {
   "cell_type": "code",
   "execution_count": 52,
   "metadata": {},
   "outputs": [
    {
     "data": {
      "text/html": [
       "2276"
      ],
      "text/latex": [
       "2276"
      ],
      "text/markdown": [
       "2276"
      ],
      "text/plain": [
       "[1] 2276"
      ]
     },
     "metadata": {},
     "output_type": "display_data"
    },
    {
     "data": {
      "text/html": [
       "<style>\n",
       ".list-inline {list-style: none; margin:0; padding: 0}\n",
       ".list-inline>li {display: inline-block}\n",
       ".list-inline>li:not(:last-child)::after {content: \"\\00b7\"; padding: 0 .5ex}\n",
       "</style>\n",
       "<ol class=list-inline><li>'0 ENSG00000004478'</li><li>'0 ENSG00000005882'</li><li>'0 ENSG00000006634'</li><li>'0 ENSG00000010803'</li><li>'0 ENSG00000015676'</li><li>'0 ENSG00000021645'</li></ol>\n"
      ],
      "text/latex": [
       "\\begin{enumerate*}\n",
       "\\item '0 ENSG00000004478'\n",
       "\\item '0 ENSG00000005882'\n",
       "\\item '0 ENSG00000006634'\n",
       "\\item '0 ENSG00000010803'\n",
       "\\item '0 ENSG00000015676'\n",
       "\\item '0 ENSG00000021645'\n",
       "\\end{enumerate*}\n"
      ],
      "text/markdown": [
       "1. '0 ENSG00000004478'\n",
       "2. '0 ENSG00000005882'\n",
       "3. '0 ENSG00000006634'\n",
       "4. '0 ENSG00000010803'\n",
       "5. '0 ENSG00000015676'\n",
       "6. '0 ENSG00000021645'\n",
       "\n",
       "\n"
      ],
      "text/plain": [
       "[1] \"0 ENSG00000004478\" \"0 ENSG00000005882\" \"0 ENSG00000006634\"\n",
       "[4] \"0 ENSG00000010803\" \"0 ENSG00000015676\" \"0 ENSG00000021645\""
      ]
     },
     "metadata": {},
     "output_type": "display_data"
    }
   ],
   "source": [
    "topsnp = as.data.frame(rbindlist(lapply(names(ngt1_list), function(pheno)\n",
    "{\n",
    "    as.data.frame(rbindlist(lapply(names(ngt1_list[[pheno]]), function(x)\n",
    "    {\n",
    "        ngt1_list[[pheno]][[x]] %>% filter(snp != \"null\" & !snp %like% \"NA\" & in_1kg == T & SNP.PP >= 0.01) %>% \n",
    "            select(snp, SNP.PP, qtl_id, pvalues., in_1kg, chr, chr_pos, allele_match, snp_1kg) %>% \n",
    "            group_by(qtl_id) %>% filter(SNP.PP == max(SNP.PP)) %>% arrange(desc(allele_match)) %>% filter(duplicated(qtl_id) == F)\n",
    "    })))\n",
    "})))\n",
    "\n",
    "length(unique(all_egenes[which(!all_egenes %in% topsnp$qtl_id)]) )\n",
    "head(unique(all_egenes[which(!all_egenes %in% topsnp$qtl_id)]))\n",
    "\n",
    "topsnp$pos = as.numeric(unlist(lapply(topsnp$snp, function(x) { unlist(strsplit(x, \"_\"))[3] })))\n",
    "topsnp$transcript_id = unlist(lapply(topsnp$qtl_id, function(x) { unlist(strsplit(x, \" \"))[2] }))\n",
    "topsnp$snp = gsub(\"VAR_\", \"\", topsnp$snp)\n",
    "topsnp$chr = unlist(lapply(topsnp$snp, function(x) { unlist(strsplit(x, \"_\"))[1] }))\n",
    "\n",
    "topsnp$phenotype = ifelse(topsnp$qtl_id %like% \"ENST\", \"alternative_splicing\", \"gene_expression\")\n",
    "topsnp$phenotype = ifelse(topsnp$qtl_id %like% \"_\", \"alternative_splicing\", topsnp$phenotype)\n",
    "\n",
    "# fwrite(topsnp, \"pipeline/17.eQTLFuncEnr/ld_all/topsnp/topsnps.txt\", row.names = F, sep = \"\\t\")"
   ]
  },
  {
   "cell_type": "code",
   "execution_count": 53,
   "metadata": {},
   "outputs": [
    {
     "data": {
      "text/plain": [
       "      \n",
       "       FALSE  TRUE\n",
       "  TRUE   436 26948"
      ]
     },
     "metadata": {},
     "output_type": "display_data"
    },
    {
     "data": {
      "text/plain": [
       "      \n",
       "       FALSE  TRUE\n",
       "  TRUE   436 26948"
      ]
     },
     "metadata": {},
     "output_type": "display_data"
    }
   ],
   "source": [
    "egenes_gt1 = as.data.frame(rbindlist(lapply(names(ngt1_list), function(pheno)\n",
    "{\n",
    "    as.data.frame(rbindlist(lapply(names(ngt1_list[[pheno]]), function(tiss)\n",
    "    {\n",
    "        ngt1_list[[pheno]][[tiss]] %>% filter(SNP.PP >= 0.01) %>% select(in_1kg, SNP.PP, qtl_id)\n",
    "    })))\n",
    "})))\n",
    "\n",
    "qtl2class = fread(\"pipeline/17.eQTLFuncEnr/ld_all/topsnp/qtl2class.txt\", data.table = F)\n",
    "qtl2class$has_gt1 = ifelse(qtl2class$eqtl_id %in% egenes_gt1$qtl_id, T, F)\n",
    "qtl2class$in_1kg = ifelse(qtl2class$eqtl_id %in% egenes_gt1[egenes_gt1$in_1kg == T,]$qtl_id, T, F)\n",
    "qtl2class$in_topsnp = ifelse(qtl2class$eqtl_id %in% topsnp$qtl_id, T, F)\n",
    "\n",
    "table(qtl2class$has_gt1, qtl2class$in_1kg)\n",
    "table(qtl2class$has_gt1, qtl2class$in_topsnp)"
   ]
  },
  {
   "cell_type": "code",
   "execution_count": 538,
   "metadata": {},
   "outputs": [],
   "source": [
    "# topsnp = as.data.frame(rbindlist(lapply(names(cred99_list)[1:6], function(x)\n",
    "# {\n",
    "#     cred99_list[[x]] %>% filter(snp != \"null\" & !snp %like% \"NA\" & in_1kg == T) %>% \n",
    "#         select(snp, SNP.PP, qtl_id, pvalues., in_1kg) %>% group_by(qtl_id) %>% filter(SNP.PP == max(SNP.PP)) \n",
    "# })))\n",
    "\n",
    "# table(topsnp$in_1kg)\n",
    "\n",
    "# length(unique(all_egenes[which(!all_egenes %in% topsnp[topsnp$SNP.PP >= 0.01,]$qtl_id)]) )\n",
    "# head(unique(all_egenes[which(!all_egenes %in% topsnp[topsnp$SNP.PP >= 0.01,]$qtl_id)]))"
   ]
  },
  {
   "cell_type": "code",
   "execution_count": 699,
   "metadata": {},
   "outputs": [
    {
     "data": {
      "text/html": [
       "<table class=\"dataframe\">\n",
       "<caption>A data.frame: 6 × 12</caption>\n",
       "<thead>\n",
       "\t<tr><th></th><th scope=col>snp</th><th scope=col>SNP.PP</th><th scope=col>qtl_id</th><th scope=col>pvalues.</th><th scope=col>in_1kg</th><th scope=col>chr</th><th scope=col>chr_pos</th><th scope=col>allele_match</th><th scope=col>snp_1kg</th><th scope=col>pos</th><th scope=col>transcript_id</th><th scope=col>phenotype</th></tr>\n",
       "\t<tr><th></th><th scope=col>&lt;chr&gt;</th><th scope=col>&lt;dbl&gt;</th><th scope=col>&lt;chr&gt;</th><th scope=col>&lt;dbl&gt;</th><th scope=col>&lt;lgl&gt;</th><th scope=col>&lt;chr&gt;</th><th scope=col>&lt;chr&gt;</th><th scope=col>&lt;lgl&gt;</th><th scope=col>&lt;chr&gt;</th><th scope=col>&lt;dbl&gt;</th><th scope=col>&lt;chr&gt;</th><th scope=col>&lt;chr&gt;</th></tr>\n",
       "</thead>\n",
       "<tbody>\n",
       "\t<tr><th scope=row>1</th><td>1_100012794_A_G  </td><td>0.08856656</td><td>0 ENSG00000099260</td><td>5.329953e-16</td><td>TRUE</td><td>1</td><td>1_100012794</td><td>TRUE</td><td>VAR_1_100012794_A_G  </td><td>100012794</td><td>ENSG00000099260</td><td>gene_expression</td></tr>\n",
       "\t<tr><th scope=row>2</th><td>1_100181897_G_A  </td><td>0.03000826</td><td>0 ENSG00000156869</td><td>2.017248e-09</td><td>TRUE</td><td>1</td><td>1_100181897</td><td>TRUE</td><td>VAR_1_100181897_G_A  </td><td>100181897</td><td>ENSG00000156869</td><td>gene_expression</td></tr>\n",
       "\t<tr><th scope=row>3</th><td>1_100807723_C_CG </td><td>0.01441180</td><td>1 ENSG00000224616</td><td>5.031969e-05</td><td>TRUE</td><td>1</td><td>1_100807723</td><td>TRUE</td><td>VAR_1_100807723_C_CG </td><td>100807723</td><td>ENSG00000224616</td><td>gene_expression</td></tr>\n",
       "\t<tr><th scope=row>4</th><td>1_100824378_T_C  </td><td>0.02348328</td><td>0 ENSG00000162688</td><td>6.275401e-07</td><td>TRUE</td><td>1</td><td>1_100824378</td><td>TRUE</td><td>VAR_1_100824378_T_C  </td><td>100824378</td><td>ENSG00000162688</td><td>gene_expression</td></tr>\n",
       "\t<tr><th scope=row>5</th><td>1_100930482_CTT_C</td><td>0.01003377</td><td>0 ENSG00000224616</td><td>6.363798e-07</td><td>TRUE</td><td>1</td><td>1_100930482</td><td>TRUE</td><td>VAR_1_100930482_CTT_C</td><td>100930482</td><td>ENSG00000224616</td><td>gene_expression</td></tr>\n",
       "\t<tr><th scope=row>6</th><td>1_101653776_C_T  </td><td>0.01796027</td><td>0 ENSG00000273204</td><td>7.267889e-08</td><td>TRUE</td><td>1</td><td>1_101653776</td><td>TRUE</td><td>VAR_1_101653776_C_T  </td><td>101653776</td><td>ENSG00000273204</td><td>gene_expression</td></tr>\n",
       "</tbody>\n",
       "</table>\n"
      ],
      "text/latex": [
       "A data.frame: 6 × 12\n",
       "\\begin{tabular}{r|llllllllllll}\n",
       "  & snp & SNP.PP & qtl\\_id & pvalues. & in\\_1kg & chr & chr\\_pos & allele\\_match & snp\\_1kg & pos & transcript\\_id & phenotype\\\\\n",
       "  & <chr> & <dbl> & <chr> & <dbl> & <lgl> & <chr> & <chr> & <lgl> & <chr> & <dbl> & <chr> & <chr>\\\\\n",
       "\\hline\n",
       "\t1 & 1\\_100012794\\_A\\_G   & 0.08856656 & 0 ENSG00000099260 & 5.329953e-16 & TRUE & 1 & 1\\_100012794 & TRUE & VAR\\_1\\_100012794\\_A\\_G   & 100012794 & ENSG00000099260 & gene\\_expression\\\\\n",
       "\t2 & 1\\_100181897\\_G\\_A   & 0.03000826 & 0 ENSG00000156869 & 2.017248e-09 & TRUE & 1 & 1\\_100181897 & TRUE & VAR\\_1\\_100181897\\_G\\_A   & 100181897 & ENSG00000156869 & gene\\_expression\\\\\n",
       "\t3 & 1\\_100807723\\_C\\_CG  & 0.01441180 & 1 ENSG00000224616 & 5.031969e-05 & TRUE & 1 & 1\\_100807723 & TRUE & VAR\\_1\\_100807723\\_C\\_CG  & 100807723 & ENSG00000224616 & gene\\_expression\\\\\n",
       "\t4 & 1\\_100824378\\_T\\_C   & 0.02348328 & 0 ENSG00000162688 & 6.275401e-07 & TRUE & 1 & 1\\_100824378 & TRUE & VAR\\_1\\_100824378\\_T\\_C   & 100824378 & ENSG00000162688 & gene\\_expression\\\\\n",
       "\t5 & 1\\_100930482\\_CTT\\_C & 0.01003377 & 0 ENSG00000224616 & 6.363798e-07 & TRUE & 1 & 1\\_100930482 & TRUE & VAR\\_1\\_100930482\\_CTT\\_C & 100930482 & ENSG00000224616 & gene\\_expression\\\\\n",
       "\t6 & 1\\_101653776\\_C\\_T   & 0.01796027 & 0 ENSG00000273204 & 7.267889e-08 & TRUE & 1 & 1\\_101653776 & TRUE & VAR\\_1\\_101653776\\_C\\_T   & 101653776 & ENSG00000273204 & gene\\_expression\\\\\n",
       "\\end{tabular}\n"
      ],
      "text/markdown": [
       "\n",
       "A data.frame: 6 × 12\n",
       "\n",
       "| <!--/--> | snp &lt;chr&gt; | SNP.PP &lt;dbl&gt; | qtl_id &lt;chr&gt; | pvalues. &lt;dbl&gt; | in_1kg &lt;lgl&gt; | chr &lt;chr&gt; | chr_pos &lt;chr&gt; | allele_match &lt;lgl&gt; | snp_1kg &lt;chr&gt; | pos &lt;dbl&gt; | transcript_id &lt;chr&gt; | phenotype &lt;chr&gt; |\n",
       "|---|---|---|---|---|---|---|---|---|---|---|---|---|\n",
       "| 1 | 1_100012794_A_G   | 0.08856656 | 0 ENSG00000099260 | 5.329953e-16 | TRUE | 1 | 1_100012794 | TRUE | VAR_1_100012794_A_G   | 100012794 | ENSG00000099260 | gene_expression |\n",
       "| 2 | 1_100181897_G_A   | 0.03000826 | 0 ENSG00000156869 | 2.017248e-09 | TRUE | 1 | 1_100181897 | TRUE | VAR_1_100181897_G_A   | 100181897 | ENSG00000156869 | gene_expression |\n",
       "| 3 | 1_100807723_C_CG  | 0.01441180 | 1 ENSG00000224616 | 5.031969e-05 | TRUE | 1 | 1_100807723 | TRUE | VAR_1_100807723_C_CG  | 100807723 | ENSG00000224616 | gene_expression |\n",
       "| 4 | 1_100824378_T_C   | 0.02348328 | 0 ENSG00000162688 | 6.275401e-07 | TRUE | 1 | 1_100824378 | TRUE | VAR_1_100824378_T_C   | 100824378 | ENSG00000162688 | gene_expression |\n",
       "| 5 | 1_100930482_CTT_C | 0.01003377 | 0 ENSG00000224616 | 6.363798e-07 | TRUE | 1 | 1_100930482 | TRUE | VAR_1_100930482_CTT_C | 100930482 | ENSG00000224616 | gene_expression |\n",
       "| 6 | 1_101653776_C_T   | 0.01796027 | 0 ENSG00000273204 | 7.267889e-08 | TRUE | 1 | 1_101653776 | TRUE | VAR_1_101653776_C_T   | 101653776 | ENSG00000273204 | gene_expression |\n",
       "\n"
      ],
      "text/plain": [
       "  snp               SNP.PP     qtl_id            pvalues.     in_1kg chr\n",
       "1 1_100012794_A_G   0.08856656 0 ENSG00000099260 5.329953e-16 TRUE   1  \n",
       "2 1_100181897_G_A   0.03000826 0 ENSG00000156869 2.017248e-09 TRUE   1  \n",
       "3 1_100807723_C_CG  0.01441180 1 ENSG00000224616 5.031969e-05 TRUE   1  \n",
       "4 1_100824378_T_C   0.02348328 0 ENSG00000162688 6.275401e-07 TRUE   1  \n",
       "5 1_100930482_CTT_C 0.01003377 0 ENSG00000224616 6.363798e-07 TRUE   1  \n",
       "6 1_101653776_C_T   0.01796027 0 ENSG00000273204 7.267889e-08 TRUE   1  \n",
       "  chr_pos     allele_match snp_1kg               pos       transcript_id  \n",
       "1 1_100012794 TRUE         VAR_1_100012794_A_G   100012794 ENSG00000099260\n",
       "2 1_100181897 TRUE         VAR_1_100181897_G_A   100181897 ENSG00000156869\n",
       "3 1_100807723 TRUE         VAR_1_100807723_C_CG  100807723 ENSG00000224616\n",
       "4 1_100824378 TRUE         VAR_1_100824378_T_C   100824378 ENSG00000162688\n",
       "5 1_100930482 TRUE         VAR_1_100930482_CTT_C 100930482 ENSG00000224616\n",
       "6 1_101653776 TRUE         VAR_1_101653776_C_T   101653776 ENSG00000273204\n",
       "  phenotype      \n",
       "1 gene_expression\n",
       "2 gene_expression\n",
       "3 gene_expression\n",
       "4 gene_expression\n",
       "5 gene_expression\n",
       "6 gene_expression"
      ]
     },
     "metadata": {},
     "output_type": "display_data"
    }
   ],
   "source": [
    "head(topsnp)"
   ]
  },
  {
   "cell_type": "code",
   "execution_count": 54,
   "metadata": {},
   "outputs": [
    {
     "name": "stderr",
     "output_type": "stream",
     "text": [
      "1 2216\n",
      "\n",
      "2 1659\n",
      "\n",
      "3 1404\n",
      "\n",
      "4 949\n",
      "\n",
      "5 1151\n",
      "\n",
      "6 1423\n",
      "\n",
      "7 1368\n",
      "\n",
      "8 811\n",
      "\n",
      "9 969\n",
      "\n",
      "10 999\n",
      "\n",
      "11 1384\n",
      "\n",
      "12 1116\n",
      "\n",
      "13 418\n",
      "\n",
      "14 793\n",
      "\n",
      "15 808\n",
      "\n",
      "16 1100\n",
      "\n",
      "17 1373\n",
      "\n",
      "18 331\n",
      "\n",
      "19 1735\n",
      "\n",
      "20 613\n",
      "\n",
      "21 338\n",
      "\n",
      "22 703\n",
      "\n"
     ]
    }
   ],
   "source": [
    "topsnp$snp = gsub(\"VAR_\", \"\", topsnp$snp)\n",
    "topsnp$snp = paste(\"VAR\", topsnp$snp, sep = \"_\")\n",
    "\n",
    "for (i in c(1:22))\n",
    "{\n",
    "    this = unique(topsnp$snp_1kg[which(topsnp$snp_1kg %like% paste0(\"VAR_\", i, \"_\"))])\n",
    "    message(paste(i, length(this)))\n",
    "#     writeLines(gsub(\"VAR_\", \"\", this), paste(\"pipeline/17.eQTLFuncEnr/ld_all/topsnp/input\", paste0(\"chr\", i, \".txt\"), sep = \"/\"), sep = \"\\n\")\n",
    "}"
   ]
  },
  {
   "cell_type": "code",
   "execution_count": 877,
   "metadata": {},
   "outputs": [
    {
     "name": "stderr",
     "output_type": "stream",
     "text": [
      "echo \"plink --memory 15000 --threads 4 --vcf ~/references/1kg/vcf/chr1.vcf.gz --extract pipeline/17.eQTLFuncEnr/ld_all/topsnp/input/chr1.txt --keep-allele-order --r2 square --make-bed --out pipeline/17.eQTLFuncEnr/ld_all/topsnp/output/chr1\" | qsub -N chr1 -pe smp 4 -V -cwd -o logs/chr1.out -e logs/chr1.err\n",
      "\n",
      "echo \"plink --memory 15000 --threads 4 --vcf ~/references/1kg/vcf/chr2.vcf.gz --extract pipeline/17.eQTLFuncEnr/ld_all/topsnp/input/chr2.txt --keep-allele-order --r2 square --make-bed --out pipeline/17.eQTLFuncEnr/ld_all/topsnp/output/chr2\" | qsub -N chr2 -pe smp 4 -V -cwd -o logs/chr2.out -e logs/chr2.err\n",
      "\n",
      "echo \"plink --memory 15000 --threads 4 --vcf ~/references/1kg/vcf/chr3.vcf.gz --extract pipeline/17.eQTLFuncEnr/ld_all/topsnp/input/chr3.txt --keep-allele-order --r2 square --make-bed --out pipeline/17.eQTLFuncEnr/ld_all/topsnp/output/chr3\" | qsub -N chr3 -pe smp 4 -V -cwd -o logs/chr3.out -e logs/chr3.err\n",
      "\n",
      "echo \"plink --memory 15000 --threads 4 --vcf ~/references/1kg/vcf/chr4.vcf.gz --extract pipeline/17.eQTLFuncEnr/ld_all/topsnp/input/chr4.txt --keep-allele-order --r2 square --make-bed --out pipeline/17.eQTLFuncEnr/ld_all/topsnp/output/chr4\" | qsub -N chr4 -pe smp 4 -V -cwd -o logs/chr4.out -e logs/chr4.err\n",
      "\n",
      "echo \"plink --memory 15000 --threads 4 --vcf ~/references/1kg/vcf/chr5.vcf.gz --extract pipeline/17.eQTLFuncEnr/ld_all/topsnp/input/chr5.txt --keep-allele-order --r2 square --make-bed --out pipeline/17.eQTLFuncEnr/ld_all/topsnp/output/chr5\" | qsub -N chr5 -pe smp 4 -V -cwd -o logs/chr5.out -e logs/chr5.err\n",
      "\n",
      "echo \"plink --memory 15000 --threads 4 --vcf ~/references/1kg/vcf/chr6.vcf.gz --extract pipeline/17.eQTLFuncEnr/ld_all/topsnp/input/chr6.txt --keep-allele-order --r2 square --make-bed --out pipeline/17.eQTLFuncEnr/ld_all/topsnp/output/chr6\" | qsub -N chr6 -pe smp 4 -V -cwd -o logs/chr6.out -e logs/chr6.err\n",
      "\n",
      "echo \"plink --memory 15000 --threads 4 --vcf ~/references/1kg/vcf/chr7.vcf.gz --extract pipeline/17.eQTLFuncEnr/ld_all/topsnp/input/chr7.txt --keep-allele-order --r2 square --make-bed --out pipeline/17.eQTLFuncEnr/ld_all/topsnp/output/chr7\" | qsub -N chr7 -pe smp 4 -V -cwd -o logs/chr7.out -e logs/chr7.err\n",
      "\n",
      "echo \"plink --memory 15000 --threads 4 --vcf ~/references/1kg/vcf/chr8.vcf.gz --extract pipeline/17.eQTLFuncEnr/ld_all/topsnp/input/chr8.txt --keep-allele-order --r2 square --make-bed --out pipeline/17.eQTLFuncEnr/ld_all/topsnp/output/chr8\" | qsub -N chr8 -pe smp 4 -V -cwd -o logs/chr8.out -e logs/chr8.err\n",
      "\n",
      "echo \"plink --memory 15000 --threads 4 --vcf ~/references/1kg/vcf/chr9.vcf.gz --extract pipeline/17.eQTLFuncEnr/ld_all/topsnp/input/chr9.txt --keep-allele-order --r2 square --make-bed --out pipeline/17.eQTLFuncEnr/ld_all/topsnp/output/chr9\" | qsub -N chr9 -pe smp 4 -V -cwd -o logs/chr9.out -e logs/chr9.err\n",
      "\n",
      "echo \"plink --memory 15000 --threads 4 --vcf ~/references/1kg/vcf/chr10.vcf.gz --extract pipeline/17.eQTLFuncEnr/ld_all/topsnp/input/chr10.txt --keep-allele-order --r2 square --make-bed --out pipeline/17.eQTLFuncEnr/ld_all/topsnp/output/chr10\" | qsub -N chr10 -pe smp 4 -V -cwd -o logs/chr10.out -e logs/chr10.err\n",
      "\n",
      "echo \"plink --memory 15000 --threads 4 --vcf ~/references/1kg/vcf/chr11.vcf.gz --extract pipeline/17.eQTLFuncEnr/ld_all/topsnp/input/chr11.txt --keep-allele-order --r2 square --make-bed --out pipeline/17.eQTLFuncEnr/ld_all/topsnp/output/chr11\" | qsub -N chr11 -pe smp 4 -V -cwd -o logs/chr11.out -e logs/chr11.err\n",
      "\n",
      "echo \"plink --memory 15000 --threads 4 --vcf ~/references/1kg/vcf/chr12.vcf.gz --extract pipeline/17.eQTLFuncEnr/ld_all/topsnp/input/chr12.txt --keep-allele-order --r2 square --make-bed --out pipeline/17.eQTLFuncEnr/ld_all/topsnp/output/chr12\" | qsub -N chr12 -pe smp 4 -V -cwd -o logs/chr12.out -e logs/chr12.err\n",
      "\n",
      "echo \"plink --memory 15000 --threads 4 --vcf ~/references/1kg/vcf/chr13.vcf.gz --extract pipeline/17.eQTLFuncEnr/ld_all/topsnp/input/chr13.txt --keep-allele-order --r2 square --make-bed --out pipeline/17.eQTLFuncEnr/ld_all/topsnp/output/chr13\" | qsub -N chr13 -pe smp 4 -V -cwd -o logs/chr13.out -e logs/chr13.err\n",
      "\n",
      "echo \"plink --memory 15000 --threads 4 --vcf ~/references/1kg/vcf/chr14.vcf.gz --extract pipeline/17.eQTLFuncEnr/ld_all/topsnp/input/chr14.txt --keep-allele-order --r2 square --make-bed --out pipeline/17.eQTLFuncEnr/ld_all/topsnp/output/chr14\" | qsub -N chr14 -pe smp 4 -V -cwd -o logs/chr14.out -e logs/chr14.err\n",
      "\n",
      "echo \"plink --memory 15000 --threads 4 --vcf ~/references/1kg/vcf/chr15.vcf.gz --extract pipeline/17.eQTLFuncEnr/ld_all/topsnp/input/chr15.txt --keep-allele-order --r2 square --make-bed --out pipeline/17.eQTLFuncEnr/ld_all/topsnp/output/chr15\" | qsub -N chr15 -pe smp 4 -V -cwd -o logs/chr15.out -e logs/chr15.err\n",
      "\n",
      "echo \"plink --memory 15000 --threads 4 --vcf ~/references/1kg/vcf/chr16.vcf.gz --extract pipeline/17.eQTLFuncEnr/ld_all/topsnp/input/chr16.txt --keep-allele-order --r2 square --make-bed --out pipeline/17.eQTLFuncEnr/ld_all/topsnp/output/chr16\" | qsub -N chr16 -pe smp 4 -V -cwd -o logs/chr16.out -e logs/chr16.err\n",
      "\n",
      "echo \"plink --memory 15000 --threads 4 --vcf ~/references/1kg/vcf/chr17.vcf.gz --extract pipeline/17.eQTLFuncEnr/ld_all/topsnp/input/chr17.txt --keep-allele-order --r2 square --make-bed --out pipeline/17.eQTLFuncEnr/ld_all/topsnp/output/chr17\" | qsub -N chr17 -pe smp 4 -V -cwd -o logs/chr17.out -e logs/chr17.err\n",
      "\n",
      "echo \"plink --memory 15000 --threads 4 --vcf ~/references/1kg/vcf/chr18.vcf.gz --extract pipeline/17.eQTLFuncEnr/ld_all/topsnp/input/chr18.txt --keep-allele-order --r2 square --make-bed --out pipeline/17.eQTLFuncEnr/ld_all/topsnp/output/chr18\" | qsub -N chr18 -pe smp 4 -V -cwd -o logs/chr18.out -e logs/chr18.err\n",
      "\n",
      "echo \"plink --memory 15000 --threads 4 --vcf ~/references/1kg/vcf/chr19.vcf.gz --extract pipeline/17.eQTLFuncEnr/ld_all/topsnp/input/chr19.txt --keep-allele-order --r2 square --make-bed --out pipeline/17.eQTLFuncEnr/ld_all/topsnp/output/chr19\" | qsub -N chr19 -pe smp 4 -V -cwd -o logs/chr19.out -e logs/chr19.err\n",
      "\n",
      "echo \"plink --memory 15000 --threads 4 --vcf ~/references/1kg/vcf/chr20.vcf.gz --extract pipeline/17.eQTLFuncEnr/ld_all/topsnp/input/chr20.txt --keep-allele-order --r2 square --make-bed --out pipeline/17.eQTLFuncEnr/ld_all/topsnp/output/chr20\" | qsub -N chr20 -pe smp 4 -V -cwd -o logs/chr20.out -e logs/chr20.err\n",
      "\n",
      "echo \"plink --memory 15000 --threads 4 --vcf ~/references/1kg/vcf/chr21.vcf.gz --extract pipeline/17.eQTLFuncEnr/ld_all/topsnp/input/chr21.txt --keep-allele-order --r2 square --make-bed --out pipeline/17.eQTLFuncEnr/ld_all/topsnp/output/chr21\" | qsub -N chr21 -pe smp 4 -V -cwd -o logs/chr21.out -e logs/chr21.err\n",
      "\n",
      "echo \"plink --memory 15000 --threads 4 --vcf ~/references/1kg/vcf/chr22.vcf.gz --extract pipeline/17.eQTLFuncEnr/ld_all/topsnp/input/chr22.txt --keep-allele-order --r2 square --make-bed --out pipeline/17.eQTLFuncEnr/ld_all/topsnp/output/chr22\" | qsub -N chr22 -pe smp 4 -V -cwd -o logs/chr22.out -e logs/chr22.err\n",
      "\n"
     ]
    }
   ],
   "source": [
    "# run plink\n",
    "\n",
    "for (c in c(1:22))\n",
    "{\n",
    "    outfile = paste(\"pipeline/17.eQTLFuncEnr/ld_all/topsnp/output\", paste0(\"chr\", c), sep = \"/\")\n",
    "    snpfile = paste(\"pipeline/17.eQTLFuncEnr/ld_all/topsnp/input\", paste0(\"chr\", c, \".txt\"), sep = \"/\")\n",
    "\n",
    "    cmd = paste(\"plink\", \"--memory 15000 --threads 4\", \"--vcf\", paste0(\"~/references/1kg/vcf/\", paste0(\"chr\", c), \".vcf.gz\"), \n",
    "          \"--extract\", snpfile, \"--keep-allele-order\", \"--r2\", \"square\", \"--make-bed\", \"--out\", outfile)\n",
    "\n",
    "    qsub_cmd = paste(\"echo\", paste0(\"\\\"\", cmd, \"\\\"\" ), \"|\", \"qsub -N\", paste0(\"chr\", c),\n",
    "                     \"-pe smp 4\", \"-V -cwd\", \"-o\", paste(\"logs\", paste(paste0(\"chr\", c), \"out\", sep = \".\"), sep = \"/\"),\n",
    "#                      \"-l hostname=\\\"fl-n-1-17|fl-n-1-13|fl-n-1-9\\\"\", \n",
    "                     \"-e\", paste(\"logs\", paste(paste0(\"chr\", c), \"err\", sep = \".\"), sep = \"/\"))\n",
    "    message(qsub_cmd)\n",
    "    system(qsub_cmd)\n",
    "}\n"
   ]
  },
  {
   "cell_type": "code",
   "execution_count": 878,
   "metadata": {},
   "outputs": [
    {
     "name": "stderr",
     "output_type": "stream",
     "text": [
      "1\n",
      "\n",
      "2\n",
      "\n",
      "3\n",
      "\n",
      "4\n",
      "\n",
      "5\n",
      "\n",
      "6\n",
      "\n",
      "7\n",
      "\n",
      "8\n",
      "\n",
      "9\n",
      "\n",
      "10\n",
      "\n",
      "11\n",
      "\n",
      "12\n",
      "\n",
      "13\n",
      "\n",
      "14\n",
      "\n",
      "15\n",
      "\n",
      "16\n",
      "\n",
      "17\n",
      "\n",
      "18\n",
      "\n",
      "19\n",
      "\n",
      "20\n",
      "\n",
      "21\n",
      "\n",
      "22\n",
      "\n"
     ]
    }
   ],
   "source": [
    "ld_list = list()\n",
    "\n",
    "for (x in c(1:22))\n",
    "{\n",
    "    message(x)\n",
    "    ld = fread(paste(\"pipeline/17.eQTLFuncEnr/ld_all/topsnp/output\", paste(paste0(\"chr\", x), \"ld\", sep = \".\"), sep = \"/\"), data.table = F)\n",
    "    bim = fread(paste(\"pipeline/17.eQTLFuncEnr/ld_all/topsnp/output\", paste(paste0(\"chr\", x), \"bim\", sep = \".\"), sep = \"/\"), data.table = F)\n",
    "    rownames(ld) = bim$V2\n",
    "    colnames(ld) = bim$V2\n",
    "    ld = suppressWarnings(melt(as.matrix(ld))) %>% mutate(Var1 = as.vector(Var1), Var2 = as.vector(Var2))\n",
    "    ld_list[[paste0(\"chr\", x)]] = list(\"ld\" = ld, \"bim\" = bim)\n",
    "}\n",
    "\n",
    "save(ld_list, file = \"pipeline/17.eQTLFuncEnr/ld_all/topsnp/ld_list.robj\")"
   ]
  },
  {
   "cell_type": "code",
   "execution_count": 55,
   "metadata": {},
   "outputs": [
    {
     "name": "stdout",
     "output_type": "stream",
     "text": [
      "Loading objects:\n",
      "  ld_list\n"
     ]
    }
   ],
   "source": [
    "load(\"pipeline/17.eQTLFuncEnr/ld_all/topsnp/ld_list.robj\", verbose = T)"
   ]
  },
  {
   "cell_type": "code",
   "execution_count": 56,
   "metadata": {},
   "outputs": [],
   "source": [
    "all_topsnp = as.data.frame(rbindlist(lapply(names(ngt1_list), function(pheno)\n",
    "{\n",
    "    as.data.frame(rbindlist(lapply(names(ngt1_list[[pheno]]), function(x)\n",
    "    {\n",
    "        ngt1_list[[pheno]][[x]] %>% filter(snp != \"null\" & !snp %like% \"NA\" & SNP.PP >= 0.01) %>% \n",
    "            select(snp, SNP.PP, qtl_id, pvalues., in_1kg, chr, chr_pos, allele_match, snp_1kg) %>%\n",
    "            filter(!qtl_id %in% topsnp$qtl_id) %>% group_by(qtl_id) %>% \n",
    "            filter(SNP.PP == max(SNP.PP)) %>% arrange(desc(allele_match)) %>% filter(duplicated(qtl_id) == F)\n",
    "    })))\n",
    "})))\n",
    "\n",
    "all_topsnp$pos = as.numeric(unlist(lapply(all_topsnp$snp, function(x) { unlist(strsplit(x, \"_\"))[3] })))\n",
    "all_topsnp$transcript_id = unlist(lapply(all_topsnp$qtl_id, function(x) { unlist(strsplit(x, \" \"))[2] }))\n",
    "all_topsnp$snp = gsub(\"VAR_\", \"\", all_topsnp$snp)\n",
    "all_topsnp$chr = unlist(lapply(all_topsnp$snp, function(x) { unlist(strsplit(x, \"_\"))[1] }))\n",
    "\n",
    "all_topsnp$phenotype = ifelse(all_topsnp$qtl_id %like% \"ENST\", \"alternative_splicing\", \"gene_expression\")\n",
    "all_topsnp$phenotype = ifelse(all_topsnp$qtl_id %like% \"_\", \"alternative_splicing\", all_topsnp$phenotype)\n",
    "all_topsnp = rbind(all_topsnp, topsnp)"
   ]
  },
  {
   "cell_type": "markdown",
   "metadata": {},
   "source": [
    "# Processed V2"
   ]
  },
  {
   "cell_type": "code",
   "execution_count": 57,
   "metadata": {},
   "outputs": [
    {
     "data": {
      "text/plain": [
       "      \n",
       "       FALSE  TRUE\n",
       "  TRUE   436 26948"
      ]
     },
     "metadata": {},
     "output_type": "display_data"
    },
    {
     "data": {
      "text/plain": [
       "      \n",
       "       FALSE  TRUE\n",
       "  TRUE   436 26948"
      ]
     },
     "metadata": {},
     "output_type": "display_data"
    },
    {
     "data": {
      "text/plain": [
       "      \n",
       "        TRUE\n",
       "  TRUE 27384"
      ]
     },
     "metadata": {},
     "output_type": "display_data"
    }
   ],
   "source": [
    "egenes_gt1 = as.data.frame(rbindlist(lapply(names(ngt1_list), function(pheno)\n",
    "{\n",
    "    as.data.frame(rbindlist(lapply(names(ngt1_list[[pheno]]), function(tiss)\n",
    "    {\n",
    "        ngt1_list[[pheno]][[tiss]] %>% filter(SNP.PP >= 0.01) %>% select(in_1kg, SNP.PP, qtl_id)\n",
    "    })))\n",
    "})))\n",
    "\n",
    "qtl2class = fread(\"pipeline/17.eQTLFuncEnr/ld_all/topsnp/qtl2class.txt\", data.table = F)\n",
    "qtl2class$has_gt1 = ifelse(qtl2class$eqtl_id %in% egenes_gt1$qtl_id, T, F)\n",
    "qtl2class$in_1kg = ifelse(qtl2class$eqtl_id %in% egenes_gt1[egenes_gt1$in_1kg == T,]$qtl_id, T, F)\n",
    "qtl2class$in_topsnp = ifelse(qtl2class$eqtl_id %in% topsnp$qtl_id, T, F)\n",
    "qtl2class$in_alltopsnp = ifelse(qtl2class$eqtl_id %in% all_topsnp$qtl_id, T, F)\n",
    "qtl2class = merge(qtl2class, all_topsnp[, c(\"qtl_id\", \"chr\", \"pos\", \"snp_1kg\")] %>% rename(eqtl_id = qtl_id), by = \"eqtl_id\", all.x = T)\n",
    "\n",
    "table(qtl2class$has_gt1, qtl2class$in_1kg)\n",
    "table(qtl2class$has_gt1, qtl2class$in_topsnp)\n",
    "table(qtl2class$has_gt1, qtl2class$in_alltopsnp)\n",
    "\n"
   ]
  },
  {
   "cell_type": "code",
   "execution_count": 58,
   "metadata": {},
   "outputs": [
    {
     "data": {
      "text/plain": [
       "\n",
       "FALSE  TRUE \n",
       "  436 26948 "
      ]
     },
     "metadata": {},
     "output_type": "display_data"
    }
   ],
   "source": [
    "qtl2class = as.data.frame(rbindlist(lapply(c(1:22), function(x)\n",
    "{\n",
    "    this = qtl2class %>% filter(chr == x)\n",
    "    this$ld_tested = ifelse(gsub(\"VAR_\", \"\", this$snp_1kg) %in% ld_list[[paste0(\"chr\", x)]]$bim$V2, T, F)\n",
    "    return(this)\n",
    "})))\n",
    "\n",
    "table(qtl2class$ld_tested)"
   ]
  },
  {
   "cell_type": "code",
   "execution_count": 59,
   "metadata": {},
   "outputs": [],
   "source": [
    "qtl2class$eqtl_type = ifelse(qtl2class$module_id %like% \"GE\" | qtl2class$module_id %like% \"AS\", \"module\", \"singleton\")"
   ]
  },
  {
   "cell_type": "code",
   "execution_count": 979,
   "metadata": {},
   "outputs": [],
   "source": [
    "fwrite(qtl2class, \"pipeline/17.eQTLFuncEnr/ld_all/topsnp/qtl2class_annotated.txt\", row.names = F, sep = \"\\t\")"
   ]
  },
  {
   "cell_type": "code",
   "execution_count": 982,
   "metadata": {},
   "outputs": [
    {
     "name": "stderr",
     "output_type": "stream",
     "text": [
      "ENSG00000007341 gene_expression 1 ipsc_ppc module GE_1_10\n",
      "\n"
     ]
    },
    {
     "data": {
      "text/html": [
       "<table class=\"dataframe\">\n",
       "<caption>A data.frame: 1 × 24</caption>\n",
       "<thead>\n",
       "\t<tr><th scope=col>eqtl_id</th><th scope=col>tissue</th><th scope=col>eqtl_phenotype</th><th scope=col>transcript_id</th><th scope=col>gene_id</th><th scope=col>in_gencode</th><th scope=col>in_network</th><th scope=col>expressed_fetal</th><th scope=col>expressed_endocrine</th><th scope=col>expressed_exocrine</th><th scope=col>⋯</th><th scope=col>in_topsnp</th><th scope=col>in_alltopsnp</th><th scope=col>chr</th><th scope=col>pos</th><th scope=col>snp_1kg</th><th scope=col>ld_tested</th><th scope=col>eqtl_type</th><th scope=col>ld_ipsc_ppc</th><th scope=col>ld_endocrine</th><th scope=col>ld_exocrine</th></tr>\n",
       "\t<tr><th scope=col>&lt;chr&gt;</th><th scope=col>&lt;chr&gt;</th><th scope=col>&lt;chr&gt;</th><th scope=col>&lt;chr&gt;</th><th scope=col>&lt;chr&gt;</th><th scope=col>&lt;lgl&gt;</th><th scope=col>&lt;lgl&gt;</th><th scope=col>&lt;lgl&gt;</th><th scope=col>&lt;lgl&gt;</th><th scope=col>&lt;lgl&gt;</th><th scope=col>⋯</th><th scope=col>&lt;lgl&gt;</th><th scope=col>&lt;lgl&gt;</th><th scope=col>&lt;chr&gt;</th><th scope=col>&lt;dbl&gt;</th><th scope=col>&lt;chr&gt;</th><th scope=col>&lt;lgl&gt;</th><th scope=col>&lt;chr&gt;</th><th scope=col>&lt;lgl&gt;</th><th scope=col>&lt;lgl&gt;</th><th scope=col>&lt;lgl&gt;</th></tr>\n",
       "</thead>\n",
       "<tbody>\n",
       "\t<tr><td>0 ENSG00000007341</td><td>ipsc_ppc</td><td>gene_expression</td><td>ENSG00000007341</td><td>ENSG00000007341</td><td>TRUE</td><td>TRUE</td><td>TRUE</td><td>TRUE</td><td>TRUE</td><td>⋯</td><td>TRUE</td><td>TRUE</td><td>1</td><td>113061959</td><td>VAR_1_113061959_G_C</td><td>TRUE</td><td>module</td><td>FALSE</td><td>FALSE</td><td>FALSE</td></tr>\n",
       "</tbody>\n",
       "</table>\n"
      ],
      "text/latex": [
       "A data.frame: 1 × 24\n",
       "\\begin{tabular}{lllllllllllllllllllll}\n",
       " eqtl\\_id & tissue & eqtl\\_phenotype & transcript\\_id & gene\\_id & in\\_gencode & in\\_network & expressed\\_fetal & expressed\\_endocrine & expressed\\_exocrine & ⋯ & in\\_topsnp & in\\_alltopsnp & chr & pos & snp\\_1kg & ld\\_tested & eqtl\\_type & ld\\_ipsc\\_ppc & ld\\_endocrine & ld\\_exocrine\\\\\n",
       " <chr> & <chr> & <chr> & <chr> & <chr> & <lgl> & <lgl> & <lgl> & <lgl> & <lgl> & ⋯ & <lgl> & <lgl> & <chr> & <dbl> & <chr> & <lgl> & <chr> & <lgl> & <lgl> & <lgl>\\\\\n",
       "\\hline\n",
       "\t 0 ENSG00000007341 & ipsc\\_ppc & gene\\_expression & ENSG00000007341 & ENSG00000007341 & TRUE & TRUE & TRUE & TRUE & TRUE & ⋯ & TRUE & TRUE & 1 & 113061959 & VAR\\_1\\_113061959\\_G\\_C & TRUE & module & FALSE & FALSE & FALSE\\\\\n",
       "\\end{tabular}\n"
      ],
      "text/markdown": [
       "\n",
       "A data.frame: 1 × 24\n",
       "\n",
       "| eqtl_id &lt;chr&gt; | tissue &lt;chr&gt; | eqtl_phenotype &lt;chr&gt; | transcript_id &lt;chr&gt; | gene_id &lt;chr&gt; | in_gencode &lt;lgl&gt; | in_network &lt;lgl&gt; | expressed_fetal &lt;lgl&gt; | expressed_endocrine &lt;lgl&gt; | expressed_exocrine &lt;lgl&gt; | ⋯ ⋯ | in_topsnp &lt;lgl&gt; | in_alltopsnp &lt;lgl&gt; | chr &lt;chr&gt; | pos &lt;dbl&gt; | snp_1kg &lt;chr&gt; | ld_tested &lt;lgl&gt; | eqtl_type &lt;chr&gt; | ld_ipsc_ppc &lt;lgl&gt; | ld_endocrine &lt;lgl&gt; | ld_exocrine &lt;lgl&gt; |\n",
       "|---|---|---|---|---|---|---|---|---|---|---|---|---|---|---|---|---|---|---|---|---|\n",
       "| 0 ENSG00000007341 | ipsc_ppc | gene_expression | ENSG00000007341 | ENSG00000007341 | TRUE | TRUE | TRUE | TRUE | TRUE | ⋯ | TRUE | TRUE | 1 | 113061959 | VAR_1_113061959_G_C | TRUE | module | FALSE | FALSE | FALSE |\n",
       "\n"
      ],
      "text/plain": [
       "  eqtl_id           tissue   eqtl_phenotype  transcript_id   gene_id        \n",
       "1 0 ENSG00000007341 ipsc_ppc gene_expression ENSG00000007341 ENSG00000007341\n",
       "  in_gencode in_network expressed_fetal expressed_endocrine expressed_exocrine\n",
       "1 TRUE       TRUE       TRUE            TRUE                TRUE              \n",
       "  ⋯ in_topsnp in_alltopsnp chr pos       snp_1kg             ld_tested\n",
       "1 ⋯ TRUE      TRUE         1   113061959 VAR_1_113061959_G_C TRUE     \n",
       "  eqtl_type ld_ipsc_ppc ld_endocrine ld_exocrine\n",
       "1 module    FALSE       FALSE        FALSE      "
      ]
     },
     "metadata": {},
     "output_type": "display_data"
    }
   ],
   "source": [
    "kb = 500\n",
    "r2 = 0.2\n",
    "\n",
    "ldstats = as.data.frame(rbindlist(lapply(unique(qtl2class$eqtl_id)[1], function(id)\n",
    "{\n",
    "    transcript = unlist(strsplit(id, \" \"))[2]\n",
    "    pheno = qtl2class[qtl2class$eqtl_id == id,]$eqtl_phenotype\n",
    "\n",
    "    this = qtl2class %>% filter(eqtl_id == id)\n",
    "    snpchr = this$chr\n",
    "    this_tiss = this$tissue\n",
    "    eqtltype = this$eqtl_type\n",
    "    mod_id = this$module_id\n",
    "    \n",
    "    message(paste(transcript, pheno, snpchr, this_tiss, eqtltype, mod_id))\n",
    "\n",
    "    # get all other eQTLs\n",
    "    work = qtl2class %>% filter(eqtl_id != id & chr == snpchr & eqtl_phenotype == pheno & module_id != mod_id) %>% mutate(dist = abs(pos - this$pos))\n",
    "\n",
    "    # get all snps for ld\n",
    "    for (tiss in unique(work$tissue))\n",
    "    {\n",
    "        # get snps for tissue\n",
    "        if (this_tiss == tiss)\n",
    "        {\n",
    "            snps_tiss = work %>% filter(tissue == tiss & chr == snpchr & transcript_id != transcript_id) %>% mutate(snp_1kg = gsub(\"VAR_\", \"\", snp_1kg)) \n",
    "        } else\n",
    "        {\n",
    "            snps_tiss = work %>% filter(tissue == tiss & chr == snpchr) %>% mutate(snp_1kg = gsub(\"VAR_\", \"\", snp_1kg)) \n",
    "        }\n",
    "\n",
    "        # get ld results for snps\n",
    "        ld_tiss = ld_list[[paste0(\"chr\", snpchr)]]$ld %>% filter(Var1 == gsub(\"VAR_\", \"\", this$snp_1kg) & Var2 %in% gsub(\"VAR_\", \"\", snps_tiss$snp_1kg))\n",
    "        \n",
    "        # merge ld with snps\n",
    "        snps_tiss = merge(snps_tiss, ld_tiss %>% select(Var2, value) %>% rename(snp_1kg = Var2, ld = value), by = \"snp_1kg\", all.x = T) \n",
    "        \n",
    "        # if snp is outside window, not in LD, else, test for LD. if can't test for LD, then in LD, else, if ld > 0.6, then in LD, else not in LD\n",
    "        snps_tiss$in_ld = ifelse(snps_tiss$dist >= kb*1e3, F, ifelse(is.na(snps_tiss$snp_1kg), T, ifelse(snps_tiss$ld >= r2, T, F)))\n",
    "        #snps_tiss$in_ld = ifelse(is.na(snps_tiss$snp_1kg) & snps_tiss$dist >= kb*1e3, F, ifelse(snps_tiss$dist >= kb*1e3 & snps_tiss$ld <= r2, F, T))\n",
    "        \n",
    "        # if one eQTL in LD, then yes, else no\n",
    "        this[,paste0(\"ld_\", tiss)] = ifelse(nrow(snps_tiss[snps_tiss$in_ld == T,]) != 0, T, F)\n",
    "    }\n",
    "\n",
    "    return(this)\n",
    "})))\n",
    "\n",
    "ldstats"
   ]
  },
  {
   "cell_type": "code",
   "execution_count": 63,
   "metadata": {},
   "outputs": [
    {
     "name": "stderr",
     "output_type": "stream",
     "text": [
      "0 ENSG00000100380\n",
      "\n",
      "ENSG00000100380 gene_expression 22 ipsc_ppc 0 ENSG00000100380\n",
      "\n"
     ]
    }
   ],
   "source": [
    "id = \"0 ENSG00000100380\"\n",
    "kb = 500\n",
    "r2 = 0.2\n",
    "chr = 22\n",
    "\n",
    "transcript = unlist(strsplit(id, \" \"))[2]\n",
    "pheno = qtl2class[qtl2class$eqtl_id == id,]$eqtl_phenotype\n",
    "\n",
    "this = qtl2class %>% filter(eqtl_id == id)\n",
    "snpchr = this$chr\n",
    "snpchr = 22\n",
    "this_tiss = this$tissue\n",
    "eqtltype = this$eqtl_type\n",
    "mod_id = this$module_id\n",
    "\n",
    "message(mod_id)\n",
    "message(paste(transcript, pheno, snpchr, this_tiss, mod_id))\n",
    "\n",
    "# get all other eQTLs\n",
    "work = qtl2class %>% filter(eqtl_id != id & chr == snpchr & eqtl_phenotype == pheno & module_id != mod_id) %>% mutate(dist = abs(pos - this$pos))\n"
   ]
  },
  {
   "cell_type": "code",
   "execution_count": 65,
   "metadata": {},
   "outputs": [
    {
     "name": "stdout",
     "output_type": "stream",
     "text": [
      "'data.frame':\t1 obs. of  24 variables:\n",
      " $ eqtl_id            : chr \"0 ENSG00000100380\"\n",
      " $ tissue             : chr \"ipsc_ppc\"\n",
      " $ eqtl_phenotype     : chr \"gene_expression\"\n",
      " $ transcript_id      : chr \"ENSG00000100380\"\n",
      " $ gene_id            : chr \"ENSG00000100380\"\n",
      " $ in_gencode         : logi TRUE\n",
      " $ in_network         : logi FALSE\n",
      " $ expressed_fetal    : logi TRUE\n",
      " $ expressed_endocrine: logi TRUE\n",
      " $ expressed_exocrine : logi TRUE\n",
      " $ has_gt1            : logi TRUE\n",
      " $ in_1kg             : logi TRUE\n",
      " $ gene_name          : chr \"ST13\"\n",
      " $ module_id          : chr \"0 ENSG00000100380\"\n",
      " $ in_topsnp          : logi TRUE\n",
      " $ in_alltopsnp       : logi TRUE\n",
      " $ chr                : chr \"22\"\n",
      " $ pos                : num 41332598\n",
      " $ snp_1kg            : chr \"VAR_22_41332598_A_AT\"\n",
      " $ ld_tested          : logi TRUE\n",
      " $ eqtl_type          : chr \"singleton\"\n",
      " $ ld_ipsc_ppc        : logi FALSE\n",
      " $ ld_endocrine       : logi FALSE\n",
      " $ ld_exocrine        : logi FALSE\n"
     ]
    }
   ],
   "source": [
    "# get all snps for ld\n",
    "for (tiss in unique(work$tissue))\n",
    "{\n",
    "    # get snps for tissue\n",
    "    if (this_tiss == tiss)\n",
    "    {\n",
    "        snps_tiss = work %>% filter(tissue == tiss & chr == snpchr & transcript_id != transcript) %>% mutate(snp_1kg = gsub(\"VAR_\", \"\", snp_1kg)) \n",
    "    } else\n",
    "    {\n",
    "        snps_tiss = work %>% filter(tissue == tiss & chr == snpchr) %>% mutate(snp_1kg = gsub(\"VAR_\", \"\", snp_1kg)) \n",
    "    }\n",
    "    \n",
    "    # get ld results for snps\n",
    "    ld_tiss = ld_list[[paste0(\"chr\", snpchr)]]$ld %>% filter(Var1 == gsub(\"VAR_\", \"\", this$snp_1kg) & Var2 %in% gsub(\"VAR_\", \"\", snps_tiss$snp_1kg))\n",
    "    \n",
    "    # merge ld with snps\n",
    "    snps_tiss = merge(snps_tiss, ld_tiss %>% select(Var2, value) %>% rename(snp_1kg = Var2, ld = value), by = \"snp_1kg\", all.x = T) \n",
    "\n",
    "    # if snp is outside window, not in LD, else, test for LD. if can't test for LD, then in LD, else, if ld > 0.6, then in LD, else not in LD\n",
    "    snps_tiss$in_ld = ifelse(snps_tiss$dist >= kb*1e3, F, ifelse(is.na(snps_tiss$snp_1kg), T, ifelse(snps_tiss$ld >= r2, T, F)))\n",
    "    #snps_tiss$in_ld = ifelse(is.na(snps_tiss$snp_1kg) & snps_tiss$dist >= kb*1e3, F, ifelse(snps_tiss$dist >= kb*1e3 & snps_tiss$ld <= r2, F, T))\n",
    "\n",
    "    # if one eQTL in LD, then yes, else no\n",
    "    this[,paste0(\"ld_\", tiss)] = ifelse(nrow(snps_tiss[snps_tiss$in_ld == T,]) != 0, T, F)\n",
    "}\n",
    "\n",
    "str(this)\n",
    "\n"
   ]
  },
  {
   "cell_type": "code",
   "execution_count": 67,
   "metadata": {},
   "outputs": [
    {
     "data": {
      "text/html": [
       "TRUE"
      ],
      "text/latex": [
       "TRUE"
      ],
      "text/markdown": [
       "TRUE"
      ],
      "text/plain": [
       "[1] TRUE"
      ]
     },
     "metadata": {},
     "output_type": "display_data"
    },
    {
     "data": {
      "text/html": [
       "TRUE"
      ],
      "text/latex": [
       "TRUE"
      ],
      "text/markdown": [
       "TRUE"
      ],
      "text/plain": [
       "[1] TRUE"
      ]
     },
     "metadata": {},
     "output_type": "display_data"
    }
   ],
   "source": [
    "41332598 > 41049522\n",
    "\n",
    "41332598 < 41449522"
   ]
  },
  {
   "cell_type": "code",
   "execution_count": null,
   "metadata": {},
   "outputs": [],
   "source": [
    "\n",
    "# ldstats = as.data.frame(rbindlist(lapply(c(id), function(id)\n",
    "# {\n",
    "#     transcript = unlist(strsplit(id, \" \"))[2]\n",
    "#     pheno = qtl2class[qtl2class$eqtl_id == id,]$eqtl_phenotype\n",
    "\n",
    "#     this = qtl2class %>% filter(eqtl_id == id)\n",
    "#     snpchr = this$chr\n",
    "#     this_tiss = this$tissue\n",
    "    \n",
    "#     message(paste(transcript, pheno, snpchr))\n",
    "\n",
    "#     work = qtl2class %>% filter(eqtl_id != id & chr == snpchr & eqtl_phenotype == pheno) %>% mutate(dist = abs(pos - this$pos))\n",
    "\n",
    "#     # get all snps for ld\n",
    "#     for (tiss in unique(work$tissue))\n",
    "#     {\n",
    "#         if (this_tiss == tiss)\n",
    "#         {\n",
    "#             snps_tiss = work %>% filter(tissue == tiss & chr == snpchr & transcript_id != transcript_id) %>% mutate(snp_1kg = gsub(\"VAR_\", \"\", snp_1kg)) \n",
    "#         } else\n",
    "#         {\n",
    "#             # get snps for tissue\n",
    "#             snps_tiss = work %>% filter(tissue == tiss & chr == snpchr) %>% mutate(snp_1kg = gsub(\"VAR_\", \"\", snp_1kg)) \n",
    "#         }\n",
    "        \n",
    "#         # get ld results for snps\n",
    "#         ld_tiss = ld_list[[paste0(\"chr\", snpchr)]]$ld %>% filter(Var1 == gsub(\"VAR_\", \"\", this$snp_1kg) & Var2 %in% gsub(\"VAR_\", \"\", snps_tiss$snp_1kg))\n",
    "        \n",
    "#         # merge ld with snps\n",
    "#         snps_tiss = merge(snps_tiss, ld_tiss %>% select(Var2, value) %>% rename(snp_1kg = Var2, ld = value), by = \"snp_1kg\", all.x = T) \n",
    "        \n",
    "#         # if snp is outside window, not in LD, else, test for LD. if can't test for LD, then in LD, else, if ld > 0.6, then in LD, else not in LD\n",
    "#         snps_tiss$in_ld = ifelse(snps_tiss$dist >= kb*1e3, F, ifelse(is.na(snps_tiss$snp_1kg), T, ifelse(snps_tiss$ld >= r2, T, F)))\n",
    "        \n",
    "#         # if one eQTL in LD, then yes, else no\n",
    "#         this[,paste0(\"ld_\", tiss)] = ifelse(nrow(snps_tiss[snps_tiss$in_ld == T,]) != 0, T, F)\n",
    "#     }\n",
    "\n",
    "#     return(this)\n",
    "# })))\n",
    "\n",
    "# ldstats"
   ]
  },
  {
   "cell_type": "code",
   "execution_count": 1027,
   "metadata": {},
   "outputs": [
    {
     "name": "stderr",
     "output_type": "stream",
     "text": [
      "echo \"Rscript scripts/17.eQTLFuncEnr/topsnp_ld2.R --chr 1 --r2 0.2 --kb 500\" | qsub -N chr1 -o logs/topsnp_1.out -e logs/topsnp_1.err -pe smp 4 -V -cwd\n",
      "\n",
      "Warning message in system(qsub):\n",
      "“system call failed: Cannot allocate memory”\n",
      "Warning message in system(qsub):\n",
      "“error in running command”\n",
      "echo \"Rscript scripts/17.eQTLFuncEnr/topsnp_ld2.R --chr 2 --r2 0.2 --kb 500\" | qsub -N chr2 -o logs/topsnp_2.out -e logs/topsnp_2.err -pe smp 4 -V -cwd\n",
      "\n",
      "Warning message in system(qsub):\n",
      "“system call failed: Cannot allocate memory”\n",
      "Warning message in system(qsub):\n",
      "“error in running command”\n",
      "echo \"Rscript scripts/17.eQTLFuncEnr/topsnp_ld2.R --chr 3 --r2 0.2 --kb 500\" | qsub -N chr3 -o logs/topsnp_3.out -e logs/topsnp_3.err -pe smp 4 -V -cwd\n",
      "\n",
      "Warning message in system(qsub):\n",
      "“system call failed: Cannot allocate memory”\n",
      "Warning message in system(qsub):\n",
      "“error in running command”\n",
      "echo \"Rscript scripts/17.eQTLFuncEnr/topsnp_ld2.R --chr 4 --r2 0.2 --kb 500\" | qsub -N chr4 -o logs/topsnp_4.out -e logs/topsnp_4.err -pe smp 4 -V -cwd\n",
      "\n",
      "Warning message in system(qsub):\n",
      "“system call failed: Cannot allocate memory”\n",
      "Warning message in system(qsub):\n",
      "“error in running command”\n",
      "echo \"Rscript scripts/17.eQTLFuncEnr/topsnp_ld2.R --chr 5 --r2 0.2 --kb 500\" | qsub -N chr5 -o logs/topsnp_5.out -e logs/topsnp_5.err -pe smp 4 -V -cwd\n",
      "\n",
      "Warning message in system(qsub):\n",
      "“system call failed: Cannot allocate memory”\n",
      "Warning message in system(qsub):\n",
      "“error in running command”\n",
      "echo \"Rscript scripts/17.eQTLFuncEnr/topsnp_ld2.R --chr 6 --r2 0.2 --kb 500\" | qsub -N chr6 -o logs/topsnp_6.out -e logs/topsnp_6.err -pe smp 4 -V -cwd\n",
      "\n",
      "Warning message in system(qsub):\n",
      "“system call failed: Cannot allocate memory”\n",
      "Warning message in system(qsub):\n",
      "“error in running command”\n",
      "echo \"Rscript scripts/17.eQTLFuncEnr/topsnp_ld2.R --chr 7 --r2 0.2 --kb 500\" | qsub -N chr7 -o logs/topsnp_7.out -e logs/topsnp_7.err -pe smp 4 -V -cwd\n",
      "\n",
      "Warning message in system(qsub):\n",
      "“system call failed: Cannot allocate memory”\n",
      "Warning message in system(qsub):\n",
      "“error in running command”\n",
      "echo \"Rscript scripts/17.eQTLFuncEnr/topsnp_ld2.R --chr 8 --r2 0.2 --kb 500\" | qsub -N chr8 -o logs/topsnp_8.out -e logs/topsnp_8.err -pe smp 4 -V -cwd\n",
      "\n",
      "Warning message in system(qsub):\n",
      "“system call failed: Cannot allocate memory”\n",
      "Warning message in system(qsub):\n",
      "“error in running command”\n",
      "echo \"Rscript scripts/17.eQTLFuncEnr/topsnp_ld2.R --chr 9 --r2 0.2 --kb 500\" | qsub -N chr9 -o logs/topsnp_9.out -e logs/topsnp_9.err -pe smp 4 -V -cwd\n",
      "\n",
      "Warning message in system(qsub):\n",
      "“system call failed: Cannot allocate memory”\n",
      "Warning message in system(qsub):\n",
      "“error in running command”\n",
      "echo \"Rscript scripts/17.eQTLFuncEnr/topsnp_ld2.R --chr 10 --r2 0.2 --kb 500\" | qsub -N chr10 -o logs/topsnp_10.out -e logs/topsnp_10.err -pe smp 4 -V -cwd\n",
      "\n",
      "Warning message in system(qsub):\n",
      "“system call failed: Cannot allocate memory”\n",
      "Warning message in system(qsub):\n",
      "“error in running command”\n",
      "echo \"Rscript scripts/17.eQTLFuncEnr/topsnp_ld2.R --chr 11 --r2 0.2 --kb 500\" | qsub -N chr11 -o logs/topsnp_11.out -e logs/topsnp_11.err -pe smp 4 -V -cwd\n",
      "\n",
      "Warning message in system(qsub):\n",
      "“system call failed: Cannot allocate memory”\n",
      "Warning message in system(qsub):\n",
      "“error in running command”\n",
      "echo \"Rscript scripts/17.eQTLFuncEnr/topsnp_ld2.R --chr 12 --r2 0.2 --kb 500\" | qsub -N chr12 -o logs/topsnp_12.out -e logs/topsnp_12.err -pe smp 4 -V -cwd\n",
      "\n",
      "Warning message in system(qsub):\n",
      "“system call failed: Cannot allocate memory”\n",
      "Warning message in system(qsub):\n",
      "“error in running command”\n",
      "echo \"Rscript scripts/17.eQTLFuncEnr/topsnp_ld2.R --chr 13 --r2 0.2 --kb 500\" | qsub -N chr13 -o logs/topsnp_13.out -e logs/topsnp_13.err -pe smp 4 -V -cwd\n",
      "\n",
      "Warning message in system(qsub):\n",
      "“system call failed: Cannot allocate memory”\n",
      "Warning message in system(qsub):\n",
      "“error in running command”\n",
      "echo \"Rscript scripts/17.eQTLFuncEnr/topsnp_ld2.R --chr 14 --r2 0.2 --kb 500\" | qsub -N chr14 -o logs/topsnp_14.out -e logs/topsnp_14.err -pe smp 4 -V -cwd\n",
      "\n",
      "Warning message in system(qsub):\n",
      "“system call failed: Cannot allocate memory”\n",
      "Warning message in system(qsub):\n",
      "“error in running command”\n",
      "echo \"Rscript scripts/17.eQTLFuncEnr/topsnp_ld2.R --chr 15 --r2 0.2 --kb 500\" | qsub -N chr15 -o logs/topsnp_15.out -e logs/topsnp_15.err -pe smp 4 -V -cwd\n",
      "\n",
      "Warning message in system(qsub):\n",
      "“system call failed: Cannot allocate memory”\n",
      "Warning message in system(qsub):\n",
      "“error in running command”\n",
      "echo \"Rscript scripts/17.eQTLFuncEnr/topsnp_ld2.R --chr 16 --r2 0.2 --kb 500\" | qsub -N chr16 -o logs/topsnp_16.out -e logs/topsnp_16.err -pe smp 4 -V -cwd\n",
      "\n",
      "Warning message in system(qsub):\n",
      "“system call failed: Cannot allocate memory”\n",
      "Warning message in system(qsub):\n",
      "“error in running command”\n",
      "echo \"Rscript scripts/17.eQTLFuncEnr/topsnp_ld2.R --chr 17 --r2 0.2 --kb 500\" | qsub -N chr17 -o logs/topsnp_17.out -e logs/topsnp_17.err -pe smp 4 -V -cwd\n",
      "\n",
      "Warning message in system(qsub):\n",
      "“system call failed: Cannot allocate memory”\n",
      "Warning message in system(qsub):\n",
      "“error in running command”\n",
      "echo \"Rscript scripts/17.eQTLFuncEnr/topsnp_ld2.R --chr 18 --r2 0.2 --kb 500\" | qsub -N chr18 -o logs/topsnp_18.out -e logs/topsnp_18.err -pe smp 4 -V -cwd\n",
      "\n",
      "Warning message in system(qsub):\n",
      "“system call failed: Cannot allocate memory”\n",
      "Warning message in system(qsub):\n",
      "“error in running command”\n",
      "echo \"Rscript scripts/17.eQTLFuncEnr/topsnp_ld2.R --chr 19 --r2 0.2 --kb 500\" | qsub -N chr19 -o logs/topsnp_19.out -e logs/topsnp_19.err -pe smp 4 -V -cwd\n",
      "\n",
      "Warning message in system(qsub):\n",
      "“system call failed: Cannot allocate memory”\n",
      "Warning message in system(qsub):\n",
      "“error in running command”\n",
      "echo \"Rscript scripts/17.eQTLFuncEnr/topsnp_ld2.R --chr 20 --r2 0.2 --kb 500\" | qsub -N chr20 -o logs/topsnp_20.out -e logs/topsnp_20.err -pe smp 4 -V -cwd\n",
      "\n",
      "Warning message in system(qsub):\n",
      "“system call failed: Cannot allocate memory”\n",
      "Warning message in system(qsub):\n",
      "“error in running command”\n",
      "echo \"Rscript scripts/17.eQTLFuncEnr/topsnp_ld2.R --chr 21 --r2 0.2 --kb 500\" | qsub -N chr21 -o logs/topsnp_21.out -e logs/topsnp_21.err -pe smp 4 -V -cwd\n",
      "\n",
      "Warning message in system(qsub):\n",
      "“system call failed: Cannot allocate memory”\n",
      "Warning message in system(qsub):\n",
      "“error in running command”\n",
      "echo \"Rscript scripts/17.eQTLFuncEnr/topsnp_ld2.R --chr 22 --r2 0.2 --kb 500\" | qsub -N chr22 -o logs/topsnp_22.out -e logs/topsnp_22.err -pe smp 4 -V -cwd\n",
      "\n",
      "Warning message in system(qsub):\n",
      "“system call failed: Cannot allocate memory”\n",
      "Warning message in system(qsub):\n",
      "“error in running command”\n"
     ]
    }
   ],
   "source": [
    "# 300 0.3\n",
    "# 300 0.6\n",
    "# 250 0.6\n",
    "# 500 0.3\n",
    "\n",
    "kb = 300\n",
    "r2 = 0.2\n",
    "\n",
    "for (i in c(1:22))\n",
    "{\n",
    "    chr = i\n",
    "    \n",
    "    cmd = paste(\"echo\", \"\\\"Rscript\", \"scripts/17.eQTLFuncEnr/topsnp_ld2.R\", \"--chr\", chr, \"--r2\", r2, \"--kb\", paste0(kb, \"\\\"\"))\n",
    "    \n",
    "    qsub = paste(cmd, \"|\", \"qsub\", \"-N\", paste0(\"chr\", chr), \n",
    "                 \"-o\", paste(\"logs\", paste(paste(\"topsnp\", chr, sep = \"_\"), \"out\", sep = \".\"), sep = \"/\"),\n",
    "                 \"-e\", paste(\"logs\", paste(paste(\"topsnp\", chr, sep = \"_\"), \"err\", sep = \".\"), sep = \"/\"),\n",
    "                 \"-pe smp 4\", \"-V -cwd\")\n",
    "    \n",
    "    message(qsub)\n",
    "    system(qsub)\n",
    "    \n",
    "}"
   ]
  },
  {
   "cell_type": "code",
   "execution_count": 927,
   "metadata": {},
   "outputs": [
    {
     "data": {
      "text/html": [
       "<table class=\"dataframe\">\n",
       "<caption>A data.frame: 1 × 22</caption>\n",
       "<thead>\n",
       "\t<tr><th scope=col>eqtl_id</th><th scope=col>tissue</th><th scope=col>eqtl_phenotype</th><th scope=col>transcript_id</th><th scope=col>gene_id</th><th scope=col>in_gencode</th><th scope=col>in_network</th><th scope=col>expressed_fetal</th><th scope=col>expressed_endocrine</th><th scope=col>expressed_exocrine</th><th scope=col>⋯</th><th scope=col>gene_name</th><th scope=col>in_topsnp</th><th scope=col>in_alltopsnp</th><th scope=col>chr</th><th scope=col>pos</th><th scope=col>snp_1kg</th><th scope=col>ld_tested</th><th scope=col>ld_ipsc_ppc</th><th scope=col>ld_endocrine</th><th scope=col>ld_exocrine</th></tr>\n",
       "\t<tr><th scope=col>&lt;chr&gt;</th><th scope=col>&lt;chr&gt;</th><th scope=col>&lt;chr&gt;</th><th scope=col>&lt;chr&gt;</th><th scope=col>&lt;chr&gt;</th><th scope=col>&lt;lgl&gt;</th><th scope=col>&lt;lgl&gt;</th><th scope=col>&lt;lgl&gt;</th><th scope=col>&lt;lgl&gt;</th><th scope=col>&lt;lgl&gt;</th><th scope=col>⋯</th><th scope=col>&lt;chr&gt;</th><th scope=col>&lt;lgl&gt;</th><th scope=col>&lt;lgl&gt;</th><th scope=col>&lt;int&gt;</th><th scope=col>&lt;int&gt;</th><th scope=col>&lt;chr&gt;</th><th scope=col>&lt;lgl&gt;</th><th scope=col>&lt;lgl&gt;</th><th scope=col>&lt;lgl&gt;</th><th scope=col>&lt;lgl&gt;</th></tr>\n",
       "</thead>\n",
       "<tbody>\n",
       "\t<tr><td>0 ENSG00000196821</td><td>ipsc_ppc</td><td>gene_expression</td><td>ENSG00000196821</td><td>ENSG00000196821</td><td>TRUE</td><td>FALSE</td><td>TRUE</td><td>TRUE</td><td>TRUE</td><td>⋯</td><td>ILRUN</td><td>TRUE</td><td>TRUE</td><td>6</td><td>34658565</td><td>VAR_6_34658565_A_AGTTTT</td><td>TRUE</td><td>TRUE</td><td>TRUE</td><td>TRUE</td></tr>\n",
       "</tbody>\n",
       "</table>\n"
      ],
      "text/latex": [
       "A data.frame: 1 × 22\n",
       "\\begin{tabular}{lllllllllllllllllllll}\n",
       " eqtl\\_id & tissue & eqtl\\_phenotype & transcript\\_id & gene\\_id & in\\_gencode & in\\_network & expressed\\_fetal & expressed\\_endocrine & expressed\\_exocrine & ⋯ & gene\\_name & in\\_topsnp & in\\_alltopsnp & chr & pos & snp\\_1kg & ld\\_tested & ld\\_ipsc\\_ppc & ld\\_endocrine & ld\\_exocrine\\\\\n",
       " <chr> & <chr> & <chr> & <chr> & <chr> & <lgl> & <lgl> & <lgl> & <lgl> & <lgl> & ⋯ & <chr> & <lgl> & <lgl> & <int> & <int> & <chr> & <lgl> & <lgl> & <lgl> & <lgl>\\\\\n",
       "\\hline\n",
       "\t 0 ENSG00000196821 & ipsc\\_ppc & gene\\_expression & ENSG00000196821 & ENSG00000196821 & TRUE & FALSE & TRUE & TRUE & TRUE & ⋯ & ILRUN & TRUE & TRUE & 6 & 34658565 & VAR\\_6\\_34658565\\_A\\_AGTTTT & TRUE & TRUE & TRUE & TRUE\\\\\n",
       "\\end{tabular}\n"
      ],
      "text/markdown": [
       "\n",
       "A data.frame: 1 × 22\n",
       "\n",
       "| eqtl_id &lt;chr&gt; | tissue &lt;chr&gt; | eqtl_phenotype &lt;chr&gt; | transcript_id &lt;chr&gt; | gene_id &lt;chr&gt; | in_gencode &lt;lgl&gt; | in_network &lt;lgl&gt; | expressed_fetal &lt;lgl&gt; | expressed_endocrine &lt;lgl&gt; | expressed_exocrine &lt;lgl&gt; | ⋯ ⋯ | gene_name &lt;chr&gt; | in_topsnp &lt;lgl&gt; | in_alltopsnp &lt;lgl&gt; | chr &lt;int&gt; | pos &lt;int&gt; | snp_1kg &lt;chr&gt; | ld_tested &lt;lgl&gt; | ld_ipsc_ppc &lt;lgl&gt; | ld_endocrine &lt;lgl&gt; | ld_exocrine &lt;lgl&gt; |\n",
       "|---|---|---|---|---|---|---|---|---|---|---|---|---|---|---|---|---|---|---|---|---|\n",
       "| 0 ENSG00000196821 | ipsc_ppc | gene_expression | ENSG00000196821 | ENSG00000196821 | TRUE | FALSE | TRUE | TRUE | TRUE | ⋯ | ILRUN | TRUE | TRUE | 6 | 34658565 | VAR_6_34658565_A_AGTTTT | TRUE | TRUE | TRUE | TRUE |\n",
       "\n"
      ],
      "text/plain": [
       "  eqtl_id           tissue   eqtl_phenotype  transcript_id   gene_id        \n",
       "1 0 ENSG00000196821 ipsc_ppc gene_expression ENSG00000196821 ENSG00000196821\n",
       "  in_gencode in_network expressed_fetal expressed_endocrine expressed_exocrine\n",
       "1 TRUE       FALSE      TRUE            TRUE                TRUE              \n",
       "  ⋯ gene_name in_topsnp in_alltopsnp chr pos      snp_1kg                \n",
       "1 ⋯ ILRUN     TRUE      TRUE         6   34658565 VAR_6_34658565_A_AGTTTT\n",
       "  ld_tested ld_ipsc_ppc ld_endocrine ld_exocrine\n",
       "1 TRUE      TRUE        TRUE         TRUE       "
      ]
     },
     "metadata": {},
     "output_type": "display_data"
    }
   ],
   "source": [
    "kb = 500\n",
    "r2 = 0.1\n",
    "files = list.files(\"pipeline/17.eQTLFuncEnr/ld_all/topsnp/processed2\", full.names = T)\n",
    "files = files[which(files %like% paste0(kb, \"kb\") & files %like% paste0(\"r\", r2))]\n",
    "\n",
    "nqtl2class = as.data.frame(rbindlist(lapply(files, function(x) { fread(x, data.table = F) })))\n",
    "\n",
    "nqtl2class %>% filter(eqtl_id == \"0 ENSG00000196821\")\n",
    "\n"
   ]
  },
  {
   "cell_type": "markdown",
   "metadata": {},
   "source": [
    "# Processed v1"
   ]
  },
  {
   "cell_type": "code",
   "execution_count": 162,
   "metadata": {},
   "outputs": [],
   "source": [
    "get_stats = function(id, kb)\n",
    "{\n",
    "    transcript = unlist(strsplit(id, \" \"))[2]\n",
    "    out = data.frame(eqtl_id = id)\n",
    "    pheno = topsnp[topsnp$qtl_id == id,]$phenotype\n",
    "    out$phenotype = pheno\n",
    "    snps_a = topsnp %>% filter(qtl_id == id)\n",
    "    snps_f = topsnp %>% filter(phenotype == pheno & qtl_id != id & transcript_id != transcript & !qtl_id %like% \"Islets\" & !qtl_id %like% \"Pancreas\") %>% mutate(dist = abs(pos - snps_a$pos))\n",
    "    snps_i = topsnp %>% filter(phenotype == pheno & qtl_id != id & qtl_id %like% \"Islets\") %>% mutate(dist = abs(pos - snps_a$pos))\n",
    "    snps_p = topsnp %>% filter(phenotype == pheno & qtl_id != id & qtl_id %like% \"Pancreas\") %>% mutate(dist = abs(pos - snps_a$pos))\n",
    "\n",
    "    out$topsnp = snps_a$snp\n",
    "    # distance to nearest eQTL \n",
    "    out$dist_f = min(snps_f$dist)\n",
    "    out$dist_i = min(snps_i$dist)\n",
    "    out$dist_p = min(snps_p$dist)\n",
    "\n",
    "    # max r2\n",
    "    chr = unlist(strsplit(snps_a$snp, \"_\"))[1]\n",
    "    l_f = ld_list[[paste0(\"chr\", chr)]] %>% filter(Var1 == snps_a$snp & Var2 %in% snps_f[snps_f$dist <= kb*1e3,]$snp)\n",
    "    l_i = ld_list[[paste0(\"chr\", chr)]] %>% filter(Var1 == snps_a$snp & Var2 %in% snps_i[snps_i$dist <= kb*1e3,]$snp)\n",
    "    l_p = ld_list[[paste0(\"chr\", chr)]] %>% filter(Var1 == snps_a$snp & Var2 %in% snps_p[snps_p$dist <= kb*1e3,]$snp)\n",
    "    out$r2_f = suppressWarnings(suppressMessages(max(l_f$value)))\n",
    "    out$r2_i = suppressWarnings(suppressMessages(max(l_i$value)))\n",
    "    out$r2_p = suppressWarnings(suppressMessages(max(l_p$value)))\n",
    "    \n",
    "    out$r2_f = ifelse(is.infinite(out$r2_f), NA, out$r2_f)\n",
    "    out$r2_i = ifelse(is.infinite(out$r2_i), NA, out$r2_i)\n",
    "    out$r2_p = ifelse(is.infinite(out$r2_p), NA, out$r2_p)\n",
    "    \n",
    "    return(out)\n",
    "}\n"
   ]
  },
  {
   "cell_type": "code",
   "execution_count": 166,
   "metadata": {},
   "outputs": [
    {
     "data": {
      "text/html": [
       "<table class=\"dataframe\">\n",
       "<caption>A data.frame: 10 × 9</caption>\n",
       "<thead>\n",
       "\t<tr><th scope=col>eqtl_id</th><th scope=col>phenotype</th><th scope=col>topsnp</th><th scope=col>dist_f</th><th scope=col>dist_i</th><th scope=col>dist_p</th><th scope=col>r2_f</th><th scope=col>r2_i</th><th scope=col>r2_p</th></tr>\n",
       "\t<tr><th scope=col>&lt;chr&gt;</th><th scope=col>&lt;chr&gt;</th><th scope=col>&lt;chr&gt;</th><th scope=col>&lt;dbl&gt;</th><th scope=col>&lt;dbl&gt;</th><th scope=col>&lt;dbl&gt;</th><th scope=col>&lt;dbl&gt;</th><th scope=col>&lt;dbl&gt;</th><th scope=col>&lt;dbl&gt;</th></tr>\n",
       "</thead>\n",
       "<tbody>\n",
       "\t<tr><td>0 ENSG00000000419</td><td>gene_expression</td><td>20_50005043_G_GA</td><td>  3070</td><td>  1841</td><td> 1226</td><td>        NA</td><td>9.27000e-03</td><td>0.00420204</td></tr>\n",
       "\t<tr><td>0 ENSG00000001561</td><td>gene_expression</td><td>6_46148778_AT_A </td><td>  2660</td><td> 14072</td><td> 3753</td><td>0.11027700</td><td>2.14985e-01</td><td>0.19410300</td></tr>\n",
       "\t<tr><td>0 ENSG00000002726</td><td>gene_expression</td><td>7_150521096_A_G </td><td>  4805</td><td> 12658</td><td> 8306</td><td>0.00864343</td><td>5.27728e-02</td><td>0.21603100</td></tr>\n",
       "\t<tr><td>0 ENSG00000003249</td><td>gene_expression</td><td>16_90081660_A_G </td><td>  2242</td><td>  3479</td><td> 3479</td><td>0.15068300</td><td>2.62493e-01</td><td>0.53386700</td></tr>\n",
       "\t<tr><td>0 ENSG00000003436</td><td>gene_expression</td><td>2_188783299_G_A </td><td>138141</td><td>386832</td><td> 6768</td><td>        NA</td><td>         NA</td><td>0.63058100</td></tr>\n",
       "\t<tr><td>0 ENSG00000003987</td><td>gene_expression</td><td>8_17267851_T_A  </td><td>   530</td><td>  8372</td><td> 3555</td><td>0.00250768</td><td>4.03714e-03</td><td>0.06499440</td></tr>\n",
       "\t<tr><td>0 ENSG00000004139</td><td>gene_expression</td><td>17_26703376_A_G </td><td>  5994</td><td>  6894</td><td>  306</td><td>0.84830200</td><td>9.88523e-01</td><td>0.99569100</td></tr>\n",
       "\t<tr><td>0 ENSG00000004478</td><td>gene_expression</td><td>12_2925496_CT_C </td><td>  7075</td><td>  8794</td><td> 4422</td><td>        NA</td><td>1.29113e-05</td><td>0.43572300</td></tr>\n",
       "\t<tr><td>0 ENSG00000004534</td><td>gene_expression</td><td>3_49989935_GT_G </td><td>  2006</td><td> 16949</td><td>13882</td><td>0.44865500</td><td>5.87851e-01</td><td>0.79947700</td></tr>\n",
       "\t<tr><td>0 ENSG00000005001</td><td>gene_expression</td><td>16_2909681_G_A  </td><td>  2382</td><td>  1202</td><td> 2126</td><td>0.06271500</td><td>6.61149e-01</td><td>0.63634300</td></tr>\n",
       "</tbody>\n",
       "</table>\n"
      ],
      "text/latex": [
       "A data.frame: 10 × 9\n",
       "\\begin{tabular}{lllllllll}\n",
       " eqtl\\_id & phenotype & topsnp & dist\\_f & dist\\_i & dist\\_p & r2\\_f & r2\\_i & r2\\_p\\\\\n",
       " <chr> & <chr> & <chr> & <dbl> & <dbl> & <dbl> & <dbl> & <dbl> & <dbl>\\\\\n",
       "\\hline\n",
       "\t 0 ENSG00000000419 & gene\\_expression & 20\\_50005043\\_G\\_GA &   3070 &   1841 &  1226 &         NA & 9.27000e-03 & 0.00420204\\\\\n",
       "\t 0 ENSG00000001561 & gene\\_expression & 6\\_46148778\\_AT\\_A  &   2660 &  14072 &  3753 & 0.11027700 & 2.14985e-01 & 0.19410300\\\\\n",
       "\t 0 ENSG00000002726 & gene\\_expression & 7\\_150521096\\_A\\_G  &   4805 &  12658 &  8306 & 0.00864343 & 5.27728e-02 & 0.21603100\\\\\n",
       "\t 0 ENSG00000003249 & gene\\_expression & 16\\_90081660\\_A\\_G  &   2242 &   3479 &  3479 & 0.15068300 & 2.62493e-01 & 0.53386700\\\\\n",
       "\t 0 ENSG00000003436 & gene\\_expression & 2\\_188783299\\_G\\_A  & 138141 & 386832 &  6768 &         NA &          NA & 0.63058100\\\\\n",
       "\t 0 ENSG00000003987 & gene\\_expression & 8\\_17267851\\_T\\_A   &    530 &   8372 &  3555 & 0.00250768 & 4.03714e-03 & 0.06499440\\\\\n",
       "\t 0 ENSG00000004139 & gene\\_expression & 17\\_26703376\\_A\\_G  &   5994 &   6894 &   306 & 0.84830200 & 9.88523e-01 & 0.99569100\\\\\n",
       "\t 0 ENSG00000004478 & gene\\_expression & 12\\_2925496\\_CT\\_C  &   7075 &   8794 &  4422 &         NA & 1.29113e-05 & 0.43572300\\\\\n",
       "\t 0 ENSG00000004534 & gene\\_expression & 3\\_49989935\\_GT\\_G  &   2006 &  16949 & 13882 & 0.44865500 & 5.87851e-01 & 0.79947700\\\\\n",
       "\t 0 ENSG00000005001 & gene\\_expression & 16\\_2909681\\_G\\_A   &   2382 &   1202 &  2126 & 0.06271500 & 6.61149e-01 & 0.63634300\\\\\n",
       "\\end{tabular}\n"
      ],
      "text/markdown": [
       "\n",
       "A data.frame: 10 × 9\n",
       "\n",
       "| eqtl_id &lt;chr&gt; | phenotype &lt;chr&gt; | topsnp &lt;chr&gt; | dist_f &lt;dbl&gt; | dist_i &lt;dbl&gt; | dist_p &lt;dbl&gt; | r2_f &lt;dbl&gt; | r2_i &lt;dbl&gt; | r2_p &lt;dbl&gt; |\n",
       "|---|---|---|---|---|---|---|---|---|\n",
       "| 0 ENSG00000000419 | gene_expression | 20_50005043_G_GA |   3070 |   1841 |  1226 |         NA | 9.27000e-03 | 0.00420204 |\n",
       "| 0 ENSG00000001561 | gene_expression | 6_46148778_AT_A  |   2660 |  14072 |  3753 | 0.11027700 | 2.14985e-01 | 0.19410300 |\n",
       "| 0 ENSG00000002726 | gene_expression | 7_150521096_A_G  |   4805 |  12658 |  8306 | 0.00864343 | 5.27728e-02 | 0.21603100 |\n",
       "| 0 ENSG00000003249 | gene_expression | 16_90081660_A_G  |   2242 |   3479 |  3479 | 0.15068300 | 2.62493e-01 | 0.53386700 |\n",
       "| 0 ENSG00000003436 | gene_expression | 2_188783299_G_A  | 138141 | 386832 |  6768 |         NA |          NA | 0.63058100 |\n",
       "| 0 ENSG00000003987 | gene_expression | 8_17267851_T_A   |    530 |   8372 |  3555 | 0.00250768 | 4.03714e-03 | 0.06499440 |\n",
       "| 0 ENSG00000004139 | gene_expression | 17_26703376_A_G  |   5994 |   6894 |   306 | 0.84830200 | 9.88523e-01 | 0.99569100 |\n",
       "| 0 ENSG00000004478 | gene_expression | 12_2925496_CT_C  |   7075 |   8794 |  4422 |         NA | 1.29113e-05 | 0.43572300 |\n",
       "| 0 ENSG00000004534 | gene_expression | 3_49989935_GT_G  |   2006 |  16949 | 13882 | 0.44865500 | 5.87851e-01 | 0.79947700 |\n",
       "| 0 ENSG00000005001 | gene_expression | 16_2909681_G_A   |   2382 |   1202 |  2126 | 0.06271500 | 6.61149e-01 | 0.63634300 |\n",
       "\n"
      ],
      "text/plain": [
       "   eqtl_id           phenotype       topsnp           dist_f dist_i dist_p\n",
       "1  0 ENSG00000000419 gene_expression 20_50005043_G_GA   3070   1841  1226 \n",
       "2  0 ENSG00000001561 gene_expression 6_46148778_AT_A    2660  14072  3753 \n",
       "3  0 ENSG00000002726 gene_expression 7_150521096_A_G    4805  12658  8306 \n",
       "4  0 ENSG00000003249 gene_expression 16_90081660_A_G    2242   3479  3479 \n",
       "5  0 ENSG00000003436 gene_expression 2_188783299_G_A  138141 386832  6768 \n",
       "6  0 ENSG00000003987 gene_expression 8_17267851_T_A      530   8372  3555 \n",
       "7  0 ENSG00000004139 gene_expression 17_26703376_A_G    5994   6894   306 \n",
       "8  0 ENSG00000004478 gene_expression 12_2925496_CT_C    7075   8794  4422 \n",
       "9  0 ENSG00000004534 gene_expression 3_49989935_GT_G    2006  16949 13882 \n",
       "10 0 ENSG00000005001 gene_expression 16_2909681_G_A     2382   1202  2126 \n",
       "   r2_f       r2_i        r2_p      \n",
       "1          NA 9.27000e-03 0.00420204\n",
       "2  0.11027700 2.14985e-01 0.19410300\n",
       "3  0.00864343 5.27728e-02 0.21603100\n",
       "4  0.15068300 2.62493e-01 0.53386700\n",
       "5          NA          NA 0.63058100\n",
       "6  0.00250768 4.03714e-03 0.06499440\n",
       "7  0.84830200 9.88523e-01 0.99569100\n",
       "8          NA 1.29113e-05 0.43572300\n",
       "9  0.44865500 5.87851e-01 0.79947700\n",
       "10 0.06271500 6.61149e-01 0.63634300"
      ]
     },
     "metadata": {},
     "output_type": "display_data"
    }
   ],
   "source": [
    "ldstats = as.data.frame(rbindlist(lapply(unique(all_egenes)[1:10], function(x) { get_stats(x, 300) } )))\n",
    "ldstats"
   ]
  },
  {
   "cell_type": "code",
   "execution_count": 221,
   "metadata": {},
   "outputs": [
    {
     "name": "stderr",
     "output_type": "stream",
     "text": [
      "echo \"Rscript scripts/17.eQTLFuncEnr/topsnp_ld.R --chr 1 --kb 250\" | qsub -N chr1 -o logs/topsnp_1.out -e logs/topsnp_1.err -pe smp 4 -V -cwd\n",
      "\n",
      "echo \"Rscript scripts/17.eQTLFuncEnr/topsnp_ld.R --chr 2 --kb 250\" | qsub -N chr2 -o logs/topsnp_2.out -e logs/topsnp_2.err -pe smp 4 -V -cwd\n",
      "\n",
      "echo \"Rscript scripts/17.eQTLFuncEnr/topsnp_ld.R --chr 3 --kb 250\" | qsub -N chr3 -o logs/topsnp_3.out -e logs/topsnp_3.err -pe smp 4 -V -cwd\n",
      "\n",
      "echo \"Rscript scripts/17.eQTLFuncEnr/topsnp_ld.R --chr 4 --kb 250\" | qsub -N chr4 -o logs/topsnp_4.out -e logs/topsnp_4.err -pe smp 4 -V -cwd\n",
      "\n",
      "echo \"Rscript scripts/17.eQTLFuncEnr/topsnp_ld.R --chr 5 --kb 250\" | qsub -N chr5 -o logs/topsnp_5.out -e logs/topsnp_5.err -pe smp 4 -V -cwd\n",
      "\n",
      "echo \"Rscript scripts/17.eQTLFuncEnr/topsnp_ld.R --chr 6 --kb 250\" | qsub -N chr6 -o logs/topsnp_6.out -e logs/topsnp_6.err -pe smp 4 -V -cwd\n",
      "\n",
      "echo \"Rscript scripts/17.eQTLFuncEnr/topsnp_ld.R --chr 7 --kb 250\" | qsub -N chr7 -o logs/topsnp_7.out -e logs/topsnp_7.err -pe smp 4 -V -cwd\n",
      "\n",
      "echo \"Rscript scripts/17.eQTLFuncEnr/topsnp_ld.R --chr 8 --kb 250\" | qsub -N chr8 -o logs/topsnp_8.out -e logs/topsnp_8.err -pe smp 4 -V -cwd\n",
      "\n",
      "echo \"Rscript scripts/17.eQTLFuncEnr/topsnp_ld.R --chr 9 --kb 250\" | qsub -N chr9 -o logs/topsnp_9.out -e logs/topsnp_9.err -pe smp 4 -V -cwd\n",
      "\n",
      "echo \"Rscript scripts/17.eQTLFuncEnr/topsnp_ld.R --chr 10 --kb 250\" | qsub -N chr10 -o logs/topsnp_10.out -e logs/topsnp_10.err -pe smp 4 -V -cwd\n",
      "\n",
      "echo \"Rscript scripts/17.eQTLFuncEnr/topsnp_ld.R --chr 11 --kb 250\" | qsub -N chr11 -o logs/topsnp_11.out -e logs/topsnp_11.err -pe smp 4 -V -cwd\n",
      "\n",
      "echo \"Rscript scripts/17.eQTLFuncEnr/topsnp_ld.R --chr 12 --kb 250\" | qsub -N chr12 -o logs/topsnp_12.out -e logs/topsnp_12.err -pe smp 4 -V -cwd\n",
      "\n",
      "echo \"Rscript scripts/17.eQTLFuncEnr/topsnp_ld.R --chr 13 --kb 250\" | qsub -N chr13 -o logs/topsnp_13.out -e logs/topsnp_13.err -pe smp 4 -V -cwd\n",
      "\n",
      "echo \"Rscript scripts/17.eQTLFuncEnr/topsnp_ld.R --chr 14 --kb 250\" | qsub -N chr14 -o logs/topsnp_14.out -e logs/topsnp_14.err -pe smp 4 -V -cwd\n",
      "\n",
      "echo \"Rscript scripts/17.eQTLFuncEnr/topsnp_ld.R --chr 15 --kb 250\" | qsub -N chr15 -o logs/topsnp_15.out -e logs/topsnp_15.err -pe smp 4 -V -cwd\n",
      "\n",
      "echo \"Rscript scripts/17.eQTLFuncEnr/topsnp_ld.R --chr 16 --kb 250\" | qsub -N chr16 -o logs/topsnp_16.out -e logs/topsnp_16.err -pe smp 4 -V -cwd\n",
      "\n",
      "echo \"Rscript scripts/17.eQTLFuncEnr/topsnp_ld.R --chr 17 --kb 250\" | qsub -N chr17 -o logs/topsnp_17.out -e logs/topsnp_17.err -pe smp 4 -V -cwd\n",
      "\n",
      "echo \"Rscript scripts/17.eQTLFuncEnr/topsnp_ld.R --chr 18 --kb 250\" | qsub -N chr18 -o logs/topsnp_18.out -e logs/topsnp_18.err -pe smp 4 -V -cwd\n",
      "\n",
      "echo \"Rscript scripts/17.eQTLFuncEnr/topsnp_ld.R --chr 19 --kb 250\" | qsub -N chr19 -o logs/topsnp_19.out -e logs/topsnp_19.err -pe smp 4 -V -cwd\n",
      "\n",
      "echo \"Rscript scripts/17.eQTLFuncEnr/topsnp_ld.R --chr 20 --kb 250\" | qsub -N chr20 -o logs/topsnp_20.out -e logs/topsnp_20.err -pe smp 4 -V -cwd\n",
      "\n",
      "echo \"Rscript scripts/17.eQTLFuncEnr/topsnp_ld.R --chr 21 --kb 250\" | qsub -N chr21 -o logs/topsnp_21.out -e logs/topsnp_21.err -pe smp 4 -V -cwd\n",
      "\n",
      "echo \"Rscript scripts/17.eQTLFuncEnr/topsnp_ld.R --chr 22 --kb 250\" | qsub -N chr22 -o logs/topsnp_22.out -e logs/topsnp_22.err -pe smp 4 -V -cwd\n",
      "\n"
     ]
    }
   ],
   "source": [
    "for (i in c(1:22))\n",
    "{\n",
    "    chr = i\n",
    "    kb = 250\n",
    "    \n",
    "    cmd = paste(\"echo\", \"\\\"Rscript\", \"scripts/17.eQTLFuncEnr/topsnp_ld.R\", \"--chr\", chr, \"--kb\", paste0(kb, \"\\\"\"))\n",
    "    \n",
    "    qsub = paste(cmd, \"|\", \"qsub\", \"-N\", paste0(\"chr\", chr), \n",
    "                 \"-o\", paste(\"logs\", paste(paste(\"topsnp\", chr, sep = \"_\"), \"out\", sep = \".\"), sep = \"/\"),\n",
    "                 \"-e\", paste(\"logs\", paste(paste(\"topsnp\", chr, sep = \"_\"), \"err\", sep = \".\"), sep = \"/\"),\n",
    "                 \"-pe smp 4\", \"-V -cwd\")\n",
    "    \n",
    "    message(qsub)\n",
    "    system(qsub)\n",
    "    \n",
    "}"
   ]
  },
  {
   "cell_type": "code",
   "execution_count": 248,
   "metadata": {},
   "outputs": [
    {
     "data": {
      "text/plain": [
       "\n",
       "FALSE  TRUE \n",
       "27230  4619 "
      ]
     },
     "metadata": {},
     "output_type": "display_data"
    },
    {
     "data": {
      "text/plain": [
       "\n",
       "FALSE  TRUE \n",
       "27520  5262 "
      ]
     },
     "metadata": {},
     "output_type": "display_data"
    },
    {
     "data": {
      "text/plain": [
       "\n",
       "FALSE  TRUE \n",
       "26812  5831 "
      ]
     },
     "metadata": {},
     "output_type": "display_data"
    }
   ],
   "source": [
    "kb = 250\n",
    "files = list.files(\"pipeline/17.eQTLFuncEnr/ld_all/topsnp/processed\", full.names = T)\n",
    "files = files[which(files %like% kb)]\n",
    "ldstats = as.data.frame(rbindlist(lapply(files, function(f)\n",
    "{\n",
    "    fread(f, data.table = F)\n",
    "}))) \n",
    "\n",
    "ldstats$chr = unlist(lapply(ldstats$topsnp, function(x) { unlist(strsplit(x, \"_\"))[1] }))\n",
    "ldstats = as.data.frame(rbindlist(lapply(unique(ldstats$chr), function(x) \n",
    "{\n",
    "    this = ldstats %>% filter(chr == x)\n",
    "    this$in_1kg = ifelse(this$topsnp %in% ld_list[[paste0(\"chr\", x)]]$Var1, T, F)\n",
    "    return(this)\n",
    "})))\n",
    "\n",
    "# ldstats$ld_f = ifelse( (ldstats$dist_f >= kb*1e3 & ldstats$r2_f <= 0.6) | \n",
    "#                       (ldstats$dist_f >= kb*1e3 & ldstats$in_1kg == T), F, ifelse(ldstats$in_1kg == F, \"not_in_1kg\", T))\n",
    "\n",
    "# ldstats$ld_i = ifelse( (ldstats$dist_i >= kb*1e3 & ldstats$r2_i <= 0.6) | \n",
    "#                       (ldstats$dist_i >= kb*1e3 & ldstats$in_1kg == T), F, ifelse(ldstats$in_1kg == F, \"not_in_1kg\", T))\n",
    "\n",
    "# ldstats$ld_p = ifelse( (ldstats$dist_p >= kb*1e3 & ldstats$r2_p <= 0.6) | \n",
    "#                       (ldstats$dist_p >= kb*1e3 & ldstats$in_1kg == T), F, ifelse(ldstats$in_1kg == F, \"not_in_1kg\", T))\n",
    "\n",
    "ldstats$ld_f = ifelse( ldstats$r2_f <= 0.6 | (ldstats$dist_f >= kb*1e3 & ldstats$in_1kg == T), F, ifelse(ldstats$in_1kg == F, \"not_in_1kg\", T))\n",
    "\n",
    "ldstats$ld_i = ifelse( ldstats$r2_i <= 0.6 | (ldstats$dist_i >= kb*1e3 & ldstats$in_1kg == T), F, ifelse(ldstats$in_1kg == F, \"not_in_1kg\", T))\n",
    "\n",
    "ldstats$ld_p = ifelse( ldstats$r2_p <= 0.6 | (ldstats$dist_p >= kb*1e3 & ldstats$in_1kg == T), F, ifelse(ldstats$in_1kg == F, \"not_in_1kg\", T))\n",
    "\n",
    "table(ldstats$ld_f)\n",
    "table(ldstats$ld_i)\n",
    "table(ldstats$ld_p)"
   ]
  },
  {
   "cell_type": "code",
   "execution_count": 249,
   "metadata": {},
   "outputs": [
    {
     "data": {
      "text/html": [
       "<table class=\"dataframe\">\n",
       "<caption>A data.frame: 20712 × 14</caption>\n",
       "<thead>\n",
       "\t<tr><th scope=col>eqtl_id</th><th scope=col>phenotype</th><th scope=col>topsnp</th><th scope=col>dist_f</th><th scope=col>dist_i</th><th scope=col>dist_p</th><th scope=col>r2_f</th><th scope=col>r2_i</th><th scope=col>r2_p</th><th scope=col>chr</th><th scope=col>in_1kg</th><th scope=col>ld_f</th><th scope=col>ld_i</th><th scope=col>ld_p</th></tr>\n",
       "\t<tr><th scope=col>&lt;chr&gt;</th><th scope=col>&lt;chr&gt;</th><th scope=col>&lt;chr&gt;</th><th scope=col>&lt;int&gt;</th><th scope=col>&lt;int&gt;</th><th scope=col>&lt;int&gt;</th><th scope=col>&lt;dbl&gt;</th><th scope=col>&lt;dbl&gt;</th><th scope=col>&lt;dbl&gt;</th><th scope=col>&lt;chr&gt;</th><th scope=col>&lt;lgl&gt;</th><th scope=col>&lt;chr&gt;</th><th scope=col>&lt;chr&gt;</th><th scope=col>&lt;chr&gt;</th></tr>\n",
       "</thead>\n",
       "<tbody>\n",
       "\t<tr><td>Pancreas ENSG00000173269                                      </td><td>gene_expression     </td><td>10_88718436_A_C  </td><td> 164351</td><td>  11876</td><td>   8021</td><td>0.14243500</td><td>0.279692000</td><td>3.86061e-01</td><td>10</td><td>TRUE</td><td>FALSE</td><td>FALSE</td><td>FALSE</td></tr>\n",
       "\t<tr><td>0 ENSG00000148702                                             </td><td>gene_expression     </td><td>10_115248677_G_T </td><td>1097551</td><td> 190717</td><td> 118706</td><td>        NA</td><td>0.080979600</td><td>8.09796e-02</td><td>10</td><td>TRUE</td><td>FALSE</td><td>FALSE</td><td>FALSE</td></tr>\n",
       "\t<tr><td>Islets ENSG00000174194                                        </td><td>gene_expression     </td><td>10_51585752_C_T  </td><td>  28831</td><td>  41277</td><td>  13924</td><td>0.00953055</td><td>0.017568000</td><td>1.51773e-03</td><td>10</td><td>TRUE</td><td>FALSE</td><td>FALSE</td><td>FALSE</td></tr>\n",
       "\t<tr><td>1 ENST00000374056                                             </td><td>alternative_splicing</td><td>10_52018090_T_C  </td><td>  92123</td><td>8406382</td><td> 155913</td><td>0.02732000</td><td>         NA</td><td>3.12876e-02</td><td>10</td><td>TRUE</td><td>FALSE</td><td>FALSE</td><td>FALSE</td></tr>\n",
       "\t<tr><td>Pancreas ENSG00000019995                                      </td><td>gene_expression     </td><td>10_125717416_A_G </td><td>  65516</td><td>  44558</td><td>  65515</td><td>0.00381160</td><td>0.090048100</td><td>4.64622e-04</td><td>10</td><td>TRUE</td><td>FALSE</td><td>FALSE</td><td>FALSE</td></tr>\n",
       "\t<tr><td>Pancreas chr10:80176155:80180941:clu_9023:ENSG00000122359.17  </td><td>alternative_splicing</td><td>10_81938096_T_C  </td><td>  52088</td><td>   3083</td><td> 124832</td><td>0.02175170</td><td>0.103982000</td><td>2.94096e-02</td><td>10</td><td>TRUE</td><td>FALSE</td><td>FALSE</td><td>FALSE</td></tr>\n",
       "\t<tr><td>0 ENST00000466484                                             </td><td>alternative_splicing</td><td>10_99056921_C_G  </td><td> 170038</td><td>  98640</td><td> 371545</td><td>0.05610890</td><td>0.072266300</td><td>         NA</td><td>10</td><td>TRUE</td><td>FALSE</td><td>FALSE</td><td>FALSE</td></tr>\n",
       "\t<tr><td>Pancreas chr10:102727157:102728431:clu_9520:ENSG00000156398.12</td><td>alternative_splicing</td><td>10_104487382_C_T </td><td>  31358</td><td>1733349</td><td>   7507</td><td>0.07365610</td><td>         NA</td><td>1.17010e-01</td><td>10</td><td>TRUE</td><td>FALSE</td><td>FALSE</td><td>FALSE</td></tr>\n",
       "\t<tr><td>Pancreas ENSG00000072422                                      </td><td>gene_expression     </td><td>10_62259224_G_A  </td><td> 395965</td><td>1172824</td><td> 196538</td><td>        NA</td><td>         NA</td><td>1.29568e-01</td><td>10</td><td>TRUE</td><td>FALSE</td><td>FALSE</td><td>FALSE</td></tr>\n",
       "\t<tr><td>0 ENST00000477221                                             </td><td>alternative_splicing</td><td>10_13747195_T_C  </td><td>  13780</td><td>  66922</td><td>  60553</td><td>0.42880700</td><td>0.038445200</td><td>7.23493e-04</td><td>10</td><td>TRUE</td><td>FALSE</td><td>FALSE</td><td>FALSE</td></tr>\n",
       "\t<tr><td>Pancreas chr10:103392466:103394199:clu_9548:ENSG00000173915.14</td><td>alternative_splicing</td><td>10_105125451_C_A </td><td> 117980</td><td>2371418</td><td> 183543</td><td>0.22282000</td><td>         NA</td><td>1.86983e-02</td><td>10</td><td>TRUE</td><td>FALSE</td><td>FALSE</td><td>FALSE</td></tr>\n",
       "\t<tr><td>Pancreas ENSG00000151224                                      </td><td>gene_expression     </td><td>10_82157446_T_C  </td><td> 272257</td><td>  14079</td><td> 137952</td><td>        NA</td><td>0.411800000</td><td>1.06501e-02</td><td>10</td><td>TRUE</td><td>FALSE</td><td>FALSE</td><td>FALSE</td></tr>\n",
       "\t<tr><td>0 ENSG00000241058                                             </td><td>gene_expression     </td><td>10_18849190_G_T  </td><td> 125161</td><td>  57437</td><td>  40123</td><td>0.34492400</td><td>0.146369000</td><td>3.65554e-01</td><td>10</td><td>TRUE</td><td>FALSE</td><td>FALSE</td><td>FALSE</td></tr>\n",
       "\t<tr><td>0 ENSG00000213341                                             </td><td>gene_expression     </td><td>10_101750367_TA_T</td><td>  75206</td><td> 276192</td><td> 228590</td><td>0.18286800</td><td>         NA</td><td>1.86213e-02</td><td>10</td><td>TRUE</td><td>FALSE</td><td>FALSE</td><td>FALSE</td></tr>\n",
       "\t<tr><td>Pancreas ENSG00000165678                                      </td><td>gene_expression     </td><td>10_85898172_C_G  </td><td>2984615</td><td>  43136</td><td>  33887</td><td>        NA</td><td>0.009227360</td><td>1.56890e-02</td><td>10</td><td>TRUE</td><td>FALSE</td><td>FALSE</td><td>FALSE</td></tr>\n",
       "\t<tr><td>Islets ENSG00000166033.7_124269612_124269669                  </td><td>alternative_splicing</td><td>10_124088367_G_A </td><td>2213611</td><td>  46436</td><td> 185234</td><td>        NA</td><td>0.030245400</td><td>1.23769e-02</td><td>10</td><td>TRUE</td><td>FALSE</td><td>FALSE</td><td>FALSE</td></tr>\n",
       "\t<tr><td>1 ENSG00000227121                                             </td><td>gene_expression     </td><td>10_54747194_T_C  </td><td> 605617</td><td>2104015</td><td>2101770</td><td>        NA</td><td>         NA</td><td>         NA</td><td>10</td><td>TRUE</td><td>FALSE</td><td>FALSE</td><td>FALSE</td></tr>\n",
       "\t<tr><td>Islets ENSG00000151208.12_79575791_79575933                   </td><td>alternative_splicing</td><td>10_79646904_A_G  </td><td> 997302</td><td>  67653</td><td>  67653</td><td>        NA</td><td>0.048096500</td><td>4.80965e-02</td><td>10</td><td>TRUE</td><td>FALSE</td><td>FALSE</td><td>FALSE</td></tr>\n",
       "\t<tr><td>Pancreas ENSG00000171862                                      </td><td>gene_expression     </td><td>10_90051035_G_T  </td><td> 308412</td><td> 699874</td><td>  34239</td><td>        NA</td><td>         NA</td><td>5.76626e-01</td><td>10</td><td>TRUE</td><td>FALSE</td><td>FALSE</td><td>FALSE</td></tr>\n",
       "\t<tr><td>2 ENST00000665716                                             </td><td>alternative_splicing</td><td>10_81990184_CA_C </td><td> 202529</td><td>  25541</td><td>  52088</td><td>0.01215480</td><td>0.042431000</td><td>2.37880e-02</td><td>10</td><td>TRUE</td><td>FALSE</td><td>FALSE</td><td>FALSE</td></tr>\n",
       "\t<tr><td>Pancreas ENSG00000183049                                      </td><td>gene_expression     </td><td>10_12396010_T_C  </td><td>  33137</td><td>  88116</td><td> 189817</td><td>0.02914990</td><td>0.002631100</td><td>8.97646e-05</td><td>10</td><td>TRUE</td><td>FALSE</td><td>FALSE</td><td>FALSE</td></tr>\n",
       "\t<tr><td>Pancreas ENSG00000279058                                      </td><td>gene_expression     </td><td>10_46327952_G_C  </td><td>  56659</td><td> 404424</td><td>  25008</td><td>0.01054020</td><td>         NA</td><td>1.49689e-02</td><td>10</td><td>TRUE</td><td>FALSE</td><td>FALSE</td><td>FALSE</td></tr>\n",
       "\t<tr><td>Pancreas ENSG00000075826                                      </td><td>gene_expression     </td><td>10_102259568_A_G </td><td> 172558</td><td> 213188</td><td> 243300</td><td>0.00555361</td><td>0.000921944</td><td>2.91367e-03</td><td>10</td><td>TRUE</td><td>FALSE</td><td>FALSE</td><td>FALSE</td></tr>\n",
       "\t<tr><td>1 ENST00000337910                                             </td><td>alternative_splicing</td><td>10_62195846_C_CA </td><td>1621468</td><td>7392588</td><td>9547819</td><td>        NA</td><td>         NA</td><td>         NA</td><td>10</td><td>TRUE</td><td>FALSE</td><td>FALSE</td><td>FALSE</td></tr>\n",
       "\t<tr><td>Pancreas ENSG00000122359                                      </td><td>gene_expression     </td><td>10_81990469_T_A  </td><td> 105280</td><td>  25256</td><td>  94630</td><td>0.00125672</td><td>0.031650000</td><td>1.58559e-03</td><td>10</td><td>TRUE</td><td>FALSE</td><td>FALSE</td><td>FALSE</td></tr>\n",
       "\t<tr><td>Pancreas ENSG00000155229                                      </td><td>gene_expression     </td><td>10_98382165_G_A  </td><td> 586341</td><td> 498309</td><td>  62662</td><td>        NA</td><td>         NA</td><td>4.61718e-02</td><td>10</td><td>TRUE</td><td>FALSE</td><td>FALSE</td><td>FALSE</td></tr>\n",
       "\t<tr><td>1 ENSG00000152465                                             </td><td>gene_expression     </td><td>10_15486828_T_G  </td><td> 263396</td><td> 279837</td><td> 151020</td><td>        NA</td><td>         NA</td><td>2.38384e-02</td><td>10</td><td>TRUE</td><td>FALSE</td><td>FALSE</td><td>FALSE</td></tr>\n",
       "\t<tr><td>Pancreas ENSG00000133661                                      </td><td>gene_expression     </td><td>10_81732040_G_T  </td><td>  35754</td><td>  43436</td><td>  26267</td><td>0.04294320</td><td>0.194263000</td><td>1.95942e-01</td><td>10</td><td>TRUE</td><td>FALSE</td><td>FALSE</td><td>FALSE</td></tr>\n",
       "\t<tr><td>Islets ENSG00000148671                                        </td><td>gene_expression     </td><td>10_88730312_T_C  </td><td> 152475</td><td> 246889</td><td>  11876</td><td>0.13314500</td><td>0.031983400</td><td>2.79692e-01</td><td>10</td><td>TRUE</td><td>FALSE</td><td>FALSE</td><td>FALSE</td></tr>\n",
       "\t<tr><td>Pancreas ENSG00000099251                                      </td><td>gene_expression     </td><td>10_38701840_A_AG </td><td>3409484</td><td>  47919</td><td>  37907</td><td>        NA</td><td>0.010335300</td><td>1.18791e-01</td><td>10</td><td>TRUE</td><td>FALSE</td><td>FALSE</td><td>FALSE</td></tr>\n",
       "\t<tr><td>⋮</td><td>⋮</td><td>⋮</td><td>⋮</td><td>⋮</td><td>⋮</td><td>⋮</td><td>⋮</td><td>⋮</td><td>⋮</td><td>⋮</td><td>⋮</td><td>⋮</td><td>⋮</td></tr>\n",
       "\t<tr><td>Islets ENSG00000172889.11_139565402_139565466                 </td><td>alternative_splicing</td><td>9_139570580_G_A </td><td>  45308</td><td> 115709</td><td>  53121</td><td>0.016716400</td><td>7.19550e-03</td><td>0.005358380</td><td>9</td><td>TRUE</td><td>FALSE</td><td>FALSE</td><td>FALSE</td></tr>\n",
       "\t<tr><td>1 ENST00000298585                                             </td><td>alternative_splicing</td><td>9_140271211_G_A </td><td>  31633</td><td>  94917</td><td>   9343</td><td>0.187824000</td><td>2.36766e-07</td><td>0.060458500</td><td>9</td><td>TRUE</td><td>FALSE</td><td>FALSE</td><td>FALSE</td></tr>\n",
       "\t<tr><td>1 ENST00000372447                                             </td><td>alternative_splicing</td><td>9_133070040_C_T </td><td> 157935</td><td>2375314</td><td> 481703</td><td>0.003802850</td><td>         NA</td><td>         NA</td><td>9</td><td>TRUE</td><td>FALSE</td><td>FALSE</td><td>FALSE</td></tr>\n",
       "\t<tr><td>Pancreas chr9:86997337:86998594:clu_47042:ENSG00000226237.1   </td><td>alternative_splicing</td><td>9_89612224_T_C  </td><td> 591746</td><td> 422505</td><td>3016493</td><td>         NA</td><td>         NA</td><td>         NA</td><td>9</td><td>TRUE</td><td>FALSE</td><td>FALSE</td><td>FALSE</td></tr>\n",
       "\t<tr><td>1 ENST00000637099                                             </td><td>alternative_splicing</td><td>9_100037094_A_C </td><td>1232820</td><td>  51306</td><td> 892640</td><td>         NA</td><td>1.44084e-01</td><td>         NA</td><td>9</td><td>TRUE</td><td>FALSE</td><td>FALSE</td><td>FALSE</td></tr>\n",
       "\t<tr><td>Pancreas chr9:2536015:2536359:clu_46308:ENSG00000236404.8     </td><td>alternative_splicing</td><td>9_2538620_C_T   </td><td>2199831</td><td>2057919</td><td> 346764</td><td>         NA</td><td>         NA</td><td>         NA</td><td>9</td><td>TRUE</td><td>FALSE</td><td>FALSE</td><td>FALSE</td></tr>\n",
       "\t<tr><td>Pancreas ENSG00000268364                                      </td><td>gene_expression     </td><td>9_71920096_T_C  </td><td>  47191</td><td> 518940</td><td>  65540</td><td>0.030705300</td><td>         NA</td><td>0.010971200</td><td>9</td><td>TRUE</td><td>FALSE</td><td>FALSE</td><td>FALSE</td></tr>\n",
       "\t<tr><td>0 ENSG00000070061                                             </td><td>gene_expression     </td><td>9_111831600_G_A </td><td>  50839</td><td>  78451</td><td>  55833</td><td>0.231965000</td><td>1.62486e-01</td><td>0.390070000</td><td>9</td><td>TRUE</td><td>FALSE</td><td>FALSE</td><td>FALSE</td></tr>\n",
       "\t<tr><td>4 ENSG00000177984                                             </td><td>gene_expression     </td><td>9_139932725_C_A </td><td>  35041</td><td>  25216</td><td>   7928</td><td>0.083094900</td><td>6.01815e-02</td><td>0.094782700</td><td>9</td><td>TRUE</td><td>FALSE</td><td>FALSE</td><td>FALSE</td></tr>\n",
       "\t<tr><td>Islets ENSG00000148120.10_97781173_97782515                   </td><td>alternative_splicing</td><td>9_97781919_T_C  </td><td> 432691</td><td> 378199</td><td>  45155</td><td>         NA</td><td>         NA</td><td>0.221126000</td><td>9</td><td>TRUE</td><td>FALSE</td><td>FALSE</td><td>FALSE</td></tr>\n",
       "\t<tr><td>Pancreas ENSG00000224992                                      </td><td>gene_expression     </td><td>9_134717091_A_G </td><td>  78107</td><td> 354918</td><td>  88717</td><td>0.030398100</td><td>         NA</td><td>0.012201800</td><td>9</td><td>TRUE</td><td>FALSE</td><td>FALSE</td><td>FALSE</td></tr>\n",
       "\t<tr><td>Islets ENSG00000165025                                        </td><td>gene_expression     </td><td>9_93597537_T_C  </td><td> 695057</td><td> 312052</td><td> 490736</td><td>         NA</td><td>         NA</td><td>         NA</td><td>9</td><td>TRUE</td><td>FALSE</td><td>FALSE</td><td>FALSE</td></tr>\n",
       "\t<tr><td>Islets ENSG00000135047.10_90343500_90343912                   </td><td>alternative_splicing</td><td>9_90294574_C_A  </td><td>  30248</td><td> 259845</td><td> 682350</td><td>0.014055200</td><td>         NA</td><td>         NA</td><td>9</td><td>TRUE</td><td>FALSE</td><td>FALSE</td><td>FALSE</td></tr>\n",
       "\t<tr><td>0 ENSG00000136867                                             </td><td>gene_expression     </td><td>9_115934852_C_A </td><td>  23809</td><td>  80777</td><td>  70607</td><td>0.025687600</td><td>1.05589e-01</td><td>0.131228000</td><td>9</td><td>TRUE</td><td>FALSE</td><td>FALSE</td><td>FALSE</td></tr>\n",
       "\t<tr><td>Islets ENSG00000232063                                        </td><td>gene_expression     </td><td>9_97177113_A_G  </td><td>  59330</td><td> 161231</td><td>  94875</td><td>0.072257500</td><td>2.83403e-02</td><td>0.365290000</td><td>9</td><td>TRUE</td><td>FALSE</td><td>FALSE</td><td>FALSE</td></tr>\n",
       "\t<tr><td>0 ENST00000388711                                             </td><td>alternative_splicing</td><td>9_88644548_CT_C </td><td>1228363</td><td>1390181</td><td> 967676</td><td>         NA</td><td>         NA</td><td>         NA</td><td>9</td><td>TRUE</td><td>FALSE</td><td>FALSE</td><td>FALSE</td></tr>\n",
       "\t<tr><td>Islets ENSG00000165092                                        </td><td>gene_expression     </td><td>9_75560874_C_T  </td><td>2136757</td><td>  46157</td><td>  36264</td><td>         NA</td><td>3.11037e-02</td><td>0.082967000</td><td>9</td><td>TRUE</td><td>FALSE</td><td>FALSE</td><td>FALSE</td></tr>\n",
       "\t<tr><td>Pancreas chr9:137484736:137488068:clu_48442:ENSG00000130653.15</td><td>alternative_splicing</td><td>9_140382862_A_G </td><td>  72445</td><td> 199860</td><td>  63264</td><td>0.023193300</td><td>2.31933e-02</td><td>0.025234300</td><td>9</td><td>TRUE</td><td>FALSE</td><td>FALSE</td><td>FALSE</td></tr>\n",
       "\t<tr><td>Islets ENSG00000164978                                        </td><td>gene_expression     </td><td>9_34360287_T_C  </td><td> 282697</td><td> 251781</td><td>  18286</td><td>         NA</td><td>         NA</td><td>0.174674000</td><td>9</td><td>TRUE</td><td>FALSE</td><td>FALSE</td><td>FALSE</td></tr>\n",
       "\t<tr><td>Pancreas ENSG00000096968                                      </td><td>gene_expression     </td><td>9_4832130_C_A   </td><td>  56455</td><td>  39693</td><td>  23159</td><td>0.066797500</td><td>4.34672e-01</td><td>0.253938000</td><td>9</td><td>TRUE</td><td>FALSE</td><td>FALSE</td><td>FALSE</td></tr>\n",
       "\t<tr><td>2 ENSG00000148175                                             </td><td>gene_expression     </td><td>9_124425705_C_G </td><td> 146920</td><td> 389751</td><td> 295797</td><td>0.000372362</td><td>         NA</td><td>         NA</td><td>9</td><td>TRUE</td><td>FALSE</td><td>FALSE</td><td>FALSE</td></tr>\n",
       "\t<tr><td>2 ENSG00000197958                                             </td><td>gene_expression     </td><td>9_130486184_C_CA</td><td>  28852</td><td>  96990</td><td>   9024</td><td>0.199341000</td><td>5.95435e-02</td><td>0.504908000</td><td>9</td><td>TRUE</td><td>FALSE</td><td>FALSE</td><td>FALSE</td></tr>\n",
       "\t<tr><td>Islets ENSG00000119522                                        </td><td>gene_expression     </td><td>9_126694094_T_A </td><td> 296124</td><td> 184495</td><td> 291764</td><td>         NA</td><td>4.79296e-01</td><td>         NA</td><td>9</td><td>TRUE</td><td>FALSE</td><td>FALSE</td><td>FALSE</td></tr>\n",
       "\t<tr><td>Islets ENSG00000165140.5_97367739_97367858                    </td><td>alternative_splicing</td><td>9_97355268_C_T  </td><td>  93696</td><td>  48452</td><td> 471806</td><td>0.002897500</td><td>6.78898e-02</td><td>         NA</td><td>9</td><td>TRUE</td><td>FALSE</td><td>FALSE</td><td>FALSE</td></tr>\n",
       "\t<tr><td>Islets ENSG00000159921.10_36276891_36277053                   </td><td>alternative_splicing</td><td>9_36262120_C_T  </td><td>  68806</td><td>  56725</td><td> 572169</td><td>0.032538600</td><td>6.71337e-02</td><td>         NA</td><td>9</td><td>TRUE</td><td>FALSE</td><td>FALSE</td><td>FALSE</td></tr>\n",
       "\t<tr><td>Pancreas ENSG00000148143                                      </td><td>gene_expression     </td><td>9_109772202_A_G </td><td>1315830</td><td>1315476</td><td>1315755</td><td>         NA</td><td>         NA</td><td>         NA</td><td>9</td><td>TRUE</td><td>FALSE</td><td>FALSE</td><td>FALSE</td></tr>\n",
       "\t<tr><td>Pancreas ENSG00000187764                                      </td><td>gene_expression     </td><td>9_91982278_T_G  </td><td>1568476</td><td>1199221</td><td>  18596</td><td>         NA</td><td>         NA</td><td>0.035504400</td><td>9</td><td>TRUE</td><td>FALSE</td><td>FALSE</td><td>FALSE</td></tr>\n",
       "\t<tr><td>Pancreas ENSG00000175764                                      </td><td>gene_expression     </td><td>9_124855211_C_T </td><td>  45063</td><td>  39755</td><td> 171908</td><td>0.000583983</td><td>4.81829e-01</td><td>0.000735258</td><td>9</td><td>TRUE</td><td>FALSE</td><td>FALSE</td><td>FALSE</td></tr>\n",
       "\t<tr><td>1 ENSG00000187764                                             </td><td>gene_expression     </td><td>9_92226389_AG_A </td><td>1324365</td><td> 955110</td><td> 244111</td><td>         NA</td><td>         NA</td><td>0.000138754</td><td>9</td><td>TRUE</td><td>FALSE</td><td>FALSE</td><td>FALSE</td></tr>\n",
       "\t<tr><td>2 ENSG00000230074                                             </td><td>gene_expression     </td><td>9_35084598_G_C  </td><td>   4625</td><td>  83678</td><td>  28929</td><td>0.275836000</td><td>2.60541e-01</td><td>0.392343000</td><td>9</td><td>TRUE</td><td>FALSE</td><td>FALSE</td><td>FALSE</td></tr>\n",
       "</tbody>\n",
       "</table>\n"
      ],
      "text/latex": [
       "A data.frame: 20712 × 14\n",
       "\\begin{tabular}{llllllllllllll}\n",
       " eqtl\\_id & phenotype & topsnp & dist\\_f & dist\\_i & dist\\_p & r2\\_f & r2\\_i & r2\\_p & chr & in\\_1kg & ld\\_f & ld\\_i & ld\\_p\\\\\n",
       " <chr> & <chr> & <chr> & <int> & <int> & <int> & <dbl> & <dbl> & <dbl> & <chr> & <lgl> & <chr> & <chr> & <chr>\\\\\n",
       "\\hline\n",
       "\t Pancreas ENSG00000173269                                       & gene\\_expression      & 10\\_88718436\\_A\\_C   &  164351 &   11876 &    8021 & 0.14243500 & 0.279692000 & 3.86061e-01 & 10 & TRUE & FALSE & FALSE & FALSE\\\\\n",
       "\t 0 ENSG00000148702                                              & gene\\_expression      & 10\\_115248677\\_G\\_T  & 1097551 &  190717 &  118706 &         NA & 0.080979600 & 8.09796e-02 & 10 & TRUE & FALSE & FALSE & FALSE\\\\\n",
       "\t Islets ENSG00000174194                                         & gene\\_expression      & 10\\_51585752\\_C\\_T   &   28831 &   41277 &   13924 & 0.00953055 & 0.017568000 & 1.51773e-03 & 10 & TRUE & FALSE & FALSE & FALSE\\\\\n",
       "\t 1 ENST00000374056                                              & alternative\\_splicing & 10\\_52018090\\_T\\_C   &   92123 & 8406382 &  155913 & 0.02732000 &          NA & 3.12876e-02 & 10 & TRUE & FALSE & FALSE & FALSE\\\\\n",
       "\t Pancreas ENSG00000019995                                       & gene\\_expression      & 10\\_125717416\\_A\\_G  &   65516 &   44558 &   65515 & 0.00381160 & 0.090048100 & 4.64622e-04 & 10 & TRUE & FALSE & FALSE & FALSE\\\\\n",
       "\t Pancreas chr10:80176155:80180941:clu\\_9023:ENSG00000122359.17   & alternative\\_splicing & 10\\_81938096\\_T\\_C   &   52088 &    3083 &  124832 & 0.02175170 & 0.103982000 & 2.94096e-02 & 10 & TRUE & FALSE & FALSE & FALSE\\\\\n",
       "\t 0 ENST00000466484                                              & alternative\\_splicing & 10\\_99056921\\_C\\_G   &  170038 &   98640 &  371545 & 0.05610890 & 0.072266300 &          NA & 10 & TRUE & FALSE & FALSE & FALSE\\\\\n",
       "\t Pancreas chr10:102727157:102728431:clu\\_9520:ENSG00000156398.12 & alternative\\_splicing & 10\\_104487382\\_C\\_T  &   31358 & 1733349 &    7507 & 0.07365610 &          NA & 1.17010e-01 & 10 & TRUE & FALSE & FALSE & FALSE\\\\\n",
       "\t Pancreas ENSG00000072422                                       & gene\\_expression      & 10\\_62259224\\_G\\_A   &  395965 & 1172824 &  196538 &         NA &          NA & 1.29568e-01 & 10 & TRUE & FALSE & FALSE & FALSE\\\\\n",
       "\t 0 ENST00000477221                                              & alternative\\_splicing & 10\\_13747195\\_T\\_C   &   13780 &   66922 &   60553 & 0.42880700 & 0.038445200 & 7.23493e-04 & 10 & TRUE & FALSE & FALSE & FALSE\\\\\n",
       "\t Pancreas chr10:103392466:103394199:clu\\_9548:ENSG00000173915.14 & alternative\\_splicing & 10\\_105125451\\_C\\_A  &  117980 & 2371418 &  183543 & 0.22282000 &          NA & 1.86983e-02 & 10 & TRUE & FALSE & FALSE & FALSE\\\\\n",
       "\t Pancreas ENSG00000151224                                       & gene\\_expression      & 10\\_82157446\\_T\\_C   &  272257 &   14079 &  137952 &         NA & 0.411800000 & 1.06501e-02 & 10 & TRUE & FALSE & FALSE & FALSE\\\\\n",
       "\t 0 ENSG00000241058                                              & gene\\_expression      & 10\\_18849190\\_G\\_T   &  125161 &   57437 &   40123 & 0.34492400 & 0.146369000 & 3.65554e-01 & 10 & TRUE & FALSE & FALSE & FALSE\\\\\n",
       "\t 0 ENSG00000213341                                              & gene\\_expression      & 10\\_101750367\\_TA\\_T &   75206 &  276192 &  228590 & 0.18286800 &          NA & 1.86213e-02 & 10 & TRUE & FALSE & FALSE & FALSE\\\\\n",
       "\t Pancreas ENSG00000165678                                       & gene\\_expression      & 10\\_85898172\\_C\\_G   & 2984615 &   43136 &   33887 &         NA & 0.009227360 & 1.56890e-02 & 10 & TRUE & FALSE & FALSE & FALSE\\\\\n",
       "\t Islets ENSG00000166033.7\\_124269612\\_124269669                   & alternative\\_splicing & 10\\_124088367\\_G\\_A  & 2213611 &   46436 &  185234 &         NA & 0.030245400 & 1.23769e-02 & 10 & TRUE & FALSE & FALSE & FALSE\\\\\n",
       "\t 1 ENSG00000227121                                              & gene\\_expression      & 10\\_54747194\\_T\\_C   &  605617 & 2104015 & 2101770 &         NA &          NA &          NA & 10 & TRUE & FALSE & FALSE & FALSE\\\\\n",
       "\t Islets ENSG00000151208.12\\_79575791\\_79575933                    & alternative\\_splicing & 10\\_79646904\\_A\\_G   &  997302 &   67653 &   67653 &         NA & 0.048096500 & 4.80965e-02 & 10 & TRUE & FALSE & FALSE & FALSE\\\\\n",
       "\t Pancreas ENSG00000171862                                       & gene\\_expression      & 10\\_90051035\\_G\\_T   &  308412 &  699874 &   34239 &         NA &          NA & 5.76626e-01 & 10 & TRUE & FALSE & FALSE & FALSE\\\\\n",
       "\t 2 ENST00000665716                                              & alternative\\_splicing & 10\\_81990184\\_CA\\_C  &  202529 &   25541 &   52088 & 0.01215480 & 0.042431000 & 2.37880e-02 & 10 & TRUE & FALSE & FALSE & FALSE\\\\\n",
       "\t Pancreas ENSG00000183049                                       & gene\\_expression      & 10\\_12396010\\_T\\_C   &   33137 &   88116 &  189817 & 0.02914990 & 0.002631100 & 8.97646e-05 & 10 & TRUE & FALSE & FALSE & FALSE\\\\\n",
       "\t Pancreas ENSG00000279058                                       & gene\\_expression      & 10\\_46327952\\_G\\_C   &   56659 &  404424 &   25008 & 0.01054020 &          NA & 1.49689e-02 & 10 & TRUE & FALSE & FALSE & FALSE\\\\\n",
       "\t Pancreas ENSG00000075826                                       & gene\\_expression      & 10\\_102259568\\_A\\_G  &  172558 &  213188 &  243300 & 0.00555361 & 0.000921944 & 2.91367e-03 & 10 & TRUE & FALSE & FALSE & FALSE\\\\\n",
       "\t 1 ENST00000337910                                              & alternative\\_splicing & 10\\_62195846\\_C\\_CA  & 1621468 & 7392588 & 9547819 &         NA &          NA &          NA & 10 & TRUE & FALSE & FALSE & FALSE\\\\\n",
       "\t Pancreas ENSG00000122359                                       & gene\\_expression      & 10\\_81990469\\_T\\_A   &  105280 &   25256 &   94630 & 0.00125672 & 0.031650000 & 1.58559e-03 & 10 & TRUE & FALSE & FALSE & FALSE\\\\\n",
       "\t Pancreas ENSG00000155229                                       & gene\\_expression      & 10\\_98382165\\_G\\_A   &  586341 &  498309 &   62662 &         NA &          NA & 4.61718e-02 & 10 & TRUE & FALSE & FALSE & FALSE\\\\\n",
       "\t 1 ENSG00000152465                                              & gene\\_expression      & 10\\_15486828\\_T\\_G   &  263396 &  279837 &  151020 &         NA &          NA & 2.38384e-02 & 10 & TRUE & FALSE & FALSE & FALSE\\\\\n",
       "\t Pancreas ENSG00000133661                                       & gene\\_expression      & 10\\_81732040\\_G\\_T   &   35754 &   43436 &   26267 & 0.04294320 & 0.194263000 & 1.95942e-01 & 10 & TRUE & FALSE & FALSE & FALSE\\\\\n",
       "\t Islets ENSG00000148671                                         & gene\\_expression      & 10\\_88730312\\_T\\_C   &  152475 &  246889 &   11876 & 0.13314500 & 0.031983400 & 2.79692e-01 & 10 & TRUE & FALSE & FALSE & FALSE\\\\\n",
       "\t Pancreas ENSG00000099251                                       & gene\\_expression      & 10\\_38701840\\_A\\_AG  & 3409484 &   47919 &   37907 &         NA & 0.010335300 & 1.18791e-01 & 10 & TRUE & FALSE & FALSE & FALSE\\\\\n",
       "\t ⋮ & ⋮ & ⋮ & ⋮ & ⋮ & ⋮ & ⋮ & ⋮ & ⋮ & ⋮ & ⋮ & ⋮ & ⋮ & ⋮\\\\\n",
       "\t Islets ENSG00000172889.11\\_139565402\\_139565466                  & alternative\\_splicing & 9\\_139570580\\_G\\_A  &   45308 &  115709 &   53121 & 0.016716400 & 7.19550e-03 & 0.005358380 & 9 & TRUE & FALSE & FALSE & FALSE\\\\\n",
       "\t 1 ENST00000298585                                              & alternative\\_splicing & 9\\_140271211\\_G\\_A  &   31633 &   94917 &    9343 & 0.187824000 & 2.36766e-07 & 0.060458500 & 9 & TRUE & FALSE & FALSE & FALSE\\\\\n",
       "\t 1 ENST00000372447                                              & alternative\\_splicing & 9\\_133070040\\_C\\_T  &  157935 & 2375314 &  481703 & 0.003802850 &          NA &          NA & 9 & TRUE & FALSE & FALSE & FALSE\\\\\n",
       "\t Pancreas chr9:86997337:86998594:clu\\_47042:ENSG00000226237.1    & alternative\\_splicing & 9\\_89612224\\_T\\_C   &  591746 &  422505 & 3016493 &          NA &          NA &          NA & 9 & TRUE & FALSE & FALSE & FALSE\\\\\n",
       "\t 1 ENST00000637099                                              & alternative\\_splicing & 9\\_100037094\\_A\\_C  & 1232820 &   51306 &  892640 &          NA & 1.44084e-01 &          NA & 9 & TRUE & FALSE & FALSE & FALSE\\\\\n",
       "\t Pancreas chr9:2536015:2536359:clu\\_46308:ENSG00000236404.8      & alternative\\_splicing & 9\\_2538620\\_C\\_T    & 2199831 & 2057919 &  346764 &          NA &          NA &          NA & 9 & TRUE & FALSE & FALSE & FALSE\\\\\n",
       "\t Pancreas ENSG00000268364                                       & gene\\_expression      & 9\\_71920096\\_T\\_C   &   47191 &  518940 &   65540 & 0.030705300 &          NA & 0.010971200 & 9 & TRUE & FALSE & FALSE & FALSE\\\\\n",
       "\t 0 ENSG00000070061                                              & gene\\_expression      & 9\\_111831600\\_G\\_A  &   50839 &   78451 &   55833 & 0.231965000 & 1.62486e-01 & 0.390070000 & 9 & TRUE & FALSE & FALSE & FALSE\\\\\n",
       "\t 4 ENSG00000177984                                              & gene\\_expression      & 9\\_139932725\\_C\\_A  &   35041 &   25216 &    7928 & 0.083094900 & 6.01815e-02 & 0.094782700 & 9 & TRUE & FALSE & FALSE & FALSE\\\\\n",
       "\t Islets ENSG00000148120.10\\_97781173\\_97782515                    & alternative\\_splicing & 9\\_97781919\\_T\\_C   &  432691 &  378199 &   45155 &          NA &          NA & 0.221126000 & 9 & TRUE & FALSE & FALSE & FALSE\\\\\n",
       "\t Pancreas ENSG00000224992                                       & gene\\_expression      & 9\\_134717091\\_A\\_G  &   78107 &  354918 &   88717 & 0.030398100 &          NA & 0.012201800 & 9 & TRUE & FALSE & FALSE & FALSE\\\\\n",
       "\t Islets ENSG00000165025                                         & gene\\_expression      & 9\\_93597537\\_T\\_C   &  695057 &  312052 &  490736 &          NA &          NA &          NA & 9 & TRUE & FALSE & FALSE & FALSE\\\\\n",
       "\t Islets ENSG00000135047.10\\_90343500\\_90343912                    & alternative\\_splicing & 9\\_90294574\\_C\\_A   &   30248 &  259845 &  682350 & 0.014055200 &          NA &          NA & 9 & TRUE & FALSE & FALSE & FALSE\\\\\n",
       "\t 0 ENSG00000136867                                              & gene\\_expression      & 9\\_115934852\\_C\\_A  &   23809 &   80777 &   70607 & 0.025687600 & 1.05589e-01 & 0.131228000 & 9 & TRUE & FALSE & FALSE & FALSE\\\\\n",
       "\t Islets ENSG00000232063                                         & gene\\_expression      & 9\\_97177113\\_A\\_G   &   59330 &  161231 &   94875 & 0.072257500 & 2.83403e-02 & 0.365290000 & 9 & TRUE & FALSE & FALSE & FALSE\\\\\n",
       "\t 0 ENST00000388711                                              & alternative\\_splicing & 9\\_88644548\\_CT\\_C  & 1228363 & 1390181 &  967676 &          NA &          NA &          NA & 9 & TRUE & FALSE & FALSE & FALSE\\\\\n",
       "\t Islets ENSG00000165092                                         & gene\\_expression      & 9\\_75560874\\_C\\_T   & 2136757 &   46157 &   36264 &          NA & 3.11037e-02 & 0.082967000 & 9 & TRUE & FALSE & FALSE & FALSE\\\\\n",
       "\t Pancreas chr9:137484736:137488068:clu\\_48442:ENSG00000130653.15 & alternative\\_splicing & 9\\_140382862\\_A\\_G  &   72445 &  199860 &   63264 & 0.023193300 & 2.31933e-02 & 0.025234300 & 9 & TRUE & FALSE & FALSE & FALSE\\\\\n",
       "\t Islets ENSG00000164978                                         & gene\\_expression      & 9\\_34360287\\_T\\_C   &  282697 &  251781 &   18286 &          NA &          NA & 0.174674000 & 9 & TRUE & FALSE & FALSE & FALSE\\\\\n",
       "\t Pancreas ENSG00000096968                                       & gene\\_expression      & 9\\_4832130\\_C\\_A    &   56455 &   39693 &   23159 & 0.066797500 & 4.34672e-01 & 0.253938000 & 9 & TRUE & FALSE & FALSE & FALSE\\\\\n",
       "\t 2 ENSG00000148175                                              & gene\\_expression      & 9\\_124425705\\_C\\_G  &  146920 &  389751 &  295797 & 0.000372362 &          NA &          NA & 9 & TRUE & FALSE & FALSE & FALSE\\\\\n",
       "\t 2 ENSG00000197958                                              & gene\\_expression      & 9\\_130486184\\_C\\_CA &   28852 &   96990 &    9024 & 0.199341000 & 5.95435e-02 & 0.504908000 & 9 & TRUE & FALSE & FALSE & FALSE\\\\\n",
       "\t Islets ENSG00000119522                                         & gene\\_expression      & 9\\_126694094\\_T\\_A  &  296124 &  184495 &  291764 &          NA & 4.79296e-01 &          NA & 9 & TRUE & FALSE & FALSE & FALSE\\\\\n",
       "\t Islets ENSG00000165140.5\\_97367739\\_97367858                     & alternative\\_splicing & 9\\_97355268\\_C\\_T   &   93696 &   48452 &  471806 & 0.002897500 & 6.78898e-02 &          NA & 9 & TRUE & FALSE & FALSE & FALSE\\\\\n",
       "\t Islets ENSG00000159921.10\\_36276891\\_36277053                    & alternative\\_splicing & 9\\_36262120\\_C\\_T   &   68806 &   56725 &  572169 & 0.032538600 & 6.71337e-02 &          NA & 9 & TRUE & FALSE & FALSE & FALSE\\\\\n",
       "\t Pancreas ENSG00000148143                                       & gene\\_expression      & 9\\_109772202\\_A\\_G  & 1315830 & 1315476 & 1315755 &          NA &          NA &          NA & 9 & TRUE & FALSE & FALSE & FALSE\\\\\n",
       "\t Pancreas ENSG00000187764                                       & gene\\_expression      & 9\\_91982278\\_T\\_G   & 1568476 & 1199221 &   18596 &          NA &          NA & 0.035504400 & 9 & TRUE & FALSE & FALSE & FALSE\\\\\n",
       "\t Pancreas ENSG00000175764                                       & gene\\_expression      & 9\\_124855211\\_C\\_T  &   45063 &   39755 &  171908 & 0.000583983 & 4.81829e-01 & 0.000735258 & 9 & TRUE & FALSE & FALSE & FALSE\\\\\n",
       "\t 1 ENSG00000187764                                              & gene\\_expression      & 9\\_92226389\\_AG\\_A  & 1324365 &  955110 &  244111 &          NA &          NA & 0.000138754 & 9 & TRUE & FALSE & FALSE & FALSE\\\\\n",
       "\t 2 ENSG00000230074                                              & gene\\_expression      & 9\\_35084598\\_G\\_C   &    4625 &   83678 &   28929 & 0.275836000 & 2.60541e-01 & 0.392343000 & 9 & TRUE & FALSE & FALSE & FALSE\\\\\n",
       "\\end{tabular}\n"
      ],
      "text/markdown": [
       "\n",
       "A data.frame: 20712 × 14\n",
       "\n",
       "| eqtl_id &lt;chr&gt; | phenotype &lt;chr&gt; | topsnp &lt;chr&gt; | dist_f &lt;int&gt; | dist_i &lt;int&gt; | dist_p &lt;int&gt; | r2_f &lt;dbl&gt; | r2_i &lt;dbl&gt; | r2_p &lt;dbl&gt; | chr &lt;chr&gt; | in_1kg &lt;lgl&gt; | ld_f &lt;chr&gt; | ld_i &lt;chr&gt; | ld_p &lt;chr&gt; |\n",
       "|---|---|---|---|---|---|---|---|---|---|---|---|---|---|\n",
       "| Pancreas ENSG00000173269                                       | gene_expression      | 10_88718436_A_C   |  164351 |   11876 |    8021 | 0.14243500 | 0.279692000 | 3.86061e-01 | 10 | TRUE | FALSE | FALSE | FALSE |\n",
       "| 0 ENSG00000148702                                              | gene_expression      | 10_115248677_G_T  | 1097551 |  190717 |  118706 |         NA | 0.080979600 | 8.09796e-02 | 10 | TRUE | FALSE | FALSE | FALSE |\n",
       "| Islets ENSG00000174194                                         | gene_expression      | 10_51585752_C_T   |   28831 |   41277 |   13924 | 0.00953055 | 0.017568000 | 1.51773e-03 | 10 | TRUE | FALSE | FALSE | FALSE |\n",
       "| 1 ENST00000374056                                              | alternative_splicing | 10_52018090_T_C   |   92123 | 8406382 |  155913 | 0.02732000 |          NA | 3.12876e-02 | 10 | TRUE | FALSE | FALSE | FALSE |\n",
       "| Pancreas ENSG00000019995                                       | gene_expression      | 10_125717416_A_G  |   65516 |   44558 |   65515 | 0.00381160 | 0.090048100 | 4.64622e-04 | 10 | TRUE | FALSE | FALSE | FALSE |\n",
       "| Pancreas chr10:80176155:80180941:clu_9023:ENSG00000122359.17   | alternative_splicing | 10_81938096_T_C   |   52088 |    3083 |  124832 | 0.02175170 | 0.103982000 | 2.94096e-02 | 10 | TRUE | FALSE | FALSE | FALSE |\n",
       "| 0 ENST00000466484                                              | alternative_splicing | 10_99056921_C_G   |  170038 |   98640 |  371545 | 0.05610890 | 0.072266300 |          NA | 10 | TRUE | FALSE | FALSE | FALSE |\n",
       "| Pancreas chr10:102727157:102728431:clu_9520:ENSG00000156398.12 | alternative_splicing | 10_104487382_C_T  |   31358 | 1733349 |    7507 | 0.07365610 |          NA | 1.17010e-01 | 10 | TRUE | FALSE | FALSE | FALSE |\n",
       "| Pancreas ENSG00000072422                                       | gene_expression      | 10_62259224_G_A   |  395965 | 1172824 |  196538 |         NA |          NA | 1.29568e-01 | 10 | TRUE | FALSE | FALSE | FALSE |\n",
       "| 0 ENST00000477221                                              | alternative_splicing | 10_13747195_T_C   |   13780 |   66922 |   60553 | 0.42880700 | 0.038445200 | 7.23493e-04 | 10 | TRUE | FALSE | FALSE | FALSE |\n",
       "| Pancreas chr10:103392466:103394199:clu_9548:ENSG00000173915.14 | alternative_splicing | 10_105125451_C_A  |  117980 | 2371418 |  183543 | 0.22282000 |          NA | 1.86983e-02 | 10 | TRUE | FALSE | FALSE | FALSE |\n",
       "| Pancreas ENSG00000151224                                       | gene_expression      | 10_82157446_T_C   |  272257 |   14079 |  137952 |         NA | 0.411800000 | 1.06501e-02 | 10 | TRUE | FALSE | FALSE | FALSE |\n",
       "| 0 ENSG00000241058                                              | gene_expression      | 10_18849190_G_T   |  125161 |   57437 |   40123 | 0.34492400 | 0.146369000 | 3.65554e-01 | 10 | TRUE | FALSE | FALSE | FALSE |\n",
       "| 0 ENSG00000213341                                              | gene_expression      | 10_101750367_TA_T |   75206 |  276192 |  228590 | 0.18286800 |          NA | 1.86213e-02 | 10 | TRUE | FALSE | FALSE | FALSE |\n",
       "| Pancreas ENSG00000165678                                       | gene_expression      | 10_85898172_C_G   | 2984615 |   43136 |   33887 |         NA | 0.009227360 | 1.56890e-02 | 10 | TRUE | FALSE | FALSE | FALSE |\n",
       "| Islets ENSG00000166033.7_124269612_124269669                   | alternative_splicing | 10_124088367_G_A  | 2213611 |   46436 |  185234 |         NA | 0.030245400 | 1.23769e-02 | 10 | TRUE | FALSE | FALSE | FALSE |\n",
       "| 1 ENSG00000227121                                              | gene_expression      | 10_54747194_T_C   |  605617 | 2104015 | 2101770 |         NA |          NA |          NA | 10 | TRUE | FALSE | FALSE | FALSE |\n",
       "| Islets ENSG00000151208.12_79575791_79575933                    | alternative_splicing | 10_79646904_A_G   |  997302 |   67653 |   67653 |         NA | 0.048096500 | 4.80965e-02 | 10 | TRUE | FALSE | FALSE | FALSE |\n",
       "| Pancreas ENSG00000171862                                       | gene_expression      | 10_90051035_G_T   |  308412 |  699874 |   34239 |         NA |          NA | 5.76626e-01 | 10 | TRUE | FALSE | FALSE | FALSE |\n",
       "| 2 ENST00000665716                                              | alternative_splicing | 10_81990184_CA_C  |  202529 |   25541 |   52088 | 0.01215480 | 0.042431000 | 2.37880e-02 | 10 | TRUE | FALSE | FALSE | FALSE |\n",
       "| Pancreas ENSG00000183049                                       | gene_expression      | 10_12396010_T_C   |   33137 |   88116 |  189817 | 0.02914990 | 0.002631100 | 8.97646e-05 | 10 | TRUE | FALSE | FALSE | FALSE |\n",
       "| Pancreas ENSG00000279058                                       | gene_expression      | 10_46327952_G_C   |   56659 |  404424 |   25008 | 0.01054020 |          NA | 1.49689e-02 | 10 | TRUE | FALSE | FALSE | FALSE |\n",
       "| Pancreas ENSG00000075826                                       | gene_expression      | 10_102259568_A_G  |  172558 |  213188 |  243300 | 0.00555361 | 0.000921944 | 2.91367e-03 | 10 | TRUE | FALSE | FALSE | FALSE |\n",
       "| 1 ENST00000337910                                              | alternative_splicing | 10_62195846_C_CA  | 1621468 | 7392588 | 9547819 |         NA |          NA |          NA | 10 | TRUE | FALSE | FALSE | FALSE |\n",
       "| Pancreas ENSG00000122359                                       | gene_expression      | 10_81990469_T_A   |  105280 |   25256 |   94630 | 0.00125672 | 0.031650000 | 1.58559e-03 | 10 | TRUE | FALSE | FALSE | FALSE |\n",
       "| Pancreas ENSG00000155229                                       | gene_expression      | 10_98382165_G_A   |  586341 |  498309 |   62662 |         NA |          NA | 4.61718e-02 | 10 | TRUE | FALSE | FALSE | FALSE |\n",
       "| 1 ENSG00000152465                                              | gene_expression      | 10_15486828_T_G   |  263396 |  279837 |  151020 |         NA |          NA | 2.38384e-02 | 10 | TRUE | FALSE | FALSE | FALSE |\n",
       "| Pancreas ENSG00000133661                                       | gene_expression      | 10_81732040_G_T   |   35754 |   43436 |   26267 | 0.04294320 | 0.194263000 | 1.95942e-01 | 10 | TRUE | FALSE | FALSE | FALSE |\n",
       "| Islets ENSG00000148671                                         | gene_expression      | 10_88730312_T_C   |  152475 |  246889 |   11876 | 0.13314500 | 0.031983400 | 2.79692e-01 | 10 | TRUE | FALSE | FALSE | FALSE |\n",
       "| Pancreas ENSG00000099251                                       | gene_expression      | 10_38701840_A_AG  | 3409484 |   47919 |   37907 |         NA | 0.010335300 | 1.18791e-01 | 10 | TRUE | FALSE | FALSE | FALSE |\n",
       "| ⋮ | ⋮ | ⋮ | ⋮ | ⋮ | ⋮ | ⋮ | ⋮ | ⋮ | ⋮ | ⋮ | ⋮ | ⋮ | ⋮ |\n",
       "| Islets ENSG00000172889.11_139565402_139565466                  | alternative_splicing | 9_139570580_G_A  |   45308 |  115709 |   53121 | 0.016716400 | 7.19550e-03 | 0.005358380 | 9 | TRUE | FALSE | FALSE | FALSE |\n",
       "| 1 ENST00000298585                                              | alternative_splicing | 9_140271211_G_A  |   31633 |   94917 |    9343 | 0.187824000 | 2.36766e-07 | 0.060458500 | 9 | TRUE | FALSE | FALSE | FALSE |\n",
       "| 1 ENST00000372447                                              | alternative_splicing | 9_133070040_C_T  |  157935 | 2375314 |  481703 | 0.003802850 |          NA |          NA | 9 | TRUE | FALSE | FALSE | FALSE |\n",
       "| Pancreas chr9:86997337:86998594:clu_47042:ENSG00000226237.1    | alternative_splicing | 9_89612224_T_C   |  591746 |  422505 | 3016493 |          NA |          NA |          NA | 9 | TRUE | FALSE | FALSE | FALSE |\n",
       "| 1 ENST00000637099                                              | alternative_splicing | 9_100037094_A_C  | 1232820 |   51306 |  892640 |          NA | 1.44084e-01 |          NA | 9 | TRUE | FALSE | FALSE | FALSE |\n",
       "| Pancreas chr9:2536015:2536359:clu_46308:ENSG00000236404.8      | alternative_splicing | 9_2538620_C_T    | 2199831 | 2057919 |  346764 |          NA |          NA |          NA | 9 | TRUE | FALSE | FALSE | FALSE |\n",
       "| Pancreas ENSG00000268364                                       | gene_expression      | 9_71920096_T_C   |   47191 |  518940 |   65540 | 0.030705300 |          NA | 0.010971200 | 9 | TRUE | FALSE | FALSE | FALSE |\n",
       "| 0 ENSG00000070061                                              | gene_expression      | 9_111831600_G_A  |   50839 |   78451 |   55833 | 0.231965000 | 1.62486e-01 | 0.390070000 | 9 | TRUE | FALSE | FALSE | FALSE |\n",
       "| 4 ENSG00000177984                                              | gene_expression      | 9_139932725_C_A  |   35041 |   25216 |    7928 | 0.083094900 | 6.01815e-02 | 0.094782700 | 9 | TRUE | FALSE | FALSE | FALSE |\n",
       "| Islets ENSG00000148120.10_97781173_97782515                    | alternative_splicing | 9_97781919_T_C   |  432691 |  378199 |   45155 |          NA |          NA | 0.221126000 | 9 | TRUE | FALSE | FALSE | FALSE |\n",
       "| Pancreas ENSG00000224992                                       | gene_expression      | 9_134717091_A_G  |   78107 |  354918 |   88717 | 0.030398100 |          NA | 0.012201800 | 9 | TRUE | FALSE | FALSE | FALSE |\n",
       "| Islets ENSG00000165025                                         | gene_expression      | 9_93597537_T_C   |  695057 |  312052 |  490736 |          NA |          NA |          NA | 9 | TRUE | FALSE | FALSE | FALSE |\n",
       "| Islets ENSG00000135047.10_90343500_90343912                    | alternative_splicing | 9_90294574_C_A   |   30248 |  259845 |  682350 | 0.014055200 |          NA |          NA | 9 | TRUE | FALSE | FALSE | FALSE |\n",
       "| 0 ENSG00000136867                                              | gene_expression      | 9_115934852_C_A  |   23809 |   80777 |   70607 | 0.025687600 | 1.05589e-01 | 0.131228000 | 9 | TRUE | FALSE | FALSE | FALSE |\n",
       "| Islets ENSG00000232063                                         | gene_expression      | 9_97177113_A_G   |   59330 |  161231 |   94875 | 0.072257500 | 2.83403e-02 | 0.365290000 | 9 | TRUE | FALSE | FALSE | FALSE |\n",
       "| 0 ENST00000388711                                              | alternative_splicing | 9_88644548_CT_C  | 1228363 | 1390181 |  967676 |          NA |          NA |          NA | 9 | TRUE | FALSE | FALSE | FALSE |\n",
       "| Islets ENSG00000165092                                         | gene_expression      | 9_75560874_C_T   | 2136757 |   46157 |   36264 |          NA | 3.11037e-02 | 0.082967000 | 9 | TRUE | FALSE | FALSE | FALSE |\n",
       "| Pancreas chr9:137484736:137488068:clu_48442:ENSG00000130653.15 | alternative_splicing | 9_140382862_A_G  |   72445 |  199860 |   63264 | 0.023193300 | 2.31933e-02 | 0.025234300 | 9 | TRUE | FALSE | FALSE | FALSE |\n",
       "| Islets ENSG00000164978                                         | gene_expression      | 9_34360287_T_C   |  282697 |  251781 |   18286 |          NA |          NA | 0.174674000 | 9 | TRUE | FALSE | FALSE | FALSE |\n",
       "| Pancreas ENSG00000096968                                       | gene_expression      | 9_4832130_C_A    |   56455 |   39693 |   23159 | 0.066797500 | 4.34672e-01 | 0.253938000 | 9 | TRUE | FALSE | FALSE | FALSE |\n",
       "| 2 ENSG00000148175                                              | gene_expression      | 9_124425705_C_G  |  146920 |  389751 |  295797 | 0.000372362 |          NA |          NA | 9 | TRUE | FALSE | FALSE | FALSE |\n",
       "| 2 ENSG00000197958                                              | gene_expression      | 9_130486184_C_CA |   28852 |   96990 |    9024 | 0.199341000 | 5.95435e-02 | 0.504908000 | 9 | TRUE | FALSE | FALSE | FALSE |\n",
       "| Islets ENSG00000119522                                         | gene_expression      | 9_126694094_T_A  |  296124 |  184495 |  291764 |          NA | 4.79296e-01 |          NA | 9 | TRUE | FALSE | FALSE | FALSE |\n",
       "| Islets ENSG00000165140.5_97367739_97367858                     | alternative_splicing | 9_97355268_C_T   |   93696 |   48452 |  471806 | 0.002897500 | 6.78898e-02 |          NA | 9 | TRUE | FALSE | FALSE | FALSE |\n",
       "| Islets ENSG00000159921.10_36276891_36277053                    | alternative_splicing | 9_36262120_C_T   |   68806 |   56725 |  572169 | 0.032538600 | 6.71337e-02 |          NA | 9 | TRUE | FALSE | FALSE | FALSE |\n",
       "| Pancreas ENSG00000148143                                       | gene_expression      | 9_109772202_A_G  | 1315830 | 1315476 | 1315755 |          NA |          NA |          NA | 9 | TRUE | FALSE | FALSE | FALSE |\n",
       "| Pancreas ENSG00000187764                                       | gene_expression      | 9_91982278_T_G   | 1568476 | 1199221 |   18596 |          NA |          NA | 0.035504400 | 9 | TRUE | FALSE | FALSE | FALSE |\n",
       "| Pancreas ENSG00000175764                                       | gene_expression      | 9_124855211_C_T  |   45063 |   39755 |  171908 | 0.000583983 | 4.81829e-01 | 0.000735258 | 9 | TRUE | FALSE | FALSE | FALSE |\n",
       "| 1 ENSG00000187764                                              | gene_expression      | 9_92226389_AG_A  | 1324365 |  955110 |  244111 |          NA |          NA | 0.000138754 | 9 | TRUE | FALSE | FALSE | FALSE |\n",
       "| 2 ENSG00000230074                                              | gene_expression      | 9_35084598_G_C   |    4625 |   83678 |   28929 | 0.275836000 | 2.60541e-01 | 0.392343000 | 9 | TRUE | FALSE | FALSE | FALSE |\n",
       "\n"
      ],
      "text/plain": [
       "      eqtl_id                                                       \n",
       "1     Pancreas ENSG00000173269                                      \n",
       "2     0 ENSG00000148702                                             \n",
       "3     Islets ENSG00000174194                                        \n",
       "4     1 ENST00000374056                                             \n",
       "5     Pancreas ENSG00000019995                                      \n",
       "6     Pancreas chr10:80176155:80180941:clu_9023:ENSG00000122359.17  \n",
       "7     0 ENST00000466484                                             \n",
       "8     Pancreas chr10:102727157:102728431:clu_9520:ENSG00000156398.12\n",
       "9     Pancreas ENSG00000072422                                      \n",
       "10    0 ENST00000477221                                             \n",
       "11    Pancreas chr10:103392466:103394199:clu_9548:ENSG00000173915.14\n",
       "12    Pancreas ENSG00000151224                                      \n",
       "13    0 ENSG00000241058                                             \n",
       "14    0 ENSG00000213341                                             \n",
       "15    Pancreas ENSG00000165678                                      \n",
       "16    Islets ENSG00000166033.7_124269612_124269669                  \n",
       "17    1 ENSG00000227121                                             \n",
       "18    Islets ENSG00000151208.12_79575791_79575933                   \n",
       "19    Pancreas ENSG00000171862                                      \n",
       "20    2 ENST00000665716                                             \n",
       "21    Pancreas ENSG00000183049                                      \n",
       "22    Pancreas ENSG00000279058                                      \n",
       "23    Pancreas ENSG00000075826                                      \n",
       "24    1 ENST00000337910                                             \n",
       "25    Pancreas ENSG00000122359                                      \n",
       "26    Pancreas ENSG00000155229                                      \n",
       "27    1 ENSG00000152465                                             \n",
       "28    Pancreas ENSG00000133661                                      \n",
       "29    Islets ENSG00000148671                                        \n",
       "30    Pancreas ENSG00000099251                                      \n",
       "⋮     ⋮                                                             \n",
       "20683 Islets ENSG00000172889.11_139565402_139565466                 \n",
       "20684 1 ENST00000298585                                             \n",
       "20685 1 ENST00000372447                                             \n",
       "20686 Pancreas chr9:86997337:86998594:clu_47042:ENSG00000226237.1   \n",
       "20687 1 ENST00000637099                                             \n",
       "20688 Pancreas chr9:2536015:2536359:clu_46308:ENSG00000236404.8     \n",
       "20689 Pancreas ENSG00000268364                                      \n",
       "20690 0 ENSG00000070061                                             \n",
       "20691 4 ENSG00000177984                                             \n",
       "20692 Islets ENSG00000148120.10_97781173_97782515                   \n",
       "20693 Pancreas ENSG00000224992                                      \n",
       "20694 Islets ENSG00000165025                                        \n",
       "20695 Islets ENSG00000135047.10_90343500_90343912                   \n",
       "20696 0 ENSG00000136867                                             \n",
       "20697 Islets ENSG00000232063                                        \n",
       "20698 0 ENST00000388711                                             \n",
       "20699 Islets ENSG00000165092                                        \n",
       "20700 Pancreas chr9:137484736:137488068:clu_48442:ENSG00000130653.15\n",
       "20701 Islets ENSG00000164978                                        \n",
       "20702 Pancreas ENSG00000096968                                      \n",
       "20703 2 ENSG00000148175                                             \n",
       "20704 2 ENSG00000197958                                             \n",
       "20705 Islets ENSG00000119522                                        \n",
       "20706 Islets ENSG00000165140.5_97367739_97367858                    \n",
       "20707 Islets ENSG00000159921.10_36276891_36277053                   \n",
       "20708 Pancreas ENSG00000148143                                      \n",
       "20709 Pancreas ENSG00000187764                                      \n",
       "20710 Pancreas ENSG00000175764                                      \n",
       "20711 1 ENSG00000187764                                             \n",
       "20712 2 ENSG00000230074                                             \n",
       "      phenotype            topsnp            dist_f  dist_i  dist_p \n",
       "1     gene_expression      10_88718436_A_C    164351   11876    8021\n",
       "2     gene_expression      10_115248677_G_T  1097551  190717  118706\n",
       "3     gene_expression      10_51585752_C_T     28831   41277   13924\n",
       "4     alternative_splicing 10_52018090_T_C     92123 8406382  155913\n",
       "5     gene_expression      10_125717416_A_G    65516   44558   65515\n",
       "6     alternative_splicing 10_81938096_T_C     52088    3083  124832\n",
       "7     alternative_splicing 10_99056921_C_G    170038   98640  371545\n",
       "8     alternative_splicing 10_104487382_C_T    31358 1733349    7507\n",
       "9     gene_expression      10_62259224_G_A    395965 1172824  196538\n",
       "10    alternative_splicing 10_13747195_T_C     13780   66922   60553\n",
       "11    alternative_splicing 10_105125451_C_A   117980 2371418  183543\n",
       "12    gene_expression      10_82157446_T_C    272257   14079  137952\n",
       "13    gene_expression      10_18849190_G_T    125161   57437   40123\n",
       "14    gene_expression      10_101750367_TA_T   75206  276192  228590\n",
       "15    gene_expression      10_85898172_C_G   2984615   43136   33887\n",
       "16    alternative_splicing 10_124088367_G_A  2213611   46436  185234\n",
       "17    gene_expression      10_54747194_T_C    605617 2104015 2101770\n",
       "18    alternative_splicing 10_79646904_A_G    997302   67653   67653\n",
       "19    gene_expression      10_90051035_G_T    308412  699874   34239\n",
       "20    alternative_splicing 10_81990184_CA_C   202529   25541   52088\n",
       "21    gene_expression      10_12396010_T_C     33137   88116  189817\n",
       "22    gene_expression      10_46327952_G_C     56659  404424   25008\n",
       "23    gene_expression      10_102259568_A_G   172558  213188  243300\n",
       "24    alternative_splicing 10_62195846_C_CA  1621468 7392588 9547819\n",
       "25    gene_expression      10_81990469_T_A    105280   25256   94630\n",
       "26    gene_expression      10_98382165_G_A    586341  498309   62662\n",
       "27    gene_expression      10_15486828_T_G    263396  279837  151020\n",
       "28    gene_expression      10_81732040_G_T     35754   43436   26267\n",
       "29    gene_expression      10_88730312_T_C    152475  246889   11876\n",
       "30    gene_expression      10_38701840_A_AG  3409484   47919   37907\n",
       "⋮     ⋮                    ⋮                 ⋮       ⋮       ⋮      \n",
       "20683 alternative_splicing 9_139570580_G_A     45308  115709   53121\n",
       "20684 alternative_splicing 9_140271211_G_A     31633   94917    9343\n",
       "20685 alternative_splicing 9_133070040_C_T    157935 2375314  481703\n",
       "20686 alternative_splicing 9_89612224_T_C     591746  422505 3016493\n",
       "20687 alternative_splicing 9_100037094_A_C   1232820   51306  892640\n",
       "20688 alternative_splicing 9_2538620_C_T     2199831 2057919  346764\n",
       "20689 gene_expression      9_71920096_T_C      47191  518940   65540\n",
       "20690 gene_expression      9_111831600_G_A     50839   78451   55833\n",
       "20691 gene_expression      9_139932725_C_A     35041   25216    7928\n",
       "20692 alternative_splicing 9_97781919_T_C     432691  378199   45155\n",
       "20693 gene_expression      9_134717091_A_G     78107  354918   88717\n",
       "20694 gene_expression      9_93597537_T_C     695057  312052  490736\n",
       "20695 alternative_splicing 9_90294574_C_A      30248  259845  682350\n",
       "20696 gene_expression      9_115934852_C_A     23809   80777   70607\n",
       "20697 gene_expression      9_97177113_A_G      59330  161231   94875\n",
       "20698 alternative_splicing 9_88644548_CT_C   1228363 1390181  967676\n",
       "20699 gene_expression      9_75560874_C_T    2136757   46157   36264\n",
       "20700 alternative_splicing 9_140382862_A_G     72445  199860   63264\n",
       "20701 gene_expression      9_34360287_T_C     282697  251781   18286\n",
       "20702 gene_expression      9_4832130_C_A       56455   39693   23159\n",
       "20703 gene_expression      9_124425705_C_G    146920  389751  295797\n",
       "20704 gene_expression      9_130486184_C_CA    28852   96990    9024\n",
       "20705 gene_expression      9_126694094_T_A    296124  184495  291764\n",
       "20706 alternative_splicing 9_97355268_C_T      93696   48452  471806\n",
       "20707 alternative_splicing 9_36262120_C_T      68806   56725  572169\n",
       "20708 gene_expression      9_109772202_A_G   1315830 1315476 1315755\n",
       "20709 gene_expression      9_91982278_T_G    1568476 1199221   18596\n",
       "20710 gene_expression      9_124855211_C_T     45063   39755  171908\n",
       "20711 gene_expression      9_92226389_AG_A   1324365  955110  244111\n",
       "20712 gene_expression      9_35084598_G_C       4625   83678   28929\n",
       "      r2_f        r2_i        r2_p        chr in_1kg ld_f  ld_i  ld_p \n",
       "1     0.14243500  0.279692000 3.86061e-01 10  TRUE   FALSE FALSE FALSE\n",
       "2             NA  0.080979600 8.09796e-02 10  TRUE   FALSE FALSE FALSE\n",
       "3     0.00953055  0.017568000 1.51773e-03 10  TRUE   FALSE FALSE FALSE\n",
       "4     0.02732000           NA 3.12876e-02 10  TRUE   FALSE FALSE FALSE\n",
       "5     0.00381160  0.090048100 4.64622e-04 10  TRUE   FALSE FALSE FALSE\n",
       "6     0.02175170  0.103982000 2.94096e-02 10  TRUE   FALSE FALSE FALSE\n",
       "7     0.05610890  0.072266300          NA 10  TRUE   FALSE FALSE FALSE\n",
       "8     0.07365610           NA 1.17010e-01 10  TRUE   FALSE FALSE FALSE\n",
       "9             NA           NA 1.29568e-01 10  TRUE   FALSE FALSE FALSE\n",
       "10    0.42880700  0.038445200 7.23493e-04 10  TRUE   FALSE FALSE FALSE\n",
       "11    0.22282000           NA 1.86983e-02 10  TRUE   FALSE FALSE FALSE\n",
       "12            NA  0.411800000 1.06501e-02 10  TRUE   FALSE FALSE FALSE\n",
       "13    0.34492400  0.146369000 3.65554e-01 10  TRUE   FALSE FALSE FALSE\n",
       "14    0.18286800           NA 1.86213e-02 10  TRUE   FALSE FALSE FALSE\n",
       "15            NA  0.009227360 1.56890e-02 10  TRUE   FALSE FALSE FALSE\n",
       "16            NA  0.030245400 1.23769e-02 10  TRUE   FALSE FALSE FALSE\n",
       "17            NA           NA          NA 10  TRUE   FALSE FALSE FALSE\n",
       "18            NA  0.048096500 4.80965e-02 10  TRUE   FALSE FALSE FALSE\n",
       "19            NA           NA 5.76626e-01 10  TRUE   FALSE FALSE FALSE\n",
       "20    0.01215480  0.042431000 2.37880e-02 10  TRUE   FALSE FALSE FALSE\n",
       "21    0.02914990  0.002631100 8.97646e-05 10  TRUE   FALSE FALSE FALSE\n",
       "22    0.01054020           NA 1.49689e-02 10  TRUE   FALSE FALSE FALSE\n",
       "23    0.00555361  0.000921944 2.91367e-03 10  TRUE   FALSE FALSE FALSE\n",
       "24            NA           NA          NA 10  TRUE   FALSE FALSE FALSE\n",
       "25    0.00125672  0.031650000 1.58559e-03 10  TRUE   FALSE FALSE FALSE\n",
       "26            NA           NA 4.61718e-02 10  TRUE   FALSE FALSE FALSE\n",
       "27            NA           NA 2.38384e-02 10  TRUE   FALSE FALSE FALSE\n",
       "28    0.04294320  0.194263000 1.95942e-01 10  TRUE   FALSE FALSE FALSE\n",
       "29    0.13314500  0.031983400 2.79692e-01 10  TRUE   FALSE FALSE FALSE\n",
       "30            NA  0.010335300 1.18791e-01 10  TRUE   FALSE FALSE FALSE\n",
       "⋮     ⋮           ⋮           ⋮           ⋮   ⋮      ⋮     ⋮     ⋮    \n",
       "20683 0.016716400 7.19550e-03 0.005358380 9   TRUE   FALSE FALSE FALSE\n",
       "20684 0.187824000 2.36766e-07 0.060458500 9   TRUE   FALSE FALSE FALSE\n",
       "20685 0.003802850          NA          NA 9   TRUE   FALSE FALSE FALSE\n",
       "20686          NA          NA          NA 9   TRUE   FALSE FALSE FALSE\n",
       "20687          NA 1.44084e-01          NA 9   TRUE   FALSE FALSE FALSE\n",
       "20688          NA          NA          NA 9   TRUE   FALSE FALSE FALSE\n",
       "20689 0.030705300          NA 0.010971200 9   TRUE   FALSE FALSE FALSE\n",
       "20690 0.231965000 1.62486e-01 0.390070000 9   TRUE   FALSE FALSE FALSE\n",
       "20691 0.083094900 6.01815e-02 0.094782700 9   TRUE   FALSE FALSE FALSE\n",
       "20692          NA          NA 0.221126000 9   TRUE   FALSE FALSE FALSE\n",
       "20693 0.030398100          NA 0.012201800 9   TRUE   FALSE FALSE FALSE\n",
       "20694          NA          NA          NA 9   TRUE   FALSE FALSE FALSE\n",
       "20695 0.014055200          NA          NA 9   TRUE   FALSE FALSE FALSE\n",
       "20696 0.025687600 1.05589e-01 0.131228000 9   TRUE   FALSE FALSE FALSE\n",
       "20697 0.072257500 2.83403e-02 0.365290000 9   TRUE   FALSE FALSE FALSE\n",
       "20698          NA          NA          NA 9   TRUE   FALSE FALSE FALSE\n",
       "20699          NA 3.11037e-02 0.082967000 9   TRUE   FALSE FALSE FALSE\n",
       "20700 0.023193300 2.31933e-02 0.025234300 9   TRUE   FALSE FALSE FALSE\n",
       "20701          NA          NA 0.174674000 9   TRUE   FALSE FALSE FALSE\n",
       "20702 0.066797500 4.34672e-01 0.253938000 9   TRUE   FALSE FALSE FALSE\n",
       "20703 0.000372362          NA          NA 9   TRUE   FALSE FALSE FALSE\n",
       "20704 0.199341000 5.95435e-02 0.504908000 9   TRUE   FALSE FALSE FALSE\n",
       "20705          NA 4.79296e-01          NA 9   TRUE   FALSE FALSE FALSE\n",
       "20706 0.002897500 6.78898e-02          NA 9   TRUE   FALSE FALSE FALSE\n",
       "20707 0.032538600 6.71337e-02          NA 9   TRUE   FALSE FALSE FALSE\n",
       "20708          NA          NA          NA 9   TRUE   FALSE FALSE FALSE\n",
       "20709          NA          NA 0.035504400 9   TRUE   FALSE FALSE FALSE\n",
       "20710 0.000583983 4.81829e-01 0.000735258 9   TRUE   FALSE FALSE FALSE\n",
       "20711          NA          NA 0.000138754 9   TRUE   FALSE FALSE FALSE\n",
       "20712 0.275836000 2.60541e-01 0.392343000 9   TRUE   FALSE FALSE FALSE"
      ]
     },
     "metadata": {},
     "output_type": "display_data"
    }
   ],
   "source": [
    "ldstats %>% filter(ld_f == F & ld_i == F & ld_p == F)"
   ]
  },
  {
   "cell_type": "code",
   "execution_count": null,
   "metadata": {},
   "outputs": [],
   "source": []
  },
  {
   "cell_type": "code",
   "execution_count": null,
   "metadata": {},
   "outputs": [],
   "source": []
  }
 ],
 "metadata": {
  "kernelspec": {
   "display_name": "R 4.2.1",
   "language": "R",
   "name": "ir421"
  },
  "language_info": {
   "codemirror_mode": "r",
   "file_extension": ".r",
   "mimetype": "text/x-r-source",
   "name": "R",
   "pygments_lexer": "r",
   "version": "4.2.1"
  }
 },
 "nbformat": 4,
 "nbformat_minor": 2
}
