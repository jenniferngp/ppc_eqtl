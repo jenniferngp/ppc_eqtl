{
 "cells": [
  {
   "cell_type": "code",
   "execution_count": null,
   "metadata": {},
   "outputs": [],
   "source": [
    "setwd(\"/projects/PPC/analysis/ppc_eqtls\")\n",
    "\n",
    "source(\"scripts/packages.R\"  )\n",
    "source(\"scripts/functions.R\" )\n",
    "\n",
    "dir.create(\"pipeline/1.2.expression\"            , showWarnings = F)\n",
    "dir.create(\"pipeline/1.2.expression/tpm_gene\"   , showWarnings = F)\n",
    "dir.create(\"pipeline/1.2.expression/tpm_isoform\", showWarnings = F)\n",
    "dir.create(\"pipeline/1.2.expression/use_isoform\", showWarnings = F)\n",
    "\n",
    "# Input files\n",
    "\n",
    "metadata              =              fread(\"pipeline/1.1.metadata/metadata.txt\"       , sep = \"\\t\", header = T, data.table = F)\n",
    "meta_rna              =              fread(\"pipeline/1.1.metadata/meta_rna.txt\"       , sep = \"\\t\", header = T, data.table = F)\n",
    "meta_subject          =              fread(\"pipeline/1.1.metadata/meta_subject.txt\"   , sep = \"\\t\", header = T, data.table = F)\n",
    "flagstat              = add_rownames(fread(\"input/phenotypes/flagstat.txt\"            , sep = \"\\t\", header = T, data.table = F))\n",
    "gene_tpm              = add_rownames(fread(\"input/phenotypes/gene_tpm.txt\"            , sep = \"\\t\", header = T, data.table = F))\n",
    "isoform_percent_use   = add_rownames(fread(\"input/phenotypes/isoform_percent_use.txt\" , sep = \"\\t\", header = T, data.table = F))\n",
    "isoform_tpm           = add_rownames(fread(\"input/phenotypes/isoform_tpm.txt\"         , sep = \"\\t\", header = T, data.table = F))\n",
    "\n",
    "# Get expression matrices and filter metadata files\n",
    "\n",
    "flagstat                = flagstat           [ meta_rna$rna_id,]\n",
    "gene_tpm                = gene_tpm           [,meta_rna$rna_id ]\n",
    "isoform_percent_use     = isoform_percent_use[,meta_rna$rna_id ]\n",
    "isoform_tpm             = isoform_tpm        [,meta_rna$rna_id ]\n",
    "\n",
    "message(paste(\"# samples in flagstat:\"    , nrow(flagstat           )))\n",
    "message(paste(\"# samples in gene_tpm:\"    , ncol(gene_tpm           )))\n",
    "message(paste(\"# samples in iso_pct_use:\" , ncol(isoform_percent_use)))\n",
    "message(paste(\"# samples in iso_tpm:\"     , ncol(isoform_tpm        )))\n",
    "\n",
    "# Create RNA covariates (from flagstat)\n",
    "\n",
    "covariates_rna = data.frame(row.names   = rownames(flagstat),\n",
    "                            total_reads = flagstat$total_reads,\n",
    "                            uniquely_mapped_reads                         = 100 * flagstat$both_mapped / flagstat$total_reads,\n",
    "                            uniquely_mapped_reads_to_canonical_chromsomes = 100 * rowSums(flagstat[, c(\"autosomal_reads\", \"chrX_reads\", \"chrY_reads\")]) / flagstat$total_reads,\n",
    "                            mitochondrial_reads                           = 100 * flagstat$chrM_reads / flagstat$total_reads)\n"
   ]
  },
  {
   "cell_type": "code",
   "execution_count": 12,
   "metadata": {},
   "outputs": [],
   "source": [
    "# Find expressed genes\n",
    "gene_info    = fread(\"input/phenotypes/gene_info.txt\"   , sep = \"\\t\", header = T, data.table = F)\n",
    "isoform_info = fread(\"input/phenotypes/isoform_info.txt\", sep = \"\\t\", header = T, data.table = F)\n",
    "\n",
    "gene_info$transcript_id = gene_info$gene_id"
   ]
  },
  {
   "cell_type": "markdown",
   "metadata": {},
   "source": [
    "# Computer PEER with only 2000 genes"
   ]
  },
  {
   "cell_type": "code",
   "execution_count": null,
   "metadata": {},
   "outputs": [],
   "source": [
    "divide_phenotypes_tissue(\"pipeline/1.2.expression/tpm_gene\", gene_tpm, run_peer = T, normalize = T, gene_ids = NULL, filter_exp = T, phenotype_min_value = 1, phenotype_min_samples = 0.1, peer_factor_n = 100, n_genes = 2000)\n"
   ]
  },
  {
   "cell_type": "markdown",
   "metadata": {},
   "source": [
    "# Compute PEER with only 5000 genes"
   ]
  },
  {
   "cell_type": "code",
   "execution_count": null,
   "metadata": {},
   "outputs": [
    {
     "name": "stderr",
     "output_type": "stream",
     "text": [
      "---------------------------\n",
      "\n",
      "Normalizing expression...\n",
      "\n",
      "Total genes/peaks = 62492\n",
      "\n",
      "Total samples = 107\n",
      "\n",
      "Total expressed genes = 17098\n",
      "\n",
      "Computing PEER...\n",
      "\n"
     ]
    }
   ],
   "source": [
    "divide_phenotypes_tissue(\"pipeline/1.2.expression/tpm_gene\", gene_tpm, run_peer = T, normalize = T, gene_ids = NULL, filter_exp = T, phenotype_min_value = 1, phenotype_min_samples = 0.1, peer_factor_n = 60, n_genes = 5000)\n"
   ]
  },
  {
   "cell_type": "code",
   "execution_count": null,
   "metadata": {},
   "outputs": [],
   "source": [
    "message(\"Done.\")"
   ]
  },
  {
   "cell_type": "code",
   "execution_count": 24,
   "metadata": {},
   "outputs": [
    {
     "name": "stderr",
     "output_type": "stream",
     "text": [
      "Normalizing expression...\n",
      "\n",
      "Total genes/peaks = 62492\n",
      "\n",
      "Total samples = 107\n",
      "\n",
      "Total expressed genes = 17098\n",
      "\n"
     ]
    }
   ],
   "source": [
    "# Run individual gene\n",
    "divide_phenotypes_by_gene = function(expdata, outfolder)\n",
    "{\n",
    "    message(\"Dividing phenotype data by gene/peak...\")\n",
    "    \n",
    "    dir.create(outfolder, showWarnings = FALSE)\n",
    "\n",
    "    gene_ids   = expdata$gene_ids\n",
    "    sample_ids = expdata$sample_ids\n",
    "    rawexp     = expdata$tpm_f\n",
    "    normexp    = expdata$tpm_f_std_norm\n",
    "    \n",
    "    invisible(lapply(gene_ids, function(gene)\n",
    "    {\n",
    "        outdata = data.frame(sample_id = sample_ids, raw = as.numeric(rawexp[gene,sample_ids]), norm = as.numeric(normexp[gene,sample_ids]))\n",
    "        fwrite(outdata, paste(outfolder, paste(gene, \"txt\", sep = \".\"), sep = \"/\"), sep = \"\\t\", row.names = FALSE, col.names = TRUE)\n",
    "    }))\n",
    "}\n",
    "\n",
    "meta_rna              =              fread(\"pipeline/1.1.metadata/meta_rna.txt\"       , sep = \"\\t\", header = T, data.table = F)\n",
    "gene_tpm              = add_rownames(fread(\"input/phenotypes/gene_tpm.txt\"            , sep = \"\\t\", header = T, data.table = F))\n",
    "\n",
    "colnames(gene_tpm)[which(colnames(gene_tpm) == \"S02307_PPC_C6P20_PPC083_RNA_R02L01S01\")] = \"S02307_PPC_C6P20_PPC134_RNA_R02L01S01\"\n",
    "colnames(gene_tpm)[which(colnames(gene_tpm) == \"T600_PPC_C4P19_PPC083_RNA_R02L01S01\")] = \"T600_PPC_C4P19_PPC029_RNA_R02L01S01\"\n",
    "\n",
    "expdata = normalize_tpm(\"pipeline/1.2.expression/tpm_gene\", gene_tpm, gene_info, normalize = T, gene_ids = NULL, filter_exp = T, min_tpm = 1, min_samples = 0.1, use = F)\n",
    "\n",
    "gene_ids   = expdata$gene_ids\n",
    "sample_ids = expdata$sample_ids\n",
    "rawexp     = expdata$tpm_f\n",
    "normexp    = expdata$tpm_f_std_norm\n",
    "\n",
    "for (gene in c('ENSG00000006327','ENSG00000168286','ENSG00000104899','ENSG00000105642','ENSG00000287069','ENSG00000013561'))\n",
    "{\n",
    "    outdata = data.frame(sample_id = sample_ids, raw = as.numeric(rawexp[gene,sample_ids]), norm = as.numeric(normexp[gene,sample_ids]))\n",
    "    fwrite(outdata, paste(\"pipeline/1.2.expression/tpm_gene\", paste(gene_info[gene_info$gene_id %like% gene,]$gene_id, \"txt\", sep = \".\"), sep = \"/\"), sep = \"\\t\", row.names = FALSE, col.names = TRUE)\n",
    "}\n",
    "\n",
    "# divide_phenotypes_by_gene(expdata, \"pipeline/1.2.expression/tpm_gene\")\n"
   ]
  },
  {
   "cell_type": "markdown",
   "metadata": {},
   "source": [
    "# Prepare Isoform TPM"
   ]
  },
  {
   "cell_type": "code",
   "execution_count": 7,
   "metadata": {},
   "outputs": [],
   "source": [
    "genes_expressed        = readLines(\"pipeline/1.2.expression/tpm_gene.gene_ids.txt\")\n",
    "isoforms_expressed     = isoform_info[isoform_info$gene_id %in% genes_expressed,]\n",
    "gene2isoform_expressed = table(isoforms_expressed$gene_id)\n",
    "isoforms_to_remove     = names(gene2isoform_expressed[gene2isoform_expressed == 1])\n",
    "isoforms_expressed     = isoforms_expressed[!isoforms_expressed$gene_id %in% isoforms_to_remove, \"transcript_id\"]\n"
   ]
  },
  {
   "cell_type": "code",
   "execution_count": 3,
   "metadata": {},
   "outputs": [
    {
     "name": "stderr",
     "output_type": "stream",
     "text": [
      "---------------------------\n",
      "\n",
      "Normalizing expression...\n",
      "\n",
      "Total genes/peaks = 142818\n",
      "\n",
      "Total samples = 107\n",
      "\n",
      "Total expressed genes = 61144\n",
      "\n",
      "Dividing phenotype data by gene/peak...\n",
      "\n"
     ]
    }
   ],
   "source": [
    "divide_phenotypes_tissue(\"pipeline/1.2.expression/tpm_isoform\", isoform_tpm, run_peer = F, \n",
    "                         normalize = T, gene_ids = isoforms_expressed, filter_exp = T, phenotype_min_value = 1, phenotype_min_samples = 0.1)\n"
   ]
  },
  {
   "cell_type": "markdown",
   "metadata": {},
   "source": [
    "# Prepare Isoform use"
   ]
  },
  {
   "cell_type": "code",
   "execution_count": 5,
   "metadata": {},
   "outputs": [
    {
     "name": "stderr",
     "output_type": "stream",
     "text": [
      "---------------------------\n",
      "\n",
      "Normalizing expression...\n",
      "\n",
      "Total genes/peaks = 61144\n",
      "\n",
      "Total samples = 107\n",
      "\n",
      "Total expressed genes = 30925\n",
      "\n",
      "Dividing phenotype data by gene/peak...\n",
      "\n"
     ]
    }
   ],
   "source": [
    "isoforms_expressed = readLines(\"pipeline/1.2.expression/tpm_isoform.gene_ids.txt\")\n",
    "\n",
    "divide_phenotypes_tissue(\"pipeline/1.2.expression/use_isoform\", isoform_percent_use, geneinfo = isoform_info, run_peer = FALSE, normalize = TRUE, gene_ids = isoforms_expressed, \n",
    "                         filter_exp = TRUE, phenotype_min_value = 10, phenotype_min_samples = 0.1, use = TRUE)\n",
    "\n"
   ]
  },
  {
   "cell_type": "markdown",
   "metadata": {},
   "source": [
    "# Update metadata and covariates"
   ]
  },
  {
   "cell_type": "code",
   "execution_count": null,
   "metadata": {},
   "outputs": [],
   "source": [
    "isoforms_use_expressed = readLines(\"pipeline/1.2.expression/use_isoform.gene_ids.txt\")\n",
    "\n",
    "# Rewrite gene and isoform information\n",
    "gene_info_filtered    = gene_info   [gene_info   $gene_id       %in% genes_expressed       ,]\n",
    "isoform_info_filtered = isoform_info[isoform_info$transcript_id %in% isoforms_use_expressed,]\n",
    "\n",
    "fwrite(gene_info_filtered   , \"pipeline/1.2.expression/gene_info.txt\"    , sep = \"\\t\", col.names = TRUE, row.names = FALSE)\n",
    "fwrite(isoform_info_filtered, \"pipeline/1.2.expression/isoform_info.txt\" , sep = \"\\t\", col.names = TRUE, row.names = FALSE)\n",
    "\n",
    "# Write metadata output\n",
    "peer_factors   = add_rownames(fread(\"pipeline/1.2.expression/tpm_gene.peer.factors.txt\", sep = \"\\t\", header = TRUE , data.table = FALSE))\n",
    "covariates_rna = add_rownames(merge(peer_factors, covariates_rna, by = \"row.names\"))\n",
    "\n",
    "head(covariates_rna)\n",
    "\n",
    "pc_factors     = add_rownames(fread(\"pipeline/1.2.expression/tpm_gene.pc.factors.txt\", sep = \"\\t\", header = T, data.table = F))\n",
    "covariates_rna = add_rownames(merge(covariates_rna, pc_factors, by = \"row.names\"))\n",
    "\n",
    "head(covariates_rna)\n",
    "\n",
    "wgs_id_vcf = unlist(strsplit(system(\"bcftools query -l input/genotype/ipscore.vcf.gz\", intern = TRUE), split = \"\\t\"))\n",
    "metadata$vcf       = FALSE\n",
    "\n",
    "metadata[metadata$wgs_id %in% wgs_id_vcf, \"vcf\"] = TRUE\n",
    "\n",
    "fwrite(covariates_rna, \"pipeline/1.2.expression/covariates_rna.txt\" , sep = \"\\t\", col.names = TRUE, row.names = TRUE )\n",
    "fwrite(metadata      , \"pipeline/1.2.expression/metadata.txt\"       , sep = \"\\t\", col.names = TRUE, row.names = FALSE)\n",
    "fwrite(meta_subject  , \"pipeline/1.2.expression/meta_subject.txt\"   , sep = \"\\t\", col.names = TRUE, row.names = FALSE)"
   ]
  },
  {
   "cell_type": "code",
   "execution_count": null,
   "metadata": {},
   "outputs": [],
   "source": []
  }
 ],
 "metadata": {
  "kernelspec": {
   "display_name": "R 4.1",
   "language": "R",
   "name": "ir41"
  },
  "language_info": {
   "codemirror_mode": "r",
   "file_extension": ".r",
   "mimetype": "text/x-r-source",
   "name": "R",
   "pygments_lexer": "r",
   "version": "4.1.0"
  }
 },
 "nbformat": 4,
 "nbformat_minor": 2
}
