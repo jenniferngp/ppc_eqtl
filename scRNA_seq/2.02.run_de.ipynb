{
 "cells": [
  {
   "cell_type": "code",
   "execution_count": 1,
   "metadata": {},
   "outputs": [],
   "source": [
    "suppressMessages(library(Seurat))\n",
    "suppressMessages(library(ggplot2))\n",
    "suppressMessages(library(dplyr))\n",
    "suppressMessages(library(plyr))\n",
    "suppressMessages(library(cowplot))\n",
    "\n",
    "suppressMessages(source(\"~/scripts/functions.R\"))\n",
    "\n",
    "setwd(\"/frazer01/home/jennifer/jn_projects/ppc_pilot\")"
   ]
  },
  {
   "cell_type": "code",
   "execution_count": 2,
   "metadata": {},
   "outputs": [
    {
     "name": "stdout",
     "output_type": "stream",
     "text": [
      "Loading objects:\n",
      "  ppc2\n"
     ]
    }
   ],
   "source": [
    "load(\"manuscript/ppc_filt2.robj\", verbose = T)"
   ]
  },
  {
   "cell_type": "code",
   "execution_count": 3,
   "metadata": {},
   "outputs": [],
   "source": [
    "meta = ppc2@meta.data"
   ]
  },
  {
   "cell_type": "code",
   "execution_count": 13,
   "metadata": {},
   "outputs": [
    {
     "name": "stderr",
     "output_type": "stream",
     "text": [
      "qsub -N Mesendoderm -o logs -e logs -V -cwd -pe smp 3 -l short script/2.scRNA_seq_redo/qsub.run_de.sh Mesendoderm\n",
      "\n",
      "qsub -N Rep. Late PPC -o logs -e logs -V -cwd -pe smp 3 -l short script/2.scRNA_seq_redo/qsub.run_de.sh Rep. Late PPC\n",
      "\n",
      "qsub -N iPSC -o logs -e logs -V -cwd -pe smp 3 -l short script/2.scRNA_seq_redo/qsub.run_de.sh iPSC\n",
      "\n",
      "qsub -N Late PPC -o logs -e logs -V -cwd -pe smp 3 -l short script/2.scRNA_seq_redo/qsub.run_de.sh Late PPC\n",
      "\n",
      "qsub -N Early DE -o logs -e logs -V -cwd -pe smp 3 -l short script/2.scRNA_seq_redo/qsub.run_de.sh Early DE\n",
      "\n",
      "qsub -N Early PPC -o logs -e logs -V -cwd -pe smp 3 -l short script/2.scRNA_seq_redo/qsub.run_de.sh Early PPC\n",
      "\n",
      "qsub -N Endocrine -o logs -e logs -V -cwd -pe smp 3 -l short script/2.scRNA_seq_redo/qsub.run_de.sh Endocrine\n",
      "\n",
      "qsub -N Early Ductal -o logs -e logs -V -cwd -pe smp 3 -l short script/2.scRNA_seq_redo/qsub.run_de.sh Early Ductal\n",
      "\n"
     ]
    }
   ],
   "source": [
    "for (cell in unique(meta$cell))\n",
    "{\n",
    "    cmd = paste(\"qsub -N\", cell, \"-o logs\", \"-e logs\", \"-V -cwd\", \"-pe smp 3\", \"-l short\", \"script/2.scRNA_seq_redo/qsub.run_de.sh\", cell)\n",
    "    message(cmd)\n",
    "    system(cmd)\n",
    "}"
   ]
  },
  {
   "cell_type": "code",
   "execution_count": 17,
   "metadata": {},
   "outputs": [
    {
     "data": {
      "text/plain": [
       "   \n",
       "    Early DE Early Ductal Early PPC Endocrine  iPSC Late PPC Mesendoderm\n",
       "  0        0            0         0         0     0    52083           0\n",
       "  1        0            0         0         0     0        0           0\n",
       "  2        0            0         0         0  8092        0           0\n",
       "  3        0            0      5411         0     0        0           0\n",
       "  4        0            0         0         0     0        0        4360\n",
       "  5     1990            0         0         0     0        0           0\n",
       "  6        0            0         0       951     0        0           0\n",
       "  7        0          392         0         0     0        0           0\n",
       "   \n",
       "    Rep. Late PPC\n",
       "  0             0\n",
       "  1         10946\n",
       "  2             0\n",
       "  3             0\n",
       "  4             0\n",
       "  5             0\n",
       "  6             0\n",
       "  7             0"
      ]
     },
     "metadata": {},
     "output_type": "display_data"
    }
   ],
   "source": [
    "table(ppc2@meta.data$integrated_snn_res.0.08, ppc2@meta.data$cell)"
   ]
  },
  {
   "cell_type": "code",
   "execution_count": 27,
   "metadata": {},
   "outputs": [
    {
     "data": {
      "text/html": [
       "<table class=\"dataframe\">\n",
       "<caption>A data.frame: 8 × 2</caption>\n",
       "<thead>\n",
       "\t<tr><th></th><th scope=col>cell</th><th scope=col>integrated_snn_res.0.08</th></tr>\n",
       "\t<tr><th></th><th scope=col>&lt;chr&gt;</th><th scope=col>&lt;fct&gt;</th></tr>\n",
       "</thead>\n",
       "<tbody>\n",
       "\t<tr><th scope=row>AAACCCAAGAACCGCA-6_3</th><td>Mesendoderm  </td><td>4</td></tr>\n",
       "\t<tr><th scope=row>AAACCCAAGAAGTCAT-2_3</th><td>Rep. Late PPC</td><td>1</td></tr>\n",
       "\t<tr><th scope=row>AAACCCAAGACCATGG-1_3</th><td>iPSC         </td><td>2</td></tr>\n",
       "\t<tr><th scope=row>AAACCCAAGAGGGTCT-1_1</th><td>Late PPC     </td><td>0</td></tr>\n",
       "\t<tr><th scope=row>AAACCCACACATACGT-8_3</th><td>Early DE     </td><td>5</td></tr>\n",
       "\t<tr><th scope=row>AAACCCACAGAAGTGC-6_3</th><td>Early PPC    </td><td>3</td></tr>\n",
       "\t<tr><th scope=row>AAACCCACATTCTGTT-7_3</th><td>Endocrine    </td><td>6</td></tr>\n",
       "\t<tr><th scope=row>AACAGGGAGATTTGCC-4_3</th><td>Early Ductal </td><td>7</td></tr>\n",
       "</tbody>\n",
       "</table>\n"
      ],
      "text/latex": [
       "A data.frame: 8 × 2\n",
       "\\begin{tabular}{r|ll}\n",
       "  & cell & integrated\\_snn\\_res.0.08\\\\\n",
       "  & <chr> & <fct>\\\\\n",
       "\\hline\n",
       "\tAAACCCAAGAACCGCA-6\\_3 & Mesendoderm   & 4\\\\\n",
       "\tAAACCCAAGAAGTCAT-2\\_3 & Rep. Late PPC & 1\\\\\n",
       "\tAAACCCAAGACCATGG-1\\_3 & iPSC          & 2\\\\\n",
       "\tAAACCCAAGAGGGTCT-1\\_1 & Late PPC      & 0\\\\\n",
       "\tAAACCCACACATACGT-8\\_3 & Early DE      & 5\\\\\n",
       "\tAAACCCACAGAAGTGC-6\\_3 & Early PPC     & 3\\\\\n",
       "\tAAACCCACATTCTGTT-7\\_3 & Endocrine     & 6\\\\\n",
       "\tAACAGGGAGATTTGCC-4\\_3 & Early Ductal  & 7\\\\\n",
       "\\end{tabular}\n"
      ],
      "text/markdown": [
       "\n",
       "A data.frame: 8 × 2\n",
       "\n",
       "| <!--/--> | cell &lt;chr&gt; | integrated_snn_res.0.08 &lt;fct&gt; |\n",
       "|---|---|---|\n",
       "| AAACCCAAGAACCGCA-6_3 | Mesendoderm   | 4 |\n",
       "| AAACCCAAGAAGTCAT-2_3 | Rep. Late PPC | 1 |\n",
       "| AAACCCAAGACCATGG-1_3 | iPSC          | 2 |\n",
       "| AAACCCAAGAGGGTCT-1_1 | Late PPC      | 0 |\n",
       "| AAACCCACACATACGT-8_3 | Early DE      | 5 |\n",
       "| AAACCCACAGAAGTGC-6_3 | Early PPC     | 3 |\n",
       "| AAACCCACATTCTGTT-7_3 | Endocrine     | 6 |\n",
       "| AACAGGGAGATTTGCC-4_3 | Early Ductal  | 7 |\n",
       "\n"
      ],
      "text/plain": [
       "                     cell          integrated_snn_res.0.08\n",
       "AAACCCAAGAACCGCA-6_3 Mesendoderm   4                      \n",
       "AAACCCAAGAAGTCAT-2_3 Rep. Late PPC 1                      \n",
       "AAACCCAAGACCATGG-1_3 iPSC          2                      \n",
       "AAACCCAAGAGGGTCT-1_1 Late PPC      0                      \n",
       "AAACCCACACATACGT-8_3 Early DE      5                      \n",
       "AAACCCACAGAAGTGC-6_3 Early PPC     3                      \n",
       "AAACCCACATTCTGTT-7_3 Endocrine     6                      \n",
       "AACAGGGAGATTTGCC-4_3 Early Ductal  7                      "
      ]
     },
     "metadata": {},
     "output_type": "display_data"
    }
   ],
   "source": [
    "map = unique(ppc2@meta.data[,c(\"cell\", \"integrated_snn_res.0.08\")])\n",
    "map"
   ]
  },
  {
   "cell_type": "code",
   "execution_count": 21,
   "metadata": {},
   "outputs": [],
   "source": [
    "de = fread(\"rna_markers_March2022_03.2.txt\", data.table = F)\n",
    "de$cell = suppressMessages(mapvalues(de$cluster, from = map$integrated_snn_res.0.08, to = map$cell))"
   ]
  },
  {
   "cell_type": "code",
   "execution_count": 26,
   "metadata": {},
   "outputs": [
    {
     "data": {
      "text/html": [
       "<table class=\"dataframe\">\n",
       "<caption>A data.frame: 5 × 8</caption>\n",
       "<thead>\n",
       "\t<tr><th></th><th scope=col>p_val</th><th scope=col>avg_log2FC</th><th scope=col>pct.1</th><th scope=col>pct.2</th><th scope=col>p_val_adj</th><th scope=col>cluster</th><th scope=col>gene</th><th scope=col>cell</th></tr>\n",
       "\t<tr><th></th><th scope=col>&lt;dbl&gt;</th><th scope=col>&lt;dbl&gt;</th><th scope=col>&lt;dbl&gt;</th><th scope=col>&lt;dbl&gt;</th><th scope=col>&lt;dbl&gt;</th><th scope=col>&lt;int&gt;</th><th scope=col>&lt;chr&gt;</th><th scope=col>&lt;chr&gt;</th></tr>\n",
       "</thead>\n",
       "<tbody>\n",
       "\t<tr><th scope=row>1</th><td>0</td><td>7.776282</td><td>0.986</td><td>0.073</td><td>0</td><td>6</td><td>CHGA  </td><td>Endocrine</td></tr>\n",
       "\t<tr><th scope=row>2</th><td>0</td><td>7.194679</td><td>0.339</td><td>0.040</td><td>0</td><td>6</td><td>SST   </td><td>Endocrine</td></tr>\n",
       "\t<tr><th scope=row>3</th><td>0</td><td>6.574307</td><td>0.520</td><td>0.027</td><td>0</td><td>6</td><td>INS   </td><td>Endocrine</td></tr>\n",
       "\t<tr><th scope=row>4</th><td>0</td><td>3.517817</td><td>0.667</td><td>0.202</td><td>0</td><td>6</td><td>APOA2 </td><td>Endocrine</td></tr>\n",
       "\t<tr><th scope=row>5</th><td>0</td><td>3.353254</td><td>0.965</td><td>0.528</td><td>0</td><td>6</td><td>PCSK1N</td><td>Endocrine</td></tr>\n",
       "</tbody>\n",
       "</table>\n"
      ],
      "text/latex": [
       "A data.frame: 5 × 8\n",
       "\\begin{tabular}{r|llllllll}\n",
       "  & p\\_val & avg\\_log2FC & pct.1 & pct.2 & p\\_val\\_adj & cluster & gene & cell\\\\\n",
       "  & <dbl> & <dbl> & <dbl> & <dbl> & <dbl> & <int> & <chr> & <chr>\\\\\n",
       "\\hline\n",
       "\t1 & 0 & 7.776282 & 0.986 & 0.073 & 0 & 6 & CHGA   & Endocrine\\\\\n",
       "\t2 & 0 & 7.194679 & 0.339 & 0.040 & 0 & 6 & SST    & Endocrine\\\\\n",
       "\t3 & 0 & 6.574307 & 0.520 & 0.027 & 0 & 6 & INS    & Endocrine\\\\\n",
       "\t4 & 0 & 3.517817 & 0.667 & 0.202 & 0 & 6 & APOA2  & Endocrine\\\\\n",
       "\t5 & 0 & 3.353254 & 0.965 & 0.528 & 0 & 6 & PCSK1N & Endocrine\\\\\n",
       "\\end{tabular}\n"
      ],
      "text/markdown": [
       "\n",
       "A data.frame: 5 × 8\n",
       "\n",
       "| <!--/--> | p_val &lt;dbl&gt; | avg_log2FC &lt;dbl&gt; | pct.1 &lt;dbl&gt; | pct.2 &lt;dbl&gt; | p_val_adj &lt;dbl&gt; | cluster &lt;int&gt; | gene &lt;chr&gt; | cell &lt;chr&gt; |\n",
       "|---|---|---|---|---|---|---|---|---|\n",
       "| 1 | 0 | 7.776282 | 0.986 | 0.073 | 0 | 6 | CHGA   | Endocrine |\n",
       "| 2 | 0 | 7.194679 | 0.339 | 0.040 | 0 | 6 | SST    | Endocrine |\n",
       "| 3 | 0 | 6.574307 | 0.520 | 0.027 | 0 | 6 | INS    | Endocrine |\n",
       "| 4 | 0 | 3.517817 | 0.667 | 0.202 | 0 | 6 | APOA2  | Endocrine |\n",
       "| 5 | 0 | 3.353254 | 0.965 | 0.528 | 0 | 6 | PCSK1N | Endocrine |\n",
       "\n"
      ],
      "text/plain": [
       "  p_val avg_log2FC pct.1 pct.2 p_val_adj cluster gene   cell     \n",
       "1 0     7.776282   0.986 0.073 0         6       CHGA   Endocrine\n",
       "2 0     7.194679   0.339 0.040 0         6       SST    Endocrine\n",
       "3 0     6.574307   0.520 0.027 0         6       INS    Endocrine\n",
       "4 0     3.517817   0.667 0.202 0         6       APOA2  Endocrine\n",
       "5 0     3.353254   0.965 0.528 0         6       PCSK1N Endocrine"
      ]
     },
     "metadata": {},
     "output_type": "display_data"
    }
   ],
   "source": [
    "de %>% filter(cell == \"Endocrine\") %>% arrange(p_val_adj, desc(avg_log2FC)) %>% head(5)"
   ]
  },
  {
   "cell_type": "code",
   "execution_count": null,
   "metadata": {},
   "outputs": [],
   "source": []
  }
 ],
 "metadata": {
  "kernelspec": {
   "display_name": "R 4.1.1",
   "language": "R",
   "name": "ir411"
  },
  "language_info": {
   "codemirror_mode": "r",
   "file_extension": ".r",
   "mimetype": "text/x-r-source",
   "name": "R",
   "pygments_lexer": "r",
   "version": "4.1.1"
  }
 },
 "nbformat": 4,
 "nbformat_minor": 2
}
